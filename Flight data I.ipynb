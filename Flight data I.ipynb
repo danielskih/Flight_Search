{
 "cells": [
  {
   "cell_type": "code",
   "execution_count": null,
   "metadata": {},
   "outputs": [],
   "source": [
    "import pandas as pd\n",
    "import numpy as np"
   ]
  },
  {
   "cell_type": "code",
   "execution_count": 92,
   "metadata": {},
   "outputs": [],
   "source": [
    "from sklearn.cluster import KMeans"
   ]
  },
  {
   "cell_type": "code",
   "execution_count": 80,
   "metadata": {},
   "outputs": [],
   "source": [
    "df = pd.read_csv('German Air Fares.csv')"
   ]
  },
  {
   "cell_type": "code",
   "execution_count": 81,
   "metadata": {},
   "outputs": [],
   "source": [
    "df['price (€)'] =list(map(lambda x: x.replace(',', '.') if ',' in x else x, df['price (€)']))"
   ]
  },
  {
   "cell_type": "code",
   "execution_count": 82,
   "metadata": {},
   "outputs": [],
   "source": [
    "df['price (€)']=df['price (€)'].astype('float')"
   ]
  },
  {
   "cell_type": "code",
   "execution_count": 83,
   "metadata": {},
   "outputs": [],
   "source": [
    "df['arrival_city']=list(map(lambda x: x.lower().replace(' ',''), df['arrival_city'].astype('str')))"
   ]
  },
  {
   "cell_type": "code",
   "execution_count": 84,
   "metadata": {},
   "outputs": [],
   "source": [
    "df['departure_city']=list(map(lambda x: x.lower().replace(' ',''), df['departure_city'].astype('str')))"
   ]
  },
  {
   "cell_type": "code",
   "execution_count": 85,
   "metadata": {},
   "outputs": [
    {
     "data": {
      "text/plain": [
       "arrival_city     departure_city   \n",
       "brebremen        frafrankfurt/main     66.050635\n",
       "                 mucmünchen           101.207440\n",
       "                 strstuttgart         125.088513\n",
       "cgnköln/bonn     drsdresden           109.371614\n",
       "                 hamhamburg           108.804658\n",
       "                                         ...    \n",
       "txlberlin-tegel  frafrankfurt/main     38.846067\n",
       "                 mucmünchen            51.177235\n",
       "                 nuenürnberg           64.184855\n",
       "                 scnsaarbrücken       441.268490\n",
       "                 strstuttgart         121.391769\n",
       "Name: price (€), Length: 91, dtype: float64"
      ]
     },
     "execution_count": 85,
     "metadata": {},
     "output_type": "execute_result"
    }
   ],
   "source": [
    "df.groupby(['arrival_city', 'departure_city'])['price (€)'].std()"
   ]
  },
  {
   "cell_type": "code",
   "execution_count": 86,
   "metadata": {},
   "outputs": [
    {
     "data": {
      "text/plain": [
       "arrival_city     departure_city   \n",
       "brebremen        frafrankfurt/main     202.0\n",
       "                 mucmünchen            182.0\n",
       "                 strstuttgart          236.0\n",
       "cgnköln/bonn     drsdresden            320.0\n",
       "                 hamhamburg            145.0\n",
       "                                       ...  \n",
       "txlberlin-tegel  frafrankfurt/main      61.0\n",
       "                 mucmünchen             69.0\n",
       "                 nuenürnberg           124.0\n",
       "                 scnsaarbrücken       1047.0\n",
       "                 strstuttgart          111.0\n",
       "Name: price (€), Length: 91, dtype: float64"
      ]
     },
     "execution_count": 86,
     "metadata": {},
     "output_type": "execute_result"
    }
   ],
   "source": [
    "df.groupby(['arrival_city', 'departure_city'])['price (€)'].median()"
   ]
  },
  {
   "cell_type": "code",
   "execution_count": 87,
   "metadata": {},
   "outputs": [],
   "source": [
    "visited =[]"
   ]
  },
  {
   "cell_type": "code",
   "execution_count": 88,
   "metadata": {},
   "outputs": [],
   "source": [
    "departing = []"
   ]
  },
  {
   "cell_type": "code",
   "execution_count": 79,
   "metadata": {},
   "outputs": [
    {
     "data": {
      "text/plain": [
       "TXL Berlin-Tegel         13158\n",
       "DUS Düsseldorf            6506\n",
       "MUC München               6327\n",
       "HAM Hamburg               5978\n",
       "STR Stuttgart             4637\n",
       "CGN Köln/Bonn             4471\n",
       "NUE Nürnberg              3987\n",
       "FRA Frankfurt/Main        3855\n",
       "FDH Friedrichshafen       2651\n",
       "DRS Dresden               2617\n",
       "LEJ Leipzig/Halle         2275\n",
       "HAJ Hannover              1543\n",
       "BRE Bremen                1453\n",
       "FKB Karlsruhe/Baden-B     1284\n",
       "SCN Saarbrücken            793\n",
       "FMO Münster/Osnabrück      638\n",
       "DTM Dortmund               228\n",
       "PAD Paderborn/Lippsta      165\n",
       "RLG Rostock-Laage           60\n",
       "Name: departure_city, dtype: int64"
      ]
     },
     "execution_count": 79,
     "metadata": {},
     "output_type": "execute_result"
    }
   ],
   "source": [
    "df.departure_city.value_counts()"
   ]
  },
  {
   "cell_type": "code",
   "execution_count": 112,
   "metadata": {},
   "outputs": [],
   "source": [
    "dff = pd.read_csv('Data/Cleaned_2018_Flights.csv')"
   ]
  },
  {
   "cell_type": "code",
   "execution_count": 4,
   "metadata": {},
   "outputs": [
    {
     "data": {
      "text/html": [
       "<div>\n",
       "<style scoped>\n",
       "    .dataframe tbody tr th:only-of-type {\n",
       "        vertical-align: middle;\n",
       "    }\n",
       "\n",
       "    .dataframe tbody tr th {\n",
       "        vertical-align: top;\n",
       "    }\n",
       "\n",
       "    .dataframe thead th {\n",
       "        text-align: right;\n",
       "    }\n",
       "</style>\n",
       "<table border=\"1\" class=\"dataframe\">\n",
       "  <thead>\n",
       "    <tr style=\"text-align: right;\">\n",
       "      <th></th>\n",
       "      <th>Unnamed: 0</th>\n",
       "      <th>ItinID</th>\n",
       "      <th>MktID</th>\n",
       "      <th>MktCoupons</th>\n",
       "      <th>Quarter</th>\n",
       "      <th>OriginWac</th>\n",
       "      <th>DestWac</th>\n",
       "      <th>Miles</th>\n",
       "      <th>ContiguousUSA</th>\n",
       "      <th>NumTicketsOrdered</th>\n",
       "      <th>PricePerTicket</th>\n",
       "    </tr>\n",
       "  </thead>\n",
       "  <tbody>\n",
       "    <tr>\n",
       "      <th>count</th>\n",
       "      <td>9.534417e+06</td>\n",
       "      <td>9.534417e+06</td>\n",
       "      <td>9.534417e+06</td>\n",
       "      <td>9.534417e+06</td>\n",
       "      <td>9.534417e+06</td>\n",
       "      <td>9.534417e+06</td>\n",
       "      <td>9.534417e+06</td>\n",
       "      <td>9.534417e+06</td>\n",
       "      <td>9.534417e+06</td>\n",
       "      <td>9.534417e+06</td>\n",
       "      <td>9.534417e+06</td>\n",
       "    </tr>\n",
       "    <tr>\n",
       "      <th>mean</th>\n",
       "      <td>4.767208e+06</td>\n",
       "      <td>1.759457e+11</td>\n",
       "      <td>1.759457e+13</td>\n",
       "      <td>1.018007e+00</td>\n",
       "      <td>2.557957e+00</td>\n",
       "      <td>5.466834e+01</td>\n",
       "      <td>5.462018e+01</td>\n",
       "      <td>1.201739e+03</td>\n",
       "      <td>1.944869e+00</td>\n",
       "      <td>2.410631e+00</td>\n",
       "      <td>2.324497e+02</td>\n",
       "    </tr>\n",
       "    <tr>\n",
       "      <th>std</th>\n",
       "      <td>2.752349e+06</td>\n",
       "      <td>6.349516e+10</td>\n",
       "      <td>6.349516e+12</td>\n",
       "      <td>1.330694e-01</td>\n",
       "      <td>1.112684e+00</td>\n",
       "      <td>2.801241e+01</td>\n",
       "      <td>2.805461e+01</td>\n",
       "      <td>6.971492e+02</td>\n",
       "      <td>2.282366e-01</td>\n",
       "      <td>2.879671e+00</td>\n",
       "      <td>1.433412e+02</td>\n",
       "    </tr>\n",
       "    <tr>\n",
       "      <th>min</th>\n",
       "      <td>0.000000e+00</td>\n",
       "      <td>2.018110e+10</td>\n",
       "      <td>2.018110e+12</td>\n",
       "      <td>1.000000e+00</td>\n",
       "      <td>1.000000e+00</td>\n",
       "      <td>1.000000e+00</td>\n",
       "      <td>1.000000e+00</td>\n",
       "      <td>1.100000e+01</td>\n",
       "      <td>1.000000e+00</td>\n",
       "      <td>1.000000e+00</td>\n",
       "      <td>5.000000e+01</td>\n",
       "    </tr>\n",
       "    <tr>\n",
       "      <th>25%</th>\n",
       "      <td>2.383604e+06</td>\n",
       "      <td>2.018135e+11</td>\n",
       "      <td>2.018135e+13</td>\n",
       "      <td>1.000000e+00</td>\n",
       "      <td>2.000000e+00</td>\n",
       "      <td>3.300000e+01</td>\n",
       "      <td>3.300000e+01</td>\n",
       "      <td>6.790000e+02</td>\n",
       "      <td>2.000000e+00</td>\n",
       "      <td>1.000000e+00</td>\n",
       "      <td>1.339100e+02</td>\n",
       "    </tr>\n",
       "    <tr>\n",
       "      <th>50%</th>\n",
       "      <td>4.767208e+06</td>\n",
       "      <td>2.018248e+11</td>\n",
       "      <td>2.018248e+13</td>\n",
       "      <td>1.000000e+00</td>\n",
       "      <td>3.000000e+00</td>\n",
       "      <td>4.400000e+01</td>\n",
       "      <td>4.400000e+01</td>\n",
       "      <td>1.028000e+03</td>\n",
       "      <td>2.000000e+00</td>\n",
       "      <td>1.000000e+00</td>\n",
       "      <td>1.971900e+02</td>\n",
       "    </tr>\n",
       "    <tr>\n",
       "      <th>75%</th>\n",
       "      <td>7.150812e+06</td>\n",
       "      <td>2.018352e+11</td>\n",
       "      <td>2.018352e+13</td>\n",
       "      <td>1.000000e+00</td>\n",
       "      <td>4.000000e+00</td>\n",
       "      <td>8.200000e+01</td>\n",
       "      <td>8.200000e+01</td>\n",
       "      <td>1.609000e+03</td>\n",
       "      <td>2.000000e+00</td>\n",
       "      <td>2.000000e+00</td>\n",
       "      <td>2.900000e+02</td>\n",
       "    </tr>\n",
       "    <tr>\n",
       "      <th>max</th>\n",
       "      <td>9.534416e+06</td>\n",
       "      <td>2.018454e+11</td>\n",
       "      <td>2.018454e+13</td>\n",
       "      <td>3.000000e+00</td>\n",
       "      <td>4.000000e+00</td>\n",
       "      <td>9.300000e+01</td>\n",
       "      <td>9.300000e+01</td>\n",
       "      <td>5.095000e+03</td>\n",
       "      <td>2.000000e+00</td>\n",
       "      <td>2.000000e+01</td>\n",
       "      <td>1.000000e+03</td>\n",
       "    </tr>\n",
       "  </tbody>\n",
       "</table>\n",
       "</div>"
      ],
      "text/plain": [
       "         Unnamed: 0        ItinID         MktID    MktCoupons       Quarter  \\\n",
       "count  9.534417e+06  9.534417e+06  9.534417e+06  9.534417e+06  9.534417e+06   \n",
       "mean   4.767208e+06  1.759457e+11  1.759457e+13  1.018007e+00  2.557957e+00   \n",
       "std    2.752349e+06  6.349516e+10  6.349516e+12  1.330694e-01  1.112684e+00   \n",
       "min    0.000000e+00  2.018110e+10  2.018110e+12  1.000000e+00  1.000000e+00   \n",
       "25%    2.383604e+06  2.018135e+11  2.018135e+13  1.000000e+00  2.000000e+00   \n",
       "50%    4.767208e+06  2.018248e+11  2.018248e+13  1.000000e+00  3.000000e+00   \n",
       "75%    7.150812e+06  2.018352e+11  2.018352e+13  1.000000e+00  4.000000e+00   \n",
       "max    9.534416e+06  2.018454e+11  2.018454e+13  3.000000e+00  4.000000e+00   \n",
       "\n",
       "          OriginWac       DestWac         Miles  ContiguousUSA  \\\n",
       "count  9.534417e+06  9.534417e+06  9.534417e+06   9.534417e+06   \n",
       "mean   5.466834e+01  5.462018e+01  1.201739e+03   1.944869e+00   \n",
       "std    2.801241e+01  2.805461e+01  6.971492e+02   2.282366e-01   \n",
       "min    1.000000e+00  1.000000e+00  1.100000e+01   1.000000e+00   \n",
       "25%    3.300000e+01  3.300000e+01  6.790000e+02   2.000000e+00   \n",
       "50%    4.400000e+01  4.400000e+01  1.028000e+03   2.000000e+00   \n",
       "75%    8.200000e+01  8.200000e+01  1.609000e+03   2.000000e+00   \n",
       "max    9.300000e+01  9.300000e+01  5.095000e+03   2.000000e+00   \n",
       "\n",
       "       NumTicketsOrdered  PricePerTicket  \n",
       "count       9.534417e+06    9.534417e+06  \n",
       "mean        2.410631e+00    2.324497e+02  \n",
       "std         2.879671e+00    1.433412e+02  \n",
       "min         1.000000e+00    5.000000e+01  \n",
       "25%         1.000000e+00    1.339100e+02  \n",
       "50%         1.000000e+00    1.971900e+02  \n",
       "75%         2.000000e+00    2.900000e+02  \n",
       "max         2.000000e+01    1.000000e+03  "
      ]
     },
     "execution_count": 4,
     "metadata": {},
     "output_type": "execute_result"
    }
   ],
   "source": [
    "dff.describe()"
   ]
  },
  {
   "cell_type": "code",
   "execution_count": 7,
   "metadata": {},
   "outputs": [
    {
     "data": {
      "text/html": [
       "<div>\n",
       "<style scoped>\n",
       "    .dataframe tbody tr th:only-of-type {\n",
       "        vertical-align: middle;\n",
       "    }\n",
       "\n",
       "    .dataframe tbody tr th {\n",
       "        vertical-align: top;\n",
       "    }\n",
       "\n",
       "    .dataframe thead th {\n",
       "        text-align: right;\n",
       "    }\n",
       "</style>\n",
       "<table border=\"1\" class=\"dataframe\">\n",
       "  <thead>\n",
       "    <tr style=\"text-align: right;\">\n",
       "      <th></th>\n",
       "      <th>Unnamed: 0</th>\n",
       "      <th>ItinID</th>\n",
       "      <th>MktID</th>\n",
       "      <th>MktCoupons</th>\n",
       "      <th>Quarter</th>\n",
       "      <th>Origin</th>\n",
       "      <th>OriginWac</th>\n",
       "      <th>Dest</th>\n",
       "      <th>DestWac</th>\n",
       "      <th>Miles</th>\n",
       "      <th>ContiguousUSA</th>\n",
       "      <th>NumTicketsOrdered</th>\n",
       "      <th>AirlineCompany</th>\n",
       "      <th>PricePerTicket</th>\n",
       "    </tr>\n",
       "  </thead>\n",
       "  <tbody>\n",
       "    <tr>\n",
       "      <th>0</th>\n",
       "      <td>0</td>\n",
       "      <td>20181767585</td>\n",
       "      <td>2018176758501</td>\n",
       "      <td>1</td>\n",
       "      <td>1</td>\n",
       "      <td>PHL</td>\n",
       "      <td>23</td>\n",
       "      <td>LAX</td>\n",
       "      <td>91</td>\n",
       "      <td>2402.0</td>\n",
       "      <td>2</td>\n",
       "      <td>1.0</td>\n",
       "      <td>AA</td>\n",
       "      <td>672.87</td>\n",
       "    </tr>\n",
       "    <tr>\n",
       "      <th>1</th>\n",
       "      <td>1</td>\n",
       "      <td>20181767586</td>\n",
       "      <td>2018176758601</td>\n",
       "      <td>1</td>\n",
       "      <td>1</td>\n",
       "      <td>PHL</td>\n",
       "      <td>23</td>\n",
       "      <td>LAX</td>\n",
       "      <td>91</td>\n",
       "      <td>2402.0</td>\n",
       "      <td>2</td>\n",
       "      <td>1.0</td>\n",
       "      <td>AA</td>\n",
       "      <td>367.68</td>\n",
       "    </tr>\n",
       "    <tr>\n",
       "      <th>2</th>\n",
       "      <td>2</td>\n",
       "      <td>20181767587</td>\n",
       "      <td>2018176758701</td>\n",
       "      <td>1</td>\n",
       "      <td>1</td>\n",
       "      <td>PHL</td>\n",
       "      <td>23</td>\n",
       "      <td>LAX</td>\n",
       "      <td>91</td>\n",
       "      <td>2402.0</td>\n",
       "      <td>2</td>\n",
       "      <td>1.0</td>\n",
       "      <td>AA</td>\n",
       "      <td>417.94</td>\n",
       "    </tr>\n",
       "    <tr>\n",
       "      <th>3</th>\n",
       "      <td>3</td>\n",
       "      <td>20181767636</td>\n",
       "      <td>2018176763601</td>\n",
       "      <td>1</td>\n",
       "      <td>1</td>\n",
       "      <td>PHL</td>\n",
       "      <td>23</td>\n",
       "      <td>LAX</td>\n",
       "      <td>91</td>\n",
       "      <td>2402.0</td>\n",
       "      <td>2</td>\n",
       "      <td>1.0</td>\n",
       "      <td>AA</td>\n",
       "      <td>247.10</td>\n",
       "    </tr>\n",
       "    <tr>\n",
       "      <th>4</th>\n",
       "      <td>4</td>\n",
       "      <td>20181767637</td>\n",
       "      <td>2018176763701</td>\n",
       "      <td>1</td>\n",
       "      <td>1</td>\n",
       "      <td>PHL</td>\n",
       "      <td>23</td>\n",
       "      <td>LAX</td>\n",
       "      <td>91</td>\n",
       "      <td>2402.0</td>\n",
       "      <td>2</td>\n",
       "      <td>1.0</td>\n",
       "      <td>AA</td>\n",
       "      <td>276.35</td>\n",
       "    </tr>\n",
       "  </tbody>\n",
       "</table>\n",
       "</div>"
      ],
      "text/plain": [
       "   Unnamed: 0       ItinID          MktID  MktCoupons  Quarter Origin  \\\n",
       "0           0  20181767585  2018176758501           1        1    PHL   \n",
       "1           1  20181767586  2018176758601           1        1    PHL   \n",
       "2           2  20181767587  2018176758701           1        1    PHL   \n",
       "3           3  20181767636  2018176763601           1        1    PHL   \n",
       "4           4  20181767637  2018176763701           1        1    PHL   \n",
       "\n",
       "   OriginWac Dest  DestWac   Miles  ContiguousUSA  NumTicketsOrdered  \\\n",
       "0         23  LAX       91  2402.0              2                1.0   \n",
       "1         23  LAX       91  2402.0              2                1.0   \n",
       "2         23  LAX       91  2402.0              2                1.0   \n",
       "3         23  LAX       91  2402.0              2                1.0   \n",
       "4         23  LAX       91  2402.0              2                1.0   \n",
       "\n",
       "  AirlineCompany  PricePerTicket  \n",
       "0             AA          672.87  \n",
       "1             AA          367.68  \n",
       "2             AA          417.94  \n",
       "3             AA          247.10  \n",
       "4             AA          276.35  "
      ]
     },
     "execution_count": 7,
     "metadata": {},
     "output_type": "execute_result"
    }
   ],
   "source": [
    "dff.head()"
   ]
  },
  {
   "cell_type": "code",
   "execution_count": 9,
   "metadata": {},
   "outputs": [
    {
     "data": {
      "text/plain": [
       "LAX    415297\n",
       "ATL    412245\n",
       "DEN    372116\n",
       "ORD    333387\n",
       "SFO    308119\n",
       "        ...  \n",
       "RDM         1\n",
       "COU         1\n",
       "MMH         1\n",
       "ERI         1\n",
       "RKS         1\n",
       "Name: Origin, Length: 263, dtype: int64"
      ]
     },
     "execution_count": 9,
     "metadata": {},
     "output_type": "execute_result"
    }
   ],
   "source": [
    "dff.Origin.value_counts()"
   ]
  },
  {
   "cell_type": "code",
   "execution_count": 71,
   "metadata": {},
   "outputs": [
    {
     "data": {
      "text/plain": [
       "(9534417, 14)"
      ]
     },
     "execution_count": 71,
     "metadata": {},
     "output_type": "execute_result"
    }
   ],
   "source": [
    "dff.shape"
   ]
  },
  {
   "cell_type": "code",
   "execution_count": 12,
   "metadata": {},
   "outputs": [
    {
     "data": {
      "text/plain": [
       "5095.0"
      ]
     },
     "execution_count": 12,
     "metadata": {},
     "output_type": "execute_result"
    }
   ],
   "source": [
    "dff.Miles.max()"
   ]
  },
  {
   "cell_type": "code",
   "execution_count": 22,
   "metadata": {},
   "outputs": [
    {
     "data": {
      "text/html": [
       "<div>\n",
       "<style scoped>\n",
       "    .dataframe tbody tr th:only-of-type {\n",
       "        vertical-align: middle;\n",
       "    }\n",
       "\n",
       "    .dataframe tbody tr th {\n",
       "        vertical-align: top;\n",
       "    }\n",
       "\n",
       "    .dataframe thead th {\n",
       "        text-align: right;\n",
       "    }\n",
       "</style>\n",
       "<table border=\"1\" class=\"dataframe\">\n",
       "  <thead>\n",
       "    <tr style=\"text-align: right;\">\n",
       "      <th></th>\n",
       "      <th>arrival_city</th>\n",
       "      <th>departure_city</th>\n",
       "    </tr>\n",
       "  </thead>\n",
       "  <tbody>\n",
       "    <tr>\n",
       "      <th>0</th>\n",
       "      <td>arrival_city</td>\n",
       "      <td>departure_city</td>\n",
       "    </tr>\n",
       "    <tr>\n",
       "      <th>1</th>\n",
       "      <td>arrival_city</td>\n",
       "      <td>departure_city</td>\n",
       "    </tr>\n",
       "    <tr>\n",
       "      <th>2</th>\n",
       "      <td>arrival_city</td>\n",
       "      <td>departure_city</td>\n",
       "    </tr>\n",
       "    <tr>\n",
       "      <th>3</th>\n",
       "      <td>arrival_city</td>\n",
       "      <td>departure_city</td>\n",
       "    </tr>\n",
       "    <tr>\n",
       "      <th>4</th>\n",
       "      <td>arrival_city</td>\n",
       "      <td>departure_city</td>\n",
       "    </tr>\n",
       "    <tr>\n",
       "      <th>...</th>\n",
       "      <td>...</td>\n",
       "      <td>...</td>\n",
       "    </tr>\n",
       "    <tr>\n",
       "      <th>62622</th>\n",
       "      <td>arrival_city</td>\n",
       "      <td>departure_city</td>\n",
       "    </tr>\n",
       "    <tr>\n",
       "      <th>62623</th>\n",
       "      <td>arrival_city</td>\n",
       "      <td>departure_city</td>\n",
       "    </tr>\n",
       "    <tr>\n",
       "      <th>62624</th>\n",
       "      <td>arrival_city</td>\n",
       "      <td>departure_city</td>\n",
       "    </tr>\n",
       "    <tr>\n",
       "      <th>62625</th>\n",
       "      <td>arrival_city</td>\n",
       "      <td>departure_city</td>\n",
       "    </tr>\n",
       "    <tr>\n",
       "      <th>62626</th>\n",
       "      <td>arrival_city</td>\n",
       "      <td>departure_city</td>\n",
       "    </tr>\n",
       "  </tbody>\n",
       "</table>\n",
       "<p>62627 rows × 2 columns</p>\n",
       "</div>"
      ],
      "text/plain": [
       "       arrival_city  departure_city\n",
       "0      arrival_city  departure_city\n",
       "1      arrival_city  departure_city\n",
       "2      arrival_city  departure_city\n",
       "3      arrival_city  departure_city\n",
       "4      arrival_city  departure_city\n",
       "...             ...             ...\n",
       "62622  arrival_city  departure_city\n",
       "62623  arrival_city  departure_city\n",
       "62624  arrival_city  departure_city\n",
       "62625  arrival_city  departure_city\n",
       "62626  arrival_city  departure_city\n",
       "\n",
       "[62627 rows x 2 columns]"
      ]
     },
     "execution_count": 22,
     "metadata": {},
     "output_type": "execute_result"
    }
   ],
   "source": [
    "df[['arrival_city', 'departure_city']]"
   ]
  },
  {
   "cell_type": "code",
   "execution_count": 50,
   "metadata": {},
   "outputs": [
    {
     "data": {
      "text/plain": [
       "Origin  Dest\n",
       "ABE     ATL     105.843642\n",
       "        FLL      47.274093\n",
       "        MYR      26.950785\n",
       "        ORD      57.471316\n",
       "        PGD      49.680145\n",
       "                   ...    \n",
       "YAK     PHX     471.640223\n",
       "        SEA     139.134748\n",
       "        TUS            NaN\n",
       "YNG     PIE      26.870058\n",
       "        SFB      14.047538\n",
       "Name: PricePerTicket, Length: 8471, dtype: float64"
      ]
     },
     "execution_count": 50,
     "metadata": {},
     "output_type": "execute_result"
    }
   ],
   "source": [
    "dff.groupby(['Origin', 'Dest'])['PricePerTicket'].std()"
   ]
  },
  {
   "cell_type": "code",
   "execution_count": 51,
   "metadata": {},
   "outputs": [
    {
     "data": {
      "text/plain": [
       "Dest  Origin\n",
       "ABE   ATL       108.016269\n",
       "      FLL        44.246708\n",
       "      MYR        25.950391\n",
       "      ORD       125.996825\n",
       "      PGD        46.668853\n",
       "                   ...    \n",
       "YAK   PHX              NaN\n",
       "      SEA       140.084227\n",
       "      TUS              NaN\n",
       "YNG   PIE        14.738999\n",
       "      SFB        73.539105\n",
       "Name: PricePerTicket, Length: 8471, dtype: float64"
      ]
     },
     "execution_count": 51,
     "metadata": {},
     "output_type": "execute_result"
    }
   ],
   "source": [
    "dff.groupby([ 'Dest', 'Origin'])['PricePerTicket'].std()"
   ]
  },
  {
   "cell_type": "code",
   "execution_count": 109,
   "metadata": {},
   "outputs": [
    {
     "data": {
      "text/plain": [
       "Unnamed: 0           False\n",
       "ItinID               False\n",
       "MktID                False\n",
       "MktCoupons           False\n",
       "Quarter              False\n",
       "Origin               False\n",
       "OriginWac            False\n",
       "Dest                 False\n",
       "DestWac              False\n",
       "Miles                False\n",
       "ContiguousUSA        False\n",
       "NumTicketsOrdered    False\n",
       "AirlineCompany       False\n",
       "PricePerTicket       False\n",
       "dtype: bool"
      ]
     },
     "execution_count": 109,
     "metadata": {},
     "output_type": "execute_result"
    }
   ],
   "source": [
    "dff.isna().any()"
   ]
  },
  {
   "cell_type": "code",
   "execution_count": 113,
   "metadata": {},
   "outputs": [],
   "source": [
    "geo = pd.read_csv('Data/US_airports_geo.csv')"
   ]
  },
  {
   "cell_type": "code",
   "execution_count": 114,
   "metadata": {},
   "outputs": [
    {
     "data": {
      "text/plain": [
       "IATA         False\n",
       "AIRPORT      False\n",
       "CITY          True\n",
       "STATE         True\n",
       "COUNTRY      False\n",
       "LATITUDE     False\n",
       "LONGITUDE    False\n",
       "dtype: bool"
      ]
     },
     "execution_count": 114,
     "metadata": {},
     "output_type": "execute_result"
    }
   ],
   "source": [
    "geo.isna().any()"
   ]
  },
  {
   "cell_type": "markdown",
   "metadata": {},
   "source": [
    "### We going to need coordinates. Lets join a data set with geodata of the airports."
   ]
  },
  {
   "cell_type": "code",
   "execution_count": 115,
   "metadata": {},
   "outputs": [],
   "source": [
    "flights = pd.merge(geo, dff, how='inner', left_on='IATA', right_on='Origin')"
   ]
  },
  {
   "cell_type": "code",
   "execution_count": 116,
   "metadata": {},
   "outputs": [
    {
     "data": {
      "text/plain": [
       "(9418167, 21)"
      ]
     },
     "execution_count": 116,
     "metadata": {},
     "output_type": "execute_result"
    }
   ],
   "source": [
    "flights.shape"
   ]
  },
  {
   "cell_type": "code",
   "execution_count": null,
   "metadata": {},
   "outputs": [],
   "source": [
    "flights.drop(['COUNTRY', 'Unnamed: 0', 'IATA','MktCoupons' ],axis=True, inplace=True)"
   ]
  },
  {
   "cell_type": "code",
   "execution_count": 120,
   "metadata": {},
   "outputs": [],
   "source": [
    "flights.drop(['IATA' ],axis=True, inplace=True)"
   ]
  },
  {
   "cell_type": "code",
   "execution_count": 154,
   "metadata": {},
   "outputs": [
    {
     "data": {
      "text/html": [
       "<div>\n",
       "<style scoped>\n",
       "    .dataframe tbody tr th:only-of-type {\n",
       "        vertical-align: middle;\n",
       "    }\n",
       "\n",
       "    .dataframe tbody tr th {\n",
       "        vertical-align: top;\n",
       "    }\n",
       "\n",
       "    .dataframe thead th {\n",
       "        text-align: right;\n",
       "    }\n",
       "</style>\n",
       "<table border=\"1\" class=\"dataframe\">\n",
       "  <thead>\n",
       "    <tr style=\"text-align: right;\">\n",
       "      <th></th>\n",
       "      <th>AIRPORT</th>\n",
       "      <th>CITY</th>\n",
       "      <th>STATE</th>\n",
       "      <th>LATITUDE</th>\n",
       "      <th>LONGITUDE</th>\n",
       "      <th>ItinID</th>\n",
       "      <th>MktID</th>\n",
       "      <th>Quarter</th>\n",
       "      <th>Origin</th>\n",
       "      <th>OriginWac</th>\n",
       "      <th>Dest</th>\n",
       "      <th>DestWac</th>\n",
       "      <th>Miles</th>\n",
       "      <th>ContiguousUSA</th>\n",
       "      <th>NumTicketsOrdered</th>\n",
       "      <th>AirlineCompany</th>\n",
       "      <th>PricePerTicket</th>\n",
       "      <th>departure</th>\n",
       "    </tr>\n",
       "  </thead>\n",
       "  <tbody>\n",
       "    <tr>\n",
       "      <th>2898</th>\n",
       "      <td>Albuquerque International</td>\n",
       "      <td>Albuquerque</td>\n",
       "      <td>NM</td>\n",
       "      <td>35.040222</td>\n",
       "      <td>-106.609194</td>\n",
       "      <td>20181100617</td>\n",
       "      <td>2018110061701</td>\n",
       "      <td>1</td>\n",
       "      <td>ABQ</td>\n",
       "      <td>86</td>\n",
       "      <td>DFW</td>\n",
       "      <td>74</td>\n",
       "      <td>569.0</td>\n",
       "      <td>2</td>\n",
       "      <td>1.0</td>\n",
       "      <td>AA</td>\n",
       "      <td>109.0</td>\n",
       "      <td>2018-01-01 00:00:00</td>\n",
       "    </tr>\n",
       "    <tr>\n",
       "      <th>2899</th>\n",
       "      <td>Albuquerque International</td>\n",
       "      <td>Albuquerque</td>\n",
       "      <td>NM</td>\n",
       "      <td>35.040222</td>\n",
       "      <td>-106.609194</td>\n",
       "      <td>20181100618</td>\n",
       "      <td>2018110061801</td>\n",
       "      <td>1</td>\n",
       "      <td>ABQ</td>\n",
       "      <td>86</td>\n",
       "      <td>DFW</td>\n",
       "      <td>74</td>\n",
       "      <td>569.0</td>\n",
       "      <td>2</td>\n",
       "      <td>1.0</td>\n",
       "      <td>AA</td>\n",
       "      <td>118.0</td>\n",
       "      <td>2018-01-01 00:00:03</td>\n",
       "    </tr>\n",
       "    <tr>\n",
       "      <th>2900</th>\n",
       "      <td>Albuquerque International</td>\n",
       "      <td>Albuquerque</td>\n",
       "      <td>NM</td>\n",
       "      <td>35.040222</td>\n",
       "      <td>-106.609194</td>\n",
       "      <td>20181100619</td>\n",
       "      <td>2018110061901</td>\n",
       "      <td>1</td>\n",
       "      <td>ABQ</td>\n",
       "      <td>86</td>\n",
       "      <td>DFW</td>\n",
       "      <td>74</td>\n",
       "      <td>569.0</td>\n",
       "      <td>2</td>\n",
       "      <td>1.0</td>\n",
       "      <td>AA</td>\n",
       "      <td>122.0</td>\n",
       "      <td>2018-01-01 00:00:06</td>\n",
       "    </tr>\n",
       "    <tr>\n",
       "      <th>2901</th>\n",
       "      <td>Albuquerque International</td>\n",
       "      <td>Albuquerque</td>\n",
       "      <td>NM</td>\n",
       "      <td>35.040222</td>\n",
       "      <td>-106.609194</td>\n",
       "      <td>20181100620</td>\n",
       "      <td>2018110062001</td>\n",
       "      <td>1</td>\n",
       "      <td>ABQ</td>\n",
       "      <td>86</td>\n",
       "      <td>DFW</td>\n",
       "      <td>74</td>\n",
       "      <td>569.0</td>\n",
       "      <td>2</td>\n",
       "      <td>1.0</td>\n",
       "      <td>AA</td>\n",
       "      <td>127.0</td>\n",
       "      <td>2018-01-01 00:00:09</td>\n",
       "    </tr>\n",
       "    <tr>\n",
       "      <th>2902</th>\n",
       "      <td>Albuquerque International</td>\n",
       "      <td>Albuquerque</td>\n",
       "      <td>NM</td>\n",
       "      <td>35.040222</td>\n",
       "      <td>-106.609194</td>\n",
       "      <td>20181100621</td>\n",
       "      <td>2018110062101</td>\n",
       "      <td>1</td>\n",
       "      <td>ABQ</td>\n",
       "      <td>86</td>\n",
       "      <td>DFW</td>\n",
       "      <td>74</td>\n",
       "      <td>569.0</td>\n",
       "      <td>2</td>\n",
       "      <td>1.0</td>\n",
       "      <td>AA</td>\n",
       "      <td>137.0</td>\n",
       "      <td>2018-01-01 00:00:12</td>\n",
       "    </tr>\n",
       "  </tbody>\n",
       "</table>\n",
       "</div>"
      ],
      "text/plain": [
       "                        AIRPORT         CITY STATE   LATITUDE   LONGITUDE  \\\n",
       "2898  Albuquerque International  Albuquerque    NM  35.040222 -106.609194   \n",
       "2899  Albuquerque International  Albuquerque    NM  35.040222 -106.609194   \n",
       "2900  Albuquerque International  Albuquerque    NM  35.040222 -106.609194   \n",
       "2901  Albuquerque International  Albuquerque    NM  35.040222 -106.609194   \n",
       "2902  Albuquerque International  Albuquerque    NM  35.040222 -106.609194   \n",
       "\n",
       "           ItinID          MktID  Quarter Origin  OriginWac Dest  DestWac  \\\n",
       "2898  20181100617  2018110061701        1    ABQ         86  DFW       74   \n",
       "2899  20181100618  2018110061801        1    ABQ         86  DFW       74   \n",
       "2900  20181100619  2018110061901        1    ABQ         86  DFW       74   \n",
       "2901  20181100620  2018110062001        1    ABQ         86  DFW       74   \n",
       "2902  20181100621  2018110062101        1    ABQ         86  DFW       74   \n",
       "\n",
       "      Miles  ContiguousUSA  NumTicketsOrdered AirlineCompany  PricePerTicket  \\\n",
       "2898  569.0              2                1.0             AA           109.0   \n",
       "2899  569.0              2                1.0             AA           118.0   \n",
       "2900  569.0              2                1.0             AA           122.0   \n",
       "2901  569.0              2                1.0             AA           127.0   \n",
       "2902  569.0              2                1.0             AA           137.0   \n",
       "\n",
       "               departure  \n",
       "2898 2018-01-01 00:00:00  \n",
       "2899 2018-01-01 00:00:03  \n",
       "2900 2018-01-01 00:00:06  \n",
       "2901 2018-01-01 00:00:09  \n",
       "2902 2018-01-01 00:00:12  "
      ]
     },
     "execution_count": 154,
     "metadata": {},
     "output_type": "execute_result"
    }
   ],
   "source": [
    "flights.head()"
   ]
  },
  {
   "cell_type": "code",
   "execution_count": 146,
   "metadata": {},
   "outputs": [],
   "source": [
    "flights.sort_values('MktID',ascending=True, inplace = True)"
   ]
  },
  {
   "cell_type": "code",
   "execution_count": 93,
   "metadata": {},
   "outputs": [],
   "source": [
    "import matplotlib.pyplot as plt\n",
    "import seaborn as sns"
   ]
  },
  {
   "cell_type": "code",
   "execution_count": 106,
   "metadata": {},
   "outputs": [
    {
     "data": {
      "image/png": "[encoded data removed]",
      "text/plain": [
       "<Figure size 576x576 with 1 Axes>"
      ]
     },
     "metadata": {
      "needs_background": "light"
     },
     "output_type": "display_data"
    }
   ],
   "source": [
    "plt.style.use('_mpl-gallery')\n",
    "x = geo.LATITUDE\n",
    "y = geo.LONGITUDE\n",
    "\n",
    "\n",
    "# plot\n",
    "fig, ax = plt.subplots(figsize=(8, 8))\n",
    "\n",
    "ax.scatter(x, y )\n",
    "\n",
    "# ax.set(xlim=(0, 8), xticks=np.arange(1, 8),\n",
    "#        ylim=(0, 8), yticks=np.arange(1, 8))\n",
    "\n",
    "plt.show()"
   ]
  },
  {
   "cell_type": "markdown",
   "metadata": {},
   "source": [
    "### There is no depart - arrive time, so I need to ctreate it."
   ]
  },
  {
   "cell_type": "code",
   "execution_count": 265,
   "metadata": {},
   "outputs": [],
   "source": [
    "flights['departure'] = 0"
   ]
  },
  {
   "cell_type": "markdown",
   "metadata": {},
   "source": [
    "#### Some flights are not round trips."
   ]
  },
  {
   "cell_type": "code",
   "execution_count": 206,
   "metadata": {},
   "outputs": [
    {
     "data": {
      "text/plain": [
       "False"
      ]
     },
     "execution_count": 206,
     "metadata": {},
     "output_type": "execute_result"
    }
   ],
   "source": [
    "pd.unique(flights.Origin).size == pd.unique(flights.Dest).size"
   ]
  },
  {
   "cell_type": "markdown",
   "metadata": {},
   "source": [
    "Need to find all the permutations of the airports.\n",
    "    \n",
    "Count the occurence of each of them and then spread them evenly through the year.\n",
    "        \n",
    "Group by FTW."
   ]
  },
  {
   "cell_type": "code",
   "execution_count": 197,
   "metadata": {},
   "outputs": [],
   "source": [
    "from itertools import chain"
   ]
  },
  {
   "cell_type": "code",
   "execution_count": 191,
   "metadata": {},
   "outputs": [],
   "source": [
    "kgb=flights.groupby(['Origin', 'Dest'])['departure'].value_counts()"
   ]
  },
  {
   "cell_type": "code",
   "execution_count": 356,
   "metadata": {},
   "outputs": [],
   "source": [
    "flights['departure'] = list(chain(*[pd.date_range(start='2020/01/01', end='2020/12/30', periods=i) for i in kgb]))"
   ]
  },
  {
   "cell_type": "markdown",
   "metadata": {},
   "source": [
    "Try same with the same but group by aggregate..."
   ]
  },
  {
   "cell_type": "code",
   "execution_count": 363,
   "metadata": {},
   "outputs": [],
   "source": [
    "flights['departure'] = flights['departure'].dt.floor('T')"
   ]
  },
  {
   "cell_type": "code",
   "execution_count": 3,
   "metadata": {},
   "outputs": [
    {
     "ename": "NameError",
     "evalue": "name 'plt' is not defined",
     "output_type": "error",
     "traceback": [
      "\u001b[0;31m---------------------------------------------------------------------------\u001b[0m",
      "\u001b[0;31mNameError\u001b[0m                                 Traceback (most recent call last)",
      "Input \u001b[0;32mIn [3]\u001b[0m, in \u001b[0;36m<cell line: 1>\u001b[0;34m()\u001b[0m\n\u001b[0;32m----> 1\u001b[0m \u001b[43mplt\u001b[49m\u001b[38;5;241m.\u001b[39msubplots(figsize\u001b[38;5;241m=\u001b[39m(\u001b[38;5;241m5\u001b[39m, \u001b[38;5;241m3\u001b[39m))\n\u001b[1;32m      3\u001b[0m g \u001b[38;5;241m=\u001b[39m flights[(flights[\u001b[38;5;124m'\u001b[39m\u001b[38;5;124mOrigin\u001b[39m\u001b[38;5;124m'\u001b[39m]\u001b[38;5;241m==\u001b[39m\u001b[38;5;124m'\u001b[39m\u001b[38;5;124mABE\u001b[39m\u001b[38;5;124m'\u001b[39m) \u001b[38;5;241m&\u001b[39m (flights[\u001b[38;5;124m'\u001b[39m\u001b[38;5;124mDest\u001b[39m\u001b[38;5;124m'\u001b[39m]\u001b[38;5;241m==\u001b[39m\u001b[38;5;124m'\u001b[39m\u001b[38;5;124mMYR\u001b[39m\u001b[38;5;124m'\u001b[39m)][\u001b[38;5;124m'\u001b[39m\u001b[38;5;124mdeparture\u001b[39m\u001b[38;5;124m'\u001b[39m]\n\u001b[1;32m      4\u001b[0m sns\u001b[38;5;241m.\u001b[39mhistplot(g, bins\u001b[38;5;241m=\u001b[39m\u001b[38;5;241m12\u001b[39m)\n",
      "\u001b[0;31mNameError\u001b[0m: name 'plt' is not defined"
     ]
    }
   ],
   "source": [
    "plt.subplots(figsize=(5, 3))\n",
    "\n",
    "g = flights[(flights['Origin']=='ABE') & (flights['Dest']=='MYR')]['departure']\n",
    "sns.histplot(g, bins=12)"
   ]
  },
  {
   "cell_type": "code",
   "execution_count": 2,
   "metadata": {},
   "outputs": [
    {
     "ename": "NameError",
     "evalue": "name 'g' is not defined",
     "output_type": "error",
     "traceback": [
      "\u001b[0;31m---------------------------------------------------------------------------\u001b[0m",
      "\u001b[0;31mNameError\u001b[0m                                 Traceback (most recent call last)",
      "Input \u001b[0;32mIn [2]\u001b[0m, in \u001b[0;36m<cell line: 1>\u001b[0;34m()\u001b[0m\n\u001b[0;32m----> 1\u001b[0m \u001b[43mg\u001b[49m\n",
      "\u001b[0;31mNameError\u001b[0m: name 'g' is not defined"
     ]
    }
   ],
   "source": [
    "g"
   ]
  },
  {
   "cell_type": "code",
   "execution_count": 270,
   "metadata": {},
   "outputs": [
    {
     "data": {
      "text/plain": [
       "Origin  Dest  departure\n",
       "ABE     ATL   0            414\n",
       "        FLL   0            321\n",
       "        MYR   0            281\n",
       "        ORD   0              5\n",
       "        PGD   0            830\n",
       "                          ... \n",
       "YAK     CDV   0              6\n",
       "        JNU   0             99\n",
       "        PHX   0              2\n",
       "        SEA   0             96\n",
       "        TUS   0              1\n",
       "Name: departure, Length: 8192, dtype: int64"
      ]
     },
     "execution_count": 270,
     "metadata": {},
     "output_type": "execute_result"
    }
   ],
   "source": [
    "kgb"
   ]
  },
  {
   "cell_type": "code",
   "execution_count": 372,
   "metadata": {},
   "outputs": [
    {
     "data": {
      "text/plain": [
       "Series([], Name: departure, dtype: datetime64[ns])"
      ]
     },
     "execution_count": 372,
     "metadata": {},
     "output_type": "execute_result"
    }
   ],
   "source": [
    "flights[(flights['Origin']=='ABE') & (flights['Dest']=='JNU')]['departure']"
   ]
  },
  {
   "cell_type": "markdown",
   "metadata": {},
   "source": [
    "## My one-liner time distribution fails miserably... Lets go a bit more secure way."
   ]
  },
  {
   "cell_type": "code",
   "execution_count": 390,
   "metadata": {},
   "outputs": [],
   "source": [
    "from math import floor, ceil"
   ]
  },
  {
   "cell_type": "code",
   "execution_count": 271,
   "metadata": {},
   "outputs": [],
   "source": [
    "flights['departure']=0"
   ]
  },
  {
   "cell_type": "code",
   "execution_count": null,
   "metadata": {},
   "outputs": [],
   "source": [
    "fl_part = flights.iloc[:200, :]\n",
    "fl_part.sort_values(['Origin', 'Dest'], inplace=True)"
   ]
  },
  {
   "cell_type": "code",
   "execution_count": 600,
   "metadata": {},
   "outputs": [
    {
     "data": {
      "text/html": [
       "<div>\n",
       "<style scoped>\n",
       "    .dataframe tbody tr th:only-of-type {\n",
       "        vertical-align: middle;\n",
       "    }\n",
       "\n",
       "    .dataframe tbody tr th {\n",
       "        vertical-align: top;\n",
       "    }\n",
       "\n",
       "    .dataframe thead th {\n",
       "        text-align: right;\n",
       "    }\n",
       "</style>\n",
       "<table border=\"1\" class=\"dataframe\">\n",
       "  <thead>\n",
       "    <tr style=\"text-align: right;\">\n",
       "      <th></th>\n",
       "      <th>AIRPORT</th>\n",
       "      <th>CITY</th>\n",
       "      <th>STATE</th>\n",
       "      <th>LATITUDE</th>\n",
       "      <th>LONGITUDE</th>\n",
       "      <th>ItinID</th>\n",
       "      <th>MktID</th>\n",
       "      <th>Quarter</th>\n",
       "      <th>Origin</th>\n",
       "      <th>OriginWac</th>\n",
       "      <th>Dest</th>\n",
       "      <th>DestWac</th>\n",
       "      <th>Miles</th>\n",
       "      <th>ContiguousUSA</th>\n",
       "      <th>NumTicketsOrdered</th>\n",
       "      <th>AirlineCompany</th>\n",
       "      <th>PricePerTicket</th>\n",
       "      <th>departure</th>\n",
       "    </tr>\n",
       "  </thead>\n",
       "  <tbody>\n",
       "    <tr>\n",
       "      <th>2260038</th>\n",
       "      <td>Dallas-Fort Worth International</td>\n",
       "      <td>Dallas-Fort Worth</td>\n",
       "      <td>TX</td>\n",
       "      <td>32.895951</td>\n",
       "      <td>-97.037200</td>\n",
       "      <td>20181100765</td>\n",
       "      <td>2018110076502</td>\n",
       "      <td>1</td>\n",
       "      <td>DFW</td>\n",
       "      <td>74</td>\n",
       "      <td>ABQ</td>\n",
       "      <td>86</td>\n",
       "      <td>569.0</td>\n",
       "      <td>2</td>\n",
       "      <td>1.0</td>\n",
       "      <td>AA</td>\n",
       "      <td>464.00</td>\n",
       "      <td>2018-12-20 06:00:00</td>\n",
       "    </tr>\n",
       "    <tr>\n",
       "      <th>2260039</th>\n",
       "      <td>Dallas-Fort Worth International</td>\n",
       "      <td>Dallas-Fort Worth</td>\n",
       "      <td>TX</td>\n",
       "      <td>32.895951</td>\n",
       "      <td>-97.037200</td>\n",
       "      <td>20181100774</td>\n",
       "      <td>2018110077404</td>\n",
       "      <td>1</td>\n",
       "      <td>DFW</td>\n",
       "      <td>74</td>\n",
       "      <td>ABQ</td>\n",
       "      <td>86</td>\n",
       "      <td>569.0</td>\n",
       "      <td>2</td>\n",
       "      <td>1.0</td>\n",
       "      <td>AA</td>\n",
       "      <td>192.14</td>\n",
       "      <td>2018-12-26 19:00:00</td>\n",
       "    </tr>\n",
       "    <tr>\n",
       "      <th>2260040</th>\n",
       "      <td>Dallas-Fort Worth International</td>\n",
       "      <td>Dallas-Fort Worth</td>\n",
       "      <td>TX</td>\n",
       "      <td>32.895951</td>\n",
       "      <td>-97.037200</td>\n",
       "      <td>20181101158</td>\n",
       "      <td>2018110115802</td>\n",
       "      <td>1</td>\n",
       "      <td>DFW</td>\n",
       "      <td>74</td>\n",
       "      <td>COS</td>\n",
       "      <td>82</td>\n",
       "      <td>592.0</td>\n",
       "      <td>2</td>\n",
       "      <td>1.0</td>\n",
       "      <td>AA</td>\n",
       "      <td>150.93</td>\n",
       "      <td>2018-01-01 00:00:00</td>\n",
       "    </tr>\n",
       "    <tr>\n",
       "      <th>2260041</th>\n",
       "      <td>Dallas-Fort Worth International</td>\n",
       "      <td>Dallas-Fort Worth</td>\n",
       "      <td>TX</td>\n",
       "      <td>32.895951</td>\n",
       "      <td>-97.037200</td>\n",
       "      <td>20181101159</td>\n",
       "      <td>2018110115902</td>\n",
       "      <td>1</td>\n",
       "      <td>DFW</td>\n",
       "      <td>74</td>\n",
       "      <td>COS</td>\n",
       "      <td>82</td>\n",
       "      <td>592.0</td>\n",
       "      <td>2</td>\n",
       "      <td>1.0</td>\n",
       "      <td>AA</td>\n",
       "      <td>202.43</td>\n",
       "      <td>2018-07-02 15:00:00</td>\n",
       "    </tr>\n",
       "    <tr>\n",
       "      <th>6407046</th>\n",
       "      <td>Palm Beach International</td>\n",
       "      <td>West Palm Beach</td>\n",
       "      <td>FL</td>\n",
       "      <td>26.683162</td>\n",
       "      <td>-80.095594</td>\n",
       "      <td>20181101132</td>\n",
       "      <td>2018110113204</td>\n",
       "      <td>1</td>\n",
       "      <td>PBI</td>\n",
       "      <td>33</td>\n",
       "      <td>ABQ</td>\n",
       "      <td>86</td>\n",
       "      <td>1671.0</td>\n",
       "      <td>2</td>\n",
       "      <td>1.0</td>\n",
       "      <td>AA</td>\n",
       "      <td>206.32</td>\n",
       "      <td>2018-01-01 00:00:00</td>\n",
       "    </tr>\n",
       "  </tbody>\n",
       "</table>\n",
       "</div>"
      ],
      "text/plain": [
       "                                 AIRPORT               CITY STATE   LATITUDE  \\\n",
       "2260038  Dallas-Fort Worth International  Dallas-Fort Worth    TX  32.895951   \n",
       "2260039  Dallas-Fort Worth International  Dallas-Fort Worth    TX  32.895951   \n",
       "2260040  Dallas-Fort Worth International  Dallas-Fort Worth    TX  32.895951   \n",
       "2260041  Dallas-Fort Worth International  Dallas-Fort Worth    TX  32.895951   \n",
       "6407046         Palm Beach International    West Palm Beach    FL  26.683162   \n",
       "\n",
       "         LONGITUDE       ItinID          MktID  Quarter Origin  OriginWac  \\\n",
       "2260038 -97.037200  20181100765  2018110076502        1    DFW         74   \n",
       "2260039 -97.037200  20181100774  2018110077404        1    DFW         74   \n",
       "2260040 -97.037200  20181101158  2018110115802        1    DFW         74   \n",
       "2260041 -97.037200  20181101159  2018110115902        1    DFW         74   \n",
       "6407046 -80.095594  20181101132  2018110113204        1    PBI         33   \n",
       "\n",
       "        Dest  DestWac   Miles  ContiguousUSA  NumTicketsOrdered  \\\n",
       "2260038  ABQ       86   569.0              2                1.0   \n",
       "2260039  ABQ       86   569.0              2                1.0   \n",
       "2260040  COS       82   592.0              2                1.0   \n",
       "2260041  COS       82   592.0              2                1.0   \n",
       "6407046  ABQ       86  1671.0              2                1.0   \n",
       "\n",
       "        AirlineCompany  PricePerTicket           departure  \n",
       "2260038             AA          464.00 2018-12-20 06:00:00  \n",
       "2260039             AA          192.14 2018-12-26 19:00:00  \n",
       "2260040             AA          150.93 2018-01-01 00:00:00  \n",
       "2260041             AA          202.43 2018-07-02 15:00:00  \n",
       "6407046             AA          206.32 2018-01-01 00:00:00  "
      ]
     },
     "execution_count": 600,
     "metadata": {},
     "output_type": "execute_result"
    }
   ],
   "source": [
    "fl_part.tail()"
   ]
  },
  {
   "cell_type": "code",
   "execution_count": 597,
   "metadata": {},
   "outputs": [],
   "source": [
    "for n_flights in old_val_counts:\n",
    "    start = np.datetime64('2018-01-01')\n",
    "    time = start\n",
    "    period = ceil(8765/n_flights)\n",
    "    for i in range(n_flights):\n",
    "        deps.append(time)\n",
    "        time = time + pd.Timedelta(hours=period)\n",
    "        \n",
    "        "
   ]
  },
  {
   "cell_type": "code",
   "execution_count": 570,
   "metadata": {},
   "outputs": [],
   "source": [
    "grby = fl_part.groupby(['Origin', 'Dest'])['departure']"
   ]
  },
  {
   "cell_type": "code",
   "execution_count": 549,
   "metadata": {},
   "outputs": [
    {
     "name": "stderr",
     "output_type": "stream",
     "text": [
      "/var/folders/gh/lf0mc7p936xfvjr53gs0s95m0000gn/T/ipykernel_1461/1895837502.py:1: SettingWithCopyWarning: \n",
      "A value is trying to be set on a copy of a slice from a DataFrame.\n",
      "Try using .loc[row_indexer,col_indexer] = value instead\n",
      "\n",
      "See the caveats in the documentation: https://pandas.pydata.org/pandas-docs/stable/user_guide/indexing.html#returning-a-view-versus-a-copy\n",
      "  fl_part['departure'] = 0\n"
     ]
    }
   ],
   "source": [
    "fl_part['departure'] = 0"
   ]
  },
  {
   "cell_type": "code",
   "execution_count": 566,
   "metadata": {},
   "outputs": [
    {
     "data": {
      "text/plain": [
       "Origin  Dest  departure\n",
       "ABQ     DFW   0            141\n",
       "DFW     ABQ   0             56\n",
       "        COS   0              2\n",
       "PBI     ABQ   0              1\n",
       "Name: departure, dtype: int64"
      ]
     },
     "execution_count": 566,
     "metadata": {},
     "output_type": "execute_result"
    }
   ],
   "source": [
    "old_val_counts=grby.value_counts()\n",
    "old_val_counts"
   ]
  },
  {
   "cell_type": "code",
   "execution_count": 571,
   "metadata": {},
   "outputs": [],
   "source": [
    "new_val_counts=grby.value_counts()\n"
   ]
  },
  {
   "cell_type": "code",
   "execution_count": 572,
   "metadata": {},
   "outputs": [
    {
     "data": {
      "text/plain": [
       "Origin  Dest  departure          \n",
       "ABQ     DFW   2018-01-03 15:00:00    1\n",
       "              2018-01-06 06:00:00    1\n",
       "              2018-01-08 21:00:00    1\n",
       "              2018-01-11 12:00:00    1\n",
       "              2018-01-14 03:00:00    1\n",
       "                                    ..\n",
       "DFW     ABQ   2018-12-26 19:00:00    1\n",
       "              2019-01-02 08:00:00    1\n",
       "        COS   2018-07-02 15:00:00    1\n",
       "              2019-01-01 06:00:00    1\n",
       "PBI     ABQ   2019-01-01 05:00:00    1\n",
       "Name: departure, Length: 200, dtype: int64"
      ]
     },
     "execution_count": 572,
     "metadata": {},
     "output_type": "execute_result"
    }
   ],
   "source": [
    "new_val_counts"
   ]
  },
  {
   "cell_type": "code",
   "execution_count": 602,
   "metadata": {},
   "outputs": [
    {
     "data": {
      "text/plain": [
       "<AxesSubplot:xlabel='departure', ylabel='Count'>"
      ]
     },
     "execution_count": 602,
     "metadata": {},
     "output_type": "execute_result"
    },
    {
     "data": {
      "image/png": "[encoded data removed]",
      "text/plain": [
       "<Figure size 144x144 with 1 Axes>"
      ]
     },
     "metadata": {
      "needs_background": "light"
     },
     "output_type": "display_data"
    }
   ],
   "source": [
    "fig, ax = plt.subplots()\n",
    "sns.histplot(fl_part['departure'])"
   ]
  },
  {
   "cell_type": "code",
   "execution_count": 596,
   "metadata": {},
   "outputs": [],
   "source": [
    "deps = []"
   ]
  },
  {
   "cell_type": "code",
   "execution_count": 598,
   "metadata": {},
   "outputs": [
    {
     "data": {
      "text/plain": [
       "200"
      ]
     },
     "execution_count": 598,
     "metadata": {},
     "output_type": "execute_result"
    }
   ],
   "source": [
    "len(deps)"
   ]
  },
  {
   "cell_type": "code",
   "execution_count": 593,
   "metadata": {},
   "outputs": [
    {
     "name": "stdout",
     "output_type": "stream",
     "text": [
      "1\n",
      "time = 2018-01-01 period = 8765\n",
      "2019-01-01 05:00:00\n",
      "2\n",
      "time = 2018-01-01 period = 4382\n",
      "2018-07-02 14:00:00\n",
      "2019-01-01 04:00:00\n",
      "3\n",
      "time = 2018-01-01 period = 2921\n",
      "2018-05-02 17:00:00\n",
      "2018-09-01 10:00:00\n",
      "2019-01-01 03:00:00\n"
     ]
    }
   ],
   "source": [
    "for j in range(1,4):\n",
    "    print(j)\n",
    "    start = np.datetime64('2018-01-01')\n",
    "    time = start\n",
    "    period = floor(8765/j)\n",
    "    print(f'time = {time}', f'period = {period}')\n",
    "    for i in range(j):\n",
    "        time = time + pd.Timedelta(hours=period)\n",
    "        print(time)\n",
    "    #     print(pd.Timedelta(hours=period))\n"
   ]
  },
  {
   "cell_type": "code",
   "execution_count": 599,
   "metadata": {},
   "outputs": [
    {
     "name": "stderr",
     "output_type": "stream",
     "text": [
      "/var/folders/gh/lf0mc7p936xfvjr53gs0s95m0000gn/T/ipykernel_1461/4130340679.py:1: SettingWithCopyWarning: \n",
      "A value is trying to be set on a copy of a slice from a DataFrame.\n",
      "Try using .loc[row_indexer,col_indexer] = value instead\n",
      "\n",
      "See the caveats in the documentation: https://pandas.pydata.org/pandas-docs/stable/user_guide/indexing.html#returning-a-view-versus-a-copy\n",
      "  fl_part['departure']=deps\n"
     ]
    }
   ],
   "source": [
    "fl_part['departure']=deps"
   ]
  },
  {
   "cell_type": "code",
   "execution_count": 395,
   "metadata": {},
   "outputs": [
    {
     "data": {
      "text/plain": [
       "(9418167, 18)"
      ]
     },
     "execution_count": 395,
     "metadata": {},
     "output_type": "execute_result"
    }
   ],
   "source": [
    "flights.shape"
   ]
  },
  {
   "cell_type": "code",
   "execution_count": 487,
   "metadata": {},
   "outputs": [],
   "source": [
    "i = 401\n",
    "rng = pd.date_range('2018-01-01', periods=i, freq=f'{2*floor(8765/i)}T')"
   ]
  },
  {
   "cell_type": "code",
   "execution_count": 488,
   "metadata": {},
   "outputs": [
    {
     "data": {
      "text/plain": [
       "DatetimeIndex(['2018-01-01 00:00:00', '2018-01-01 00:42:00',\n",
       "               '2018-01-01 01:24:00', '2018-01-01 02:06:00',\n",
       "               '2018-01-01 02:48:00', '2018-01-01 03:30:00',\n",
       "               '2018-01-01 04:12:00', '2018-01-01 04:54:00',\n",
       "               '2018-01-01 05:36:00', '2018-01-01 06:18:00',\n",
       "               ...\n",
       "               '2018-01-12 09:42:00', '2018-01-12 10:24:00',\n",
       "               '2018-01-12 11:06:00', '2018-01-12 11:48:00',\n",
       "               '2018-01-12 12:30:00', '2018-01-12 13:12:00',\n",
       "               '2018-01-12 13:54:00', '2018-01-12 14:36:00',\n",
       "               '2018-01-12 15:18:00', '2018-01-12 16:00:00'],\n",
       "              dtype='datetime64[ns]', length=401, freq='42T')"
      ]
     },
     "execution_count": 488,
     "metadata": {},
     "output_type": "execute_result"
    }
   ],
   "source": [
    "rng"
   ]
  },
  {
   "cell_type": "code",
   "execution_count": 489,
   "metadata": {},
   "outputs": [
    {
     "data": {
      "text/plain": [
       "<AxesSubplot:ylabel='Count'>"
      ]
     },
     "execution_count": 489,
     "metadata": {},
     "output_type": "execute_result"
    },
    {
     "data": {
      "image/png": "[encoded data removed]",
      "text/plain": [
       "<Figure size 360x216 with 1 Axes>"
      ]
     },
     "metadata": {
      "needs_background": "light"
     },
     "output_type": "display_data"
    }
   ],
   "source": [
    "fig,ax = plt.subplots(figsize=(5,3))\n",
    "sns.histplot(rng, bins=12)"
   ]
  },
  {
   "cell_type": "code",
   "execution_count": 286,
   "metadata": {
    "collapsed": true
   },
   "outputs": [
    {
     "ename": "AttributeError",
     "evalue": "Can only use .dt accessor with datetimelike values",
     "output_type": "error",
     "traceback": [
      "\u001b[0;31m---------------------------------------------------------------------------\u001b[0m",
      "\u001b[0;31mAttributeError\u001b[0m                            Traceback (most recent call last)",
      "Input \u001b[0;32mIn [286]\u001b[0m, in \u001b[0;36m<cell line: 1>\u001b[0;34m()\u001b[0m\n\u001b[0;32m----> 1\u001b[0m flights[\u001b[38;5;124m'\u001b[39m\u001b[38;5;124mdeparture\u001b[39m\u001b[38;5;124m'\u001b[39m] \u001b[38;5;241m=\u001b[39m \u001b[43mflights\u001b[49m\u001b[43m[\u001b[49m\u001b[38;5;124;43m'\u001b[39;49m\u001b[38;5;124;43mdeparture\u001b[39;49m\u001b[38;5;124;43m'\u001b[39;49m\u001b[43m]\u001b[49m\u001b[38;5;241;43m.\u001b[39;49m\u001b[43mdt\u001b[49m\u001b[38;5;241m.\u001b[39mfloor(\u001b[38;5;124m'\u001b[39m\u001b[38;5;124mT\u001b[39m\u001b[38;5;124m'\u001b[39m)\n",
      "File \u001b[0;32m~/miniconda3/envs/ih_da/lib/python3.9/site-packages/pandas/core/generic.py:5583\u001b[0m, in \u001b[0;36mNDFrame.__getattr__\u001b[0;34m(self, name)\u001b[0m\n\u001b[1;32m   5576\u001b[0m \u001b[38;5;28;01mif\u001b[39;00m (\n\u001b[1;32m   5577\u001b[0m     name \u001b[38;5;129;01mnot\u001b[39;00m \u001b[38;5;129;01min\u001b[39;00m \u001b[38;5;28mself\u001b[39m\u001b[38;5;241m.\u001b[39m_internal_names_set\n\u001b[1;32m   5578\u001b[0m     \u001b[38;5;129;01mand\u001b[39;00m name \u001b[38;5;129;01mnot\u001b[39;00m \u001b[38;5;129;01min\u001b[39;00m \u001b[38;5;28mself\u001b[39m\u001b[38;5;241m.\u001b[39m_metadata\n\u001b[1;32m   5579\u001b[0m     \u001b[38;5;129;01mand\u001b[39;00m name \u001b[38;5;129;01mnot\u001b[39;00m \u001b[38;5;129;01min\u001b[39;00m \u001b[38;5;28mself\u001b[39m\u001b[38;5;241m.\u001b[39m_accessors\n\u001b[1;32m   5580\u001b[0m     \u001b[38;5;129;01mand\u001b[39;00m \u001b[38;5;28mself\u001b[39m\u001b[38;5;241m.\u001b[39m_info_axis\u001b[38;5;241m.\u001b[39m_can_hold_identifiers_and_holds_name(name)\n\u001b[1;32m   5581\u001b[0m ):\n\u001b[1;32m   5582\u001b[0m     \u001b[38;5;28;01mreturn\u001b[39;00m \u001b[38;5;28mself\u001b[39m[name]\n\u001b[0;32m-> 5583\u001b[0m \u001b[38;5;28;01mreturn\u001b[39;00m \u001b[38;5;28;43mobject\u001b[39;49m\u001b[38;5;241;43m.\u001b[39;49m\u001b[38;5;21;43m__getattribute__\u001b[39;49m\u001b[43m(\u001b[49m\u001b[38;5;28;43mself\u001b[39;49m\u001b[43m,\u001b[49m\u001b[43m \u001b[49m\u001b[43mname\u001b[49m\u001b[43m)\u001b[49m\n",
      "File \u001b[0;32m~/miniconda3/envs/ih_da/lib/python3.9/site-packages/pandas/core/accessor.py:182\u001b[0m, in \u001b[0;36mCachedAccessor.__get__\u001b[0;34m(self, obj, cls)\u001b[0m\n\u001b[1;32m    179\u001b[0m \u001b[38;5;28;01mif\u001b[39;00m obj \u001b[38;5;129;01mis\u001b[39;00m \u001b[38;5;28;01mNone\u001b[39;00m:\n\u001b[1;32m    180\u001b[0m     \u001b[38;5;66;03m# we're accessing the attribute of the class, i.e., Dataset.geo\u001b[39;00m\n\u001b[1;32m    181\u001b[0m     \u001b[38;5;28;01mreturn\u001b[39;00m \u001b[38;5;28mself\u001b[39m\u001b[38;5;241m.\u001b[39m_accessor\n\u001b[0;32m--> 182\u001b[0m accessor_obj \u001b[38;5;241m=\u001b[39m \u001b[38;5;28;43mself\u001b[39;49m\u001b[38;5;241;43m.\u001b[39;49m\u001b[43m_accessor\u001b[49m\u001b[43m(\u001b[49m\u001b[43mobj\u001b[49m\u001b[43m)\u001b[49m\n\u001b[1;32m    183\u001b[0m \u001b[38;5;66;03m# Replace the property with the accessor object. Inspired by:\u001b[39;00m\n\u001b[1;32m    184\u001b[0m \u001b[38;5;66;03m# https://www.pydanny.com/cached-property.html\u001b[39;00m\n\u001b[1;32m    185\u001b[0m \u001b[38;5;66;03m# We need to use object.__setattr__ because we overwrite __setattr__ on\u001b[39;00m\n\u001b[1;32m    186\u001b[0m \u001b[38;5;66;03m# NDFrame\u001b[39;00m\n\u001b[1;32m    187\u001b[0m \u001b[38;5;28mobject\u001b[39m\u001b[38;5;241m.\u001b[39m\u001b[38;5;21m__setattr__\u001b[39m(obj, \u001b[38;5;28mself\u001b[39m\u001b[38;5;241m.\u001b[39m_name, accessor_obj)\n",
      "File \u001b[0;32m~/miniconda3/envs/ih_da/lib/python3.9/site-packages/pandas/core/indexes/accessors.py:509\u001b[0m, in \u001b[0;36mCombinedDatetimelikeProperties.__new__\u001b[0;34m(cls, data)\u001b[0m\n\u001b[1;32m    506\u001b[0m \u001b[38;5;28;01melif\u001b[39;00m is_period_dtype(data\u001b[38;5;241m.\u001b[39mdtype):\n\u001b[1;32m    507\u001b[0m     \u001b[38;5;28;01mreturn\u001b[39;00m PeriodProperties(data, orig)\n\u001b[0;32m--> 509\u001b[0m \u001b[38;5;28;01mraise\u001b[39;00m \u001b[38;5;167;01mAttributeError\u001b[39;00m(\u001b[38;5;124m\"\u001b[39m\u001b[38;5;124mCan only use .dt accessor with datetimelike values\u001b[39m\u001b[38;5;124m\"\u001b[39m)\n",
      "\u001b[0;31mAttributeError\u001b[0m: Can only use .dt accessor with datetimelike values"
     ]
    }
   ],
   "source": [
    "flights['departure'] = flights['departure'].dt.floor('T')"
   ]
  },
  {
   "cell_type": "code",
   "execution_count": 412,
   "metadata": {},
   "outputs": [
    {
     "name": "stdout",
     "output_type": "stream",
     "text": [
      "10\n"
     ]
    },
    {
     "data": {
      "text/plain": [
       "[1, 2, 3, 4, 5, 6, 7, 8, 9, 10]"
      ]
     },
     "execution_count": 412,
     "metadata": {},
     "output_type": "execute_result"
    }
   ],
   "source": [
    "l = list(range(1,11))\n",
    "print(len(l))\n",
    "l[:10]"
   ]
  },
  {
   "cell_type": "code",
   "execution_count": 1,
   "metadata": {},
   "outputs": [
    {
     "ename": "NameError",
     "evalue": "name 'deps' is not defined",
     "output_type": "error",
     "traceback": [
      "\u001b[0;31m---------------------------------------------------------------------------\u001b[0m",
      "\u001b[0;31mNameError\u001b[0m                                 Traceback (most recent call last)",
      "Input \u001b[0;32mIn [1]\u001b[0m, in \u001b[0;36m<cell line: 1>\u001b[0;34m()\u001b[0m\n\u001b[0;32m----> 1\u001b[0m flights[\u001b[38;5;124m'\u001b[39m\u001b[38;5;124mdeparture\u001b[39m\u001b[38;5;124m'\u001b[39m] \u001b[38;5;241m=\u001b[39m \u001b[43mdeps\u001b[49m\n",
      "\u001b[0;31mNameError\u001b[0m: name 'deps' is not defined"
     ]
    }
   ],
   "source": [
    "flights['departure'] = deps"
   ]
  },
  {
   "cell_type": "code",
   "execution_count": 276,
   "metadata": {},
   "outputs": [
    {
     "data": {
      "text/plain": [
       "DatetimeIndex(['2018-01-01 00:00:00', '2018-01-01 00:21:00',\n",
       "               '2018-01-01 00:42:00', '2018-01-01 01:03:00',\n",
       "               '2018-01-01 01:24:00', '2018-01-01 01:45:00',\n",
       "               '2018-01-01 02:06:00', '2018-01-01 02:27:00',\n",
       "               '2018-01-01 02:48:00', '2018-01-01 03:09:00',\n",
       "               ...\n",
       "               '2018-05-08 16:15:00', '2018-05-08 16:36:00',\n",
       "               '2018-05-08 16:57:00', '2018-05-08 17:18:00',\n",
       "               '2018-05-08 17:39:00', '2018-05-08 18:00:00',\n",
       "               '2018-05-08 18:21:00', '2018-05-08 18:42:00',\n",
       "               '2018-05-08 19:03:00', '2018-05-08 19:24:00'],\n",
       "              dtype='datetime64[ns]', length=8765, freq='21T')"
      ]
     },
     "execution_count": 276,
     "metadata": {},
     "output_type": "execute_result"
    }
   ],
   "source": [
    "rng"
   ]
  },
  {
   "cell_type": "code",
   "execution_count": 413,
   "metadata": {},
   "outputs": [
    {
     "name": "stdout",
     "output_type": "stream",
     "text": [
      "10\n"
     ]
    },
    {
     "data": {
      "text/plain": [
       "[1, 2, 3, 4, 5, 6, 0.0, 0.0, 0.0, 0.0]"
      ]
     },
     "execution_count": 413,
     "metadata": {},
     "output_type": "execute_result"
    }
   ],
   "source": [
    "lm = [1, 2, 3, 4, 5, 6]\n",
    "len(l) - len(lm)\n",
    "ln = lm.extend(np.zeros(len(l) - len(lm)))\n",
    "print(len(lm))\n",
    "lm"
   ]
  },
  {
   "cell_type": "code",
   "execution_count": 417,
   "metadata": {},
   "outputs": [
    {
     "name": "stdout",
     "output_type": "stream",
     "text": [
      "6\n"
     ]
    },
    {
     "data": {
      "text/plain": [
       "[1, 2, 3, 4, 5]"
      ]
     },
     "execution_count": 417,
     "metadata": {},
     "output_type": "execute_result"
    }
   ],
   "source": [
    "ls = [1, 2, 3, 4, 5, 6]\n",
    "print(len(ls))\n",
    "lfit = l[:len(ls)]\n",
    "lfit[:6]"
   ]
  },
  {
   "cell_type": "code",
   "execution_count": null,
   "metadata": {},
   "outputs": [],
   "source": []
  },
  {
   "cell_type": "code",
   "execution_count": 517,
   "metadata": {},
   "outputs": [
    {
     "data": {
      "text/html": [
       "<div>\n",
       "<style scoped>\n",
       "    .dataframe tbody tr th:only-of-type {\n",
       "        vertical-align: middle;\n",
       "    }\n",
       "\n",
       "    .dataframe tbody tr th {\n",
       "        vertical-align: top;\n",
       "    }\n",
       "\n",
       "    .dataframe thead th {\n",
       "        text-align: right;\n",
       "    }\n",
       "</style>\n",
       "<table border=\"1\" class=\"dataframe\">\n",
       "  <thead>\n",
       "    <tr style=\"text-align: right;\">\n",
       "      <th></th>\n",
       "      <th>AIRPORT</th>\n",
       "      <th>CITY</th>\n",
       "      <th>STATE</th>\n",
       "      <th>LATITUDE</th>\n",
       "      <th>LONGITUDE</th>\n",
       "      <th>ItinID</th>\n",
       "      <th>MktID</th>\n",
       "      <th>Quarter</th>\n",
       "      <th>Origin</th>\n",
       "      <th>OriginWac</th>\n",
       "      <th>Dest</th>\n",
       "      <th>DestWac</th>\n",
       "      <th>Miles</th>\n",
       "      <th>ContiguousUSA</th>\n",
       "      <th>NumTicketsOrdered</th>\n",
       "      <th>AirlineCompany</th>\n",
       "      <th>PricePerTicket</th>\n",
       "      <th>departure</th>\n",
       "    </tr>\n",
       "  </thead>\n",
       "  <tbody>\n",
       "    <tr>\n",
       "      <th>8838370</th>\n",
       "      <td>Lehigh Valley International</td>\n",
       "      <td>Allentown</td>\n",
       "      <td>PA</td>\n",
       "      <td>40.652363</td>\n",
       "      <td>-75.440402</td>\n",
       "      <td>201811390083</td>\n",
       "      <td>20181139008301</td>\n",
       "      <td>1</td>\n",
       "      <td>ABE</td>\n",
       "      <td>23</td>\n",
       "      <td>ATL</td>\n",
       "      <td>34</td>\n",
       "      <td>692.0</td>\n",
       "      <td>2</td>\n",
       "      <td>1.0</td>\n",
       "      <td>DL</td>\n",
       "      <td>162.0</td>\n",
       "      <td>2020-08-18 08:58:00</td>\n",
       "    </tr>\n",
       "    <tr>\n",
       "      <th>8838371</th>\n",
       "      <td>Lehigh Valley International</td>\n",
       "      <td>Allentown</td>\n",
       "      <td>PA</td>\n",
       "      <td>40.652363</td>\n",
       "      <td>-75.440402</td>\n",
       "      <td>201811390084</td>\n",
       "      <td>20181139008401</td>\n",
       "      <td>1</td>\n",
       "      <td>ABE</td>\n",
       "      <td>23</td>\n",
       "      <td>ATL</td>\n",
       "      <td>34</td>\n",
       "      <td>692.0</td>\n",
       "      <td>2</td>\n",
       "      <td>1.0</td>\n",
       "      <td>DL</td>\n",
       "      <td>214.0</td>\n",
       "      <td>2020-08-18 12:27:00</td>\n",
       "    </tr>\n",
       "    <tr>\n",
       "      <th>8838372</th>\n",
       "      <td>Lehigh Valley International</td>\n",
       "      <td>Allentown</td>\n",
       "      <td>PA</td>\n",
       "      <td>40.652363</td>\n",
       "      <td>-75.440402</td>\n",
       "      <td>201811390085</td>\n",
       "      <td>20181139008501</td>\n",
       "      <td>1</td>\n",
       "      <td>ABE</td>\n",
       "      <td>23</td>\n",
       "      <td>ATL</td>\n",
       "      <td>34</td>\n",
       "      <td>692.0</td>\n",
       "      <td>2</td>\n",
       "      <td>1.0</td>\n",
       "      <td>DL</td>\n",
       "      <td>254.0</td>\n",
       "      <td>2020-08-18 15:55:00</td>\n",
       "    </tr>\n",
       "    <tr>\n",
       "      <th>8838373</th>\n",
       "      <td>Lehigh Valley International</td>\n",
       "      <td>Allentown</td>\n",
       "      <td>PA</td>\n",
       "      <td>40.652363</td>\n",
       "      <td>-75.440402</td>\n",
       "      <td>201811390086</td>\n",
       "      <td>20181139008601</td>\n",
       "      <td>1</td>\n",
       "      <td>ABE</td>\n",
       "      <td>23</td>\n",
       "      <td>ATL</td>\n",
       "      <td>34</td>\n",
       "      <td>692.0</td>\n",
       "      <td>2</td>\n",
       "      <td>1.0</td>\n",
       "      <td>DL</td>\n",
       "      <td>280.0</td>\n",
       "      <td>2020-08-18 19:23:00</td>\n",
       "    </tr>\n",
       "    <tr>\n",
       "      <th>8838374</th>\n",
       "      <td>Lehigh Valley International</td>\n",
       "      <td>Allentown</td>\n",
       "      <td>PA</td>\n",
       "      <td>40.652363</td>\n",
       "      <td>-75.440402</td>\n",
       "      <td>201811390087</td>\n",
       "      <td>20181139008701</td>\n",
       "      <td>1</td>\n",
       "      <td>ABE</td>\n",
       "      <td>23</td>\n",
       "      <td>ATL</td>\n",
       "      <td>34</td>\n",
       "      <td>692.0</td>\n",
       "      <td>2</td>\n",
       "      <td>1.0</td>\n",
       "      <td>DL</td>\n",
       "      <td>297.0</td>\n",
       "      <td>2020-08-18 22:51:00</td>\n",
       "    </tr>\n",
       "  </tbody>\n",
       "</table>\n",
       "</div>"
      ],
      "text/plain": [
       "                             AIRPORT       CITY STATE   LATITUDE  LONGITUDE  \\\n",
       "8838370  Lehigh Valley International  Allentown    PA  40.652363 -75.440402   \n",
       "8838371  Lehigh Valley International  Allentown    PA  40.652363 -75.440402   \n",
       "8838372  Lehigh Valley International  Allentown    PA  40.652363 -75.440402   \n",
       "8838373  Lehigh Valley International  Allentown    PA  40.652363 -75.440402   \n",
       "8838374  Lehigh Valley International  Allentown    PA  40.652363 -75.440402   \n",
       "\n",
       "               ItinID           MktID  Quarter Origin  OriginWac Dest  \\\n",
       "8838370  201811390083  20181139008301        1    ABE         23  ATL   \n",
       "8838371  201811390084  20181139008401        1    ABE         23  ATL   \n",
       "8838372  201811390085  20181139008501        1    ABE         23  ATL   \n",
       "8838373  201811390086  20181139008601        1    ABE         23  ATL   \n",
       "8838374  201811390087  20181139008701        1    ABE         23  ATL   \n",
       "\n",
       "         DestWac  Miles  ContiguousUSA  NumTicketsOrdered AirlineCompany  \\\n",
       "8838370       34  692.0              2                1.0             DL   \n",
       "8838371       34  692.0              2                1.0             DL   \n",
       "8838372       34  692.0              2                1.0             DL   \n",
       "8838373       34  692.0              2                1.0             DL   \n",
       "8838374       34  692.0              2                1.0             DL   \n",
       "\n",
       "         PricePerTicket           departure  \n",
       "8838370           162.0 2020-08-18 08:58:00  \n",
       "8838371           214.0 2020-08-18 12:27:00  \n",
       "8838372           254.0 2020-08-18 15:55:00  \n",
       "8838373           280.0 2020-08-18 19:23:00  \n",
       "8838374           297.0 2020-08-18 22:51:00  "
      ]
     },
     "execution_count": 517,
     "metadata": {},
     "output_type": "execute_result"
    }
   ],
   "source": [
    "flights.sort_values(['Origin','Dest']).head()"
   ]
  },
  {
   "cell_type": "code",
   "execution_count": 351,
   "metadata": {},
   "outputs": [],
   "source": [
    "g=pd.date_range(start='2020/01/01', end='2020/12/30', periods=401)"
   ]
  },
  {
   "cell_type": "code",
   "execution_count": 352,
   "metadata": {},
   "outputs": [
    {
     "data": {
      "text/plain": [
       "DatetimeIndex(['2020-01-01 00:00:00', '2020-01-01 21:50:24',\n",
       "               '2020-01-02 19:40:48', '2020-01-03 17:31:12',\n",
       "               '2020-01-04 15:21:36', '2020-01-05 13:12:00',\n",
       "               '2020-01-06 11:02:24', '2020-01-07 08:52:48',\n",
       "               '2020-01-08 06:43:12', '2020-01-09 04:33:36',\n",
       "               ...\n",
       "               '2020-12-21 19:26:24', '2020-12-22 17:16:48',\n",
       "               '2020-12-23 15:07:12', '2020-12-24 12:57:36',\n",
       "               '2020-12-25 10:48:00', '2020-12-26 08:38:24',\n",
       "               '2020-12-27 06:28:48', '2020-12-28 04:19:12',\n",
       "               '2020-12-29 02:09:36', '2020-12-30 00:00:00'],\n",
       "              dtype='datetime64[ns]', length=401, freq=None)"
      ]
     },
     "execution_count": 352,
     "metadata": {},
     "output_type": "execute_result"
    }
   ],
   "source": [
    "g"
   ]
  },
  {
   "cell_type": "code",
   "execution_count": 353,
   "metadata": {},
   "outputs": [
    {
     "data": {
      "text/plain": [
       "'78624S'"
      ]
     },
     "execution_count": 353,
     "metadata": {},
     "output_type": "execute_result"
    }
   ],
   "source": [
    "pd.infer_freq(g)"
   ]
  },
  {
   "cell_type": "code",
   "execution_count": 490,
   "metadata": {},
   "outputs": [
    {
     "data": {
      "text/plain": [
       "<AxesSubplot:xlabel='departure', ylabel='Count'>"
      ]
     },
     "execution_count": 490,
     "metadata": {},
     "output_type": "execute_result"
    },
    {
     "data": {
      "image/png": "[encoded data removed]",
      "text/plain": [
       "<Figure size 360x216 with 1 Axes>"
      ]
     },
     "metadata": {
      "needs_background": "light"
     },
     "output_type": "display_data"
    }
   ],
   "source": [
    "fig,ax = plt.subplots(figsize=(5,3))\n",
    "sns.histplot(g, bins=12)"
   ]
  },
  {
   "cell_type": "code",
   "execution_count": 504,
   "metadata": {},
   "outputs": [
    {
     "data": {
      "text/plain": [
       "Timestamp('2020-01-01 01:00:00')"
      ]
     },
     "execution_count": 504,
     "metadata": {},
     "output_type": "execute_result"
    }
   ],
   "source": [
    "flights['departure'].iloc[0] + travel_time(600)"
   ]
  },
  {
   "cell_type": "code",
   "execution_count": 499,
   "metadata": {},
   "outputs": [
    {
     "data": {
      "text/plain": [
       "Timestamp('2020-01-01 00:00:00')"
      ]
     },
     "execution_count": 499,
     "metadata": {},
     "output_type": "execute_result"
    }
   ],
   "source": [
    "flights['departure'].iloc[0]"
   ]
  },
  {
   "cell_type": "code",
   "execution_count": 535,
   "metadata": {},
   "outputs": [
    {
     "data": {
      "text/plain": [
       "numpy.datetime64('2005-02-25')"
      ]
     },
     "execution_count": 535,
     "metadata": {},
     "output_type": "execute_result"
    }
   ],
   "source": [
    "np.datetime64('2005-02-25')"
   ]
  },
  {
   "cell_type": "code",
   "execution_count": 503,
   "metadata": {},
   "outputs": [],
   "source": [
    "def travel_time(dist):\n",
    "    return pd.Timedelta(minutes = dist/10)"
   ]
  },
  {
   "cell_type": "code",
   "execution_count": 534,
   "metadata": {},
   "outputs": [
    {
     "ename": "ValueError",
     "evalue": "invalid unit abbreviation: /",
     "output_type": "error",
     "traceback": [
      "\u001b[0;31m---------------------------------------------------------------------------\u001b[0m",
      "\u001b[0;31mKeyError\u001b[0m                                  Traceback (most recent call last)",
      "File \u001b[0;32m~/miniconda3/envs/ih_da/lib/python3.9/site-packages/pandas/_libs/tslibs/timedeltas.pyx:611\u001b[0m, in \u001b[0;36mpandas._libs.tslibs.timedeltas.parse_timedelta_unit\u001b[0;34m()\u001b[0m\n",
      "\u001b[0;31mKeyError\u001b[0m: '/'",
      "\nDuring handling of the above exception, another exception occurred:\n",
      "\u001b[0;31mValueError\u001b[0m                                Traceback (most recent call last)",
      "Input \u001b[0;32mIn [534]\u001b[0m, in \u001b[0;36m<cell line: 1>\u001b[0;34m()\u001b[0m\n\u001b[0;32m----> 1\u001b[0m \u001b[43mpd\u001b[49m\u001b[38;5;241;43m.\u001b[39;49m\u001b[43mTimedelta\u001b[49m\u001b[43m(\u001b[49m\u001b[38;5;124;43m'\u001b[39;49m\u001b[38;5;124;43m2020/01/01\u001b[39;49m\u001b[38;5;124;43m'\u001b[39;49m\u001b[43m)\u001b[49m \u001b[38;5;241m+\u001b[39m pd\u001b[38;5;241m.\u001b[39mTimedelta(minutes \u001b[38;5;241m=\u001b[39m \u001b[38;5;241m600\u001b[39m)\n",
      "File \u001b[0;32m~/miniconda3/envs/ih_da/lib/python3.9/site-packages/pandas/_libs/tslibs/timedeltas.pyx:1344\u001b[0m, in \u001b[0;36mpandas._libs.tslibs.timedeltas.Timedelta.__new__\u001b[0;34m()\u001b[0m\n",
      "File \u001b[0;32m~/miniconda3/envs/ih_da/lib/python3.9/site-packages/pandas/_libs/tslibs/timedeltas.pyx:429\u001b[0m, in \u001b[0;36mpandas._libs.tslibs.timedeltas.parse_timedelta_string\u001b[0;34m()\u001b[0m\n",
      "File \u001b[0;32m~/miniconda3/envs/ih_da/lib/python3.9/site-packages/pandas/_libs/tslibs/timedeltas.pyx:583\u001b[0m, in \u001b[0;36mpandas._libs.tslibs.timedeltas.timedelta_from_spec\u001b[0;34m()\u001b[0m\n",
      "File \u001b[0;32m~/miniconda3/envs/ih_da/lib/python3.9/site-packages/pandas/_libs/tslibs/timedeltas.pyx:613\u001b[0m, in \u001b[0;36mpandas._libs.tslibs.timedeltas.parse_timedelta_unit\u001b[0;34m()\u001b[0m\n",
      "\u001b[0;31mValueError\u001b[0m: invalid unit abbreviation: /"
     ]
    }
   ],
   "source": [
    "pd.Timedelta('2020/01/01') + pd.Timedelta(minutes = 600)"
   ]
  },
  {
   "cell_type": "code",
   "execution_count": 522,
   "metadata": {},
   "outputs": [
    {
     "name": "stderr",
     "output_type": "stream",
     "text": [
      "/var/folders/gh/lf0mc7p936xfvjr53gs0s95m0000gn/T/ipykernel_1461/2773808661.py:1: SettingWithCopyWarning: \n",
      "A value is trying to be set on a copy of a slice from a DataFrame.\n",
      "Try using .loc[row_indexer,col_indexer] = value instead\n",
      "\n",
      "See the caveats in the documentation: https://pandas.pydata.org/pandas-docs/stable/user_guide/indexing.html#returning-a-view-versus-a-copy\n",
      "  fl_part['arrival'] = fl_part['departure']+fl_part['Miles'].apply(travel_time)\n"
     ]
    }
   ],
   "source": [
    "fl_part['arrival'] = fl_part['departure']+fl_part['Miles'].apply(travel_time)"
   ]
  },
  {
   "cell_type": "code",
   "execution_count": 523,
   "metadata": {},
   "outputs": [
    {
     "data": {
      "text/html": [
       "<div>\n",
       "<style scoped>\n",
       "    .dataframe tbody tr th:only-of-type {\n",
       "        vertical-align: middle;\n",
       "    }\n",
       "\n",
       "    .dataframe tbody tr th {\n",
       "        vertical-align: top;\n",
       "    }\n",
       "\n",
       "    .dataframe thead th {\n",
       "        text-align: right;\n",
       "    }\n",
       "</style>\n",
       "<table border=\"1\" class=\"dataframe\">\n",
       "  <thead>\n",
       "    <tr style=\"text-align: right;\">\n",
       "      <th></th>\n",
       "      <th>AIRPORT</th>\n",
       "      <th>CITY</th>\n",
       "      <th>STATE</th>\n",
       "      <th>LATITUDE</th>\n",
       "      <th>LONGITUDE</th>\n",
       "      <th>ItinID</th>\n",
       "      <th>MktID</th>\n",
       "      <th>Quarter</th>\n",
       "      <th>Origin</th>\n",
       "      <th>OriginWac</th>\n",
       "      <th>Dest</th>\n",
       "      <th>DestWac</th>\n",
       "      <th>Miles</th>\n",
       "      <th>ContiguousUSA</th>\n",
       "      <th>NumTicketsOrdered</th>\n",
       "      <th>AirlineCompany</th>\n",
       "      <th>PricePerTicket</th>\n",
       "      <th>departure</th>\n",
       "      <th>arrival</th>\n",
       "    </tr>\n",
       "  </thead>\n",
       "  <tbody>\n",
       "    <tr>\n",
       "      <th>2898</th>\n",
       "      <td>Albuquerque International</td>\n",
       "      <td>Albuquerque</td>\n",
       "      <td>NM</td>\n",
       "      <td>35.040222</td>\n",
       "      <td>-106.609194</td>\n",
       "      <td>20181100617</td>\n",
       "      <td>2018110061701</td>\n",
       "      <td>1</td>\n",
       "      <td>ABQ</td>\n",
       "      <td>86</td>\n",
       "      <td>DFW</td>\n",
       "      <td>74</td>\n",
       "      <td>569.0</td>\n",
       "      <td>2</td>\n",
       "      <td>1.0</td>\n",
       "      <td>AA</td>\n",
       "      <td>109.00</td>\n",
       "      <td>2020-01-01 00:00:00</td>\n",
       "      <td>2020-01-01 00:56:54</td>\n",
       "    </tr>\n",
       "    <tr>\n",
       "      <th>2899</th>\n",
       "      <td>Albuquerque International</td>\n",
       "      <td>Albuquerque</td>\n",
       "      <td>NM</td>\n",
       "      <td>35.040222</td>\n",
       "      <td>-106.609194</td>\n",
       "      <td>20181100618</td>\n",
       "      <td>2018110061801</td>\n",
       "      <td>1</td>\n",
       "      <td>ABQ</td>\n",
       "      <td>86</td>\n",
       "      <td>DFW</td>\n",
       "      <td>74</td>\n",
       "      <td>569.0</td>\n",
       "      <td>2</td>\n",
       "      <td>1.0</td>\n",
       "      <td>AA</td>\n",
       "      <td>118.00</td>\n",
       "      <td>2020-01-01 21:09:00</td>\n",
       "      <td>2020-01-01 22:05:54</td>\n",
       "    </tr>\n",
       "    <tr>\n",
       "      <th>2900</th>\n",
       "      <td>Albuquerque International</td>\n",
       "      <td>Albuquerque</td>\n",
       "      <td>NM</td>\n",
       "      <td>35.040222</td>\n",
       "      <td>-106.609194</td>\n",
       "      <td>20181100619</td>\n",
       "      <td>2018110061901</td>\n",
       "      <td>1</td>\n",
       "      <td>ABQ</td>\n",
       "      <td>86</td>\n",
       "      <td>DFW</td>\n",
       "      <td>74</td>\n",
       "      <td>569.0</td>\n",
       "      <td>2</td>\n",
       "      <td>1.0</td>\n",
       "      <td>AA</td>\n",
       "      <td>122.00</td>\n",
       "      <td>2020-01-02 18:18:00</td>\n",
       "      <td>2020-01-02 19:14:54</td>\n",
       "    </tr>\n",
       "    <tr>\n",
       "      <th>2901</th>\n",
       "      <td>Albuquerque International</td>\n",
       "      <td>Albuquerque</td>\n",
       "      <td>NM</td>\n",
       "      <td>35.040222</td>\n",
       "      <td>-106.609194</td>\n",
       "      <td>20181100620</td>\n",
       "      <td>2018110062001</td>\n",
       "      <td>1</td>\n",
       "      <td>ABQ</td>\n",
       "      <td>86</td>\n",
       "      <td>DFW</td>\n",
       "      <td>74</td>\n",
       "      <td>569.0</td>\n",
       "      <td>2</td>\n",
       "      <td>1.0</td>\n",
       "      <td>AA</td>\n",
       "      <td>127.00</td>\n",
       "      <td>2020-01-03 15:27:00</td>\n",
       "      <td>2020-01-03 16:23:54</td>\n",
       "    </tr>\n",
       "    <tr>\n",
       "      <th>2902</th>\n",
       "      <td>Albuquerque International</td>\n",
       "      <td>Albuquerque</td>\n",
       "      <td>NM</td>\n",
       "      <td>35.040222</td>\n",
       "      <td>-106.609194</td>\n",
       "      <td>20181100621</td>\n",
       "      <td>2018110062101</td>\n",
       "      <td>1</td>\n",
       "      <td>ABQ</td>\n",
       "      <td>86</td>\n",
       "      <td>DFW</td>\n",
       "      <td>74</td>\n",
       "      <td>569.0</td>\n",
       "      <td>2</td>\n",
       "      <td>1.0</td>\n",
       "      <td>AA</td>\n",
       "      <td>137.00</td>\n",
       "      <td>2020-01-04 12:36:00</td>\n",
       "      <td>2020-01-04 13:32:54</td>\n",
       "    </tr>\n",
       "    <tr>\n",
       "      <th>...</th>\n",
       "      <td>...</td>\n",
       "      <td>...</td>\n",
       "      <td>...</td>\n",
       "      <td>...</td>\n",
       "      <td>...</td>\n",
       "      <td>...</td>\n",
       "      <td>...</td>\n",
       "      <td>...</td>\n",
       "      <td>...</td>\n",
       "      <td>...</td>\n",
       "      <td>...</td>\n",
       "      <td>...</td>\n",
       "      <td>...</td>\n",
       "      <td>...</td>\n",
       "      <td>...</td>\n",
       "      <td>...</td>\n",
       "      <td>...</td>\n",
       "      <td>...</td>\n",
       "      <td>...</td>\n",
       "    </tr>\n",
       "    <tr>\n",
       "      <th>2260038</th>\n",
       "      <td>Dallas-Fort Worth International</td>\n",
       "      <td>Dallas-Fort Worth</td>\n",
       "      <td>TX</td>\n",
       "      <td>32.895951</td>\n",
       "      <td>-97.037200</td>\n",
       "      <td>20181100765</td>\n",
       "      <td>2018110076502</td>\n",
       "      <td>1</td>\n",
       "      <td>DFW</td>\n",
       "      <td>74</td>\n",
       "      <td>ABQ</td>\n",
       "      <td>86</td>\n",
       "      <td>569.0</td>\n",
       "      <td>2</td>\n",
       "      <td>1.0</td>\n",
       "      <td>AA</td>\n",
       "      <td>464.00</td>\n",
       "      <td>2020-06-16 10:58:00</td>\n",
       "      <td>2020-06-16 11:54:54</td>\n",
       "    </tr>\n",
       "    <tr>\n",
       "      <th>2260039</th>\n",
       "      <td>Dallas-Fort Worth International</td>\n",
       "      <td>Dallas-Fort Worth</td>\n",
       "      <td>TX</td>\n",
       "      <td>32.895951</td>\n",
       "      <td>-97.037200</td>\n",
       "      <td>20181100774</td>\n",
       "      <td>2018110077404</td>\n",
       "      <td>1</td>\n",
       "      <td>DFW</td>\n",
       "      <td>74</td>\n",
       "      <td>ABQ</td>\n",
       "      <td>86</td>\n",
       "      <td>569.0</td>\n",
       "      <td>2</td>\n",
       "      <td>1.0</td>\n",
       "      <td>AA</td>\n",
       "      <td>192.14</td>\n",
       "      <td>2020-06-19 02:26:00</td>\n",
       "      <td>2020-06-19 03:22:54</td>\n",
       "    </tr>\n",
       "    <tr>\n",
       "      <th>2260040</th>\n",
       "      <td>Dallas-Fort Worth International</td>\n",
       "      <td>Dallas-Fort Worth</td>\n",
       "      <td>TX</td>\n",
       "      <td>32.895951</td>\n",
       "      <td>-97.037200</td>\n",
       "      <td>20181101158</td>\n",
       "      <td>2018110115802</td>\n",
       "      <td>1</td>\n",
       "      <td>DFW</td>\n",
       "      <td>74</td>\n",
       "      <td>COS</td>\n",
       "      <td>82</td>\n",
       "      <td>592.0</td>\n",
       "      <td>2</td>\n",
       "      <td>1.0</td>\n",
       "      <td>AA</td>\n",
       "      <td>150.93</td>\n",
       "      <td>2020-06-21 17:53:00</td>\n",
       "      <td>2020-06-21 18:52:12</td>\n",
       "    </tr>\n",
       "    <tr>\n",
       "      <th>2260041</th>\n",
       "      <td>Dallas-Fort Worth International</td>\n",
       "      <td>Dallas-Fort Worth</td>\n",
       "      <td>TX</td>\n",
       "      <td>32.895951</td>\n",
       "      <td>-97.037200</td>\n",
       "      <td>20181101159</td>\n",
       "      <td>2018110115902</td>\n",
       "      <td>1</td>\n",
       "      <td>DFW</td>\n",
       "      <td>74</td>\n",
       "      <td>COS</td>\n",
       "      <td>82</td>\n",
       "      <td>592.0</td>\n",
       "      <td>2</td>\n",
       "      <td>1.0</td>\n",
       "      <td>AA</td>\n",
       "      <td>202.43</td>\n",
       "      <td>2020-06-23 12:12:00</td>\n",
       "      <td>2020-06-23 13:11:12</td>\n",
       "    </tr>\n",
       "    <tr>\n",
       "      <th>6407046</th>\n",
       "      <td>Palm Beach International</td>\n",
       "      <td>West Palm Beach</td>\n",
       "      <td>FL</td>\n",
       "      <td>26.683162</td>\n",
       "      <td>-80.095594</td>\n",
       "      <td>20181101132</td>\n",
       "      <td>2018110113204</td>\n",
       "      <td>1</td>\n",
       "      <td>PBI</td>\n",
       "      <td>33</td>\n",
       "      <td>ABQ</td>\n",
       "      <td>86</td>\n",
       "      <td>1671.0</td>\n",
       "      <td>2</td>\n",
       "      <td>1.0</td>\n",
       "      <td>AA</td>\n",
       "      <td>206.32</td>\n",
       "      <td>2020-06-19 23:35:00</td>\n",
       "      <td>2020-06-20 02:22:06</td>\n",
       "    </tr>\n",
       "  </tbody>\n",
       "</table>\n",
       "<p>200 rows × 19 columns</p>\n",
       "</div>"
      ],
      "text/plain": [
       "                                 AIRPORT               CITY STATE   LATITUDE  \\\n",
       "2898           Albuquerque International        Albuquerque    NM  35.040222   \n",
       "2899           Albuquerque International        Albuquerque    NM  35.040222   \n",
       "2900           Albuquerque International        Albuquerque    NM  35.040222   \n",
       "2901           Albuquerque International        Albuquerque    NM  35.040222   \n",
       "2902           Albuquerque International        Albuquerque    NM  35.040222   \n",
       "...                                  ...                ...   ...        ...   \n",
       "2260038  Dallas-Fort Worth International  Dallas-Fort Worth    TX  32.895951   \n",
       "2260039  Dallas-Fort Worth International  Dallas-Fort Worth    TX  32.895951   \n",
       "2260040  Dallas-Fort Worth International  Dallas-Fort Worth    TX  32.895951   \n",
       "2260041  Dallas-Fort Worth International  Dallas-Fort Worth    TX  32.895951   \n",
       "6407046         Palm Beach International    West Palm Beach    FL  26.683162   \n",
       "\n",
       "          LONGITUDE       ItinID          MktID  Quarter Origin  OriginWac  \\\n",
       "2898    -106.609194  20181100617  2018110061701        1    ABQ         86   \n",
       "2899    -106.609194  20181100618  2018110061801        1    ABQ         86   \n",
       "2900    -106.609194  20181100619  2018110061901        1    ABQ         86   \n",
       "2901    -106.609194  20181100620  2018110062001        1    ABQ         86   \n",
       "2902    -106.609194  20181100621  2018110062101        1    ABQ         86   \n",
       "...             ...          ...            ...      ...    ...        ...   \n",
       "2260038  -97.037200  20181100765  2018110076502        1    DFW         74   \n",
       "2260039  -97.037200  20181100774  2018110077404        1    DFW         74   \n",
       "2260040  -97.037200  20181101158  2018110115802        1    DFW         74   \n",
       "2260041  -97.037200  20181101159  2018110115902        1    DFW         74   \n",
       "6407046  -80.095594  20181101132  2018110113204        1    PBI         33   \n",
       "\n",
       "        Dest  DestWac   Miles  ContiguousUSA  NumTicketsOrdered  \\\n",
       "2898     DFW       74   569.0              2                1.0   \n",
       "2899     DFW       74   569.0              2                1.0   \n",
       "2900     DFW       74   569.0              2                1.0   \n",
       "2901     DFW       74   569.0              2                1.0   \n",
       "2902     DFW       74   569.0              2                1.0   \n",
       "...      ...      ...     ...            ...                ...   \n",
       "2260038  ABQ       86   569.0              2                1.0   \n",
       "2260039  ABQ       86   569.0              2                1.0   \n",
       "2260040  COS       82   592.0              2                1.0   \n",
       "2260041  COS       82   592.0              2                1.0   \n",
       "6407046  ABQ       86  1671.0              2                1.0   \n",
       "\n",
       "        AirlineCompany  PricePerTicket           departure             arrival  \n",
       "2898                AA          109.00 2020-01-01 00:00:00 2020-01-01 00:56:54  \n",
       "2899                AA          118.00 2020-01-01 21:09:00 2020-01-01 22:05:54  \n",
       "2900                AA          122.00 2020-01-02 18:18:00 2020-01-02 19:14:54  \n",
       "2901                AA          127.00 2020-01-03 15:27:00 2020-01-03 16:23:54  \n",
       "2902                AA          137.00 2020-01-04 12:36:00 2020-01-04 13:32:54  \n",
       "...                ...             ...                 ...                 ...  \n",
       "2260038             AA          464.00 2020-06-16 10:58:00 2020-06-16 11:54:54  \n",
       "2260039             AA          192.14 2020-06-19 02:26:00 2020-06-19 03:22:54  \n",
       "2260040             AA          150.93 2020-06-21 17:53:00 2020-06-21 18:52:12  \n",
       "2260041             AA          202.43 2020-06-23 12:12:00 2020-06-23 13:11:12  \n",
       "6407046             AA          206.32 2020-06-19 23:35:00 2020-06-20 02:22:06  \n",
       "\n",
       "[200 rows x 19 columns]"
      ]
     },
     "execution_count": 523,
     "metadata": {},
     "output_type": "execute_result"
    }
   ],
   "source": [
    "fl_part"
   ]
  },
  {
   "cell_type": "code",
   "execution_count": null,
   "metadata": {},
   "outputs": [],
   "source": []
  },
  {
   "cell_type": "code",
   "execution_count": 519,
   "metadata": {},
   "outputs": [
    {
     "data": {
      "text/plain": [
       "(569.0,\n",
       " 569.0,\n",
       " 569.0,\n",
       " 569.0,\n",
       " 569.0,\n",
       " 569.0,\n",
       " 569.0,\n",
       " 569.0,\n",
       " 569.0,\n",
       " 569.0,\n",
       " 569.0,\n",
       " 569.0,\n",
       " 569.0,\n",
       " 569.0,\n",
       " 569.0,\n",
       " 569.0,\n",
       " 569.0,\n",
       " 569.0,\n",
       " 569.0,\n",
       " 569.0,\n",
       " 569.0,\n",
       " 569.0,\n",
       " 569.0,\n",
       " 569.0,\n",
       " 569.0,\n",
       " 569.0,\n",
       " 569.0,\n",
       " 569.0,\n",
       " 569.0,\n",
       " 569.0,\n",
       " 569.0,\n",
       " 569.0,\n",
       " 569.0,\n",
       " 569.0,\n",
       " 569.0,\n",
       " 569.0,\n",
       " 569.0,\n",
       " 569.0,\n",
       " 569.0,\n",
       " 569.0,\n",
       " 569.0,\n",
       " 569.0,\n",
       " 569.0,\n",
       " 569.0,\n",
       " 569.0,\n",
       " 569.0,\n",
       " 569.0,\n",
       " 569.0,\n",
       " 569.0,\n",
       " 569.0,\n",
       " 569.0,\n",
       " 569.0,\n",
       " 569.0,\n",
       " 569.0,\n",
       " 569.0,\n",
       " 569.0,\n",
       " 569.0,\n",
       " 569.0,\n",
       " 569.0,\n",
       " 569.0,\n",
       " 569.0,\n",
       " 569.0,\n",
       " 569.0,\n",
       " 569.0,\n",
       " 569.0,\n",
       " 569.0,\n",
       " 569.0,\n",
       " 569.0,\n",
       " 569.0,\n",
       " 569.0,\n",
       " 569.0,\n",
       " 569.0,\n",
       " 569.0,\n",
       " 569.0,\n",
       " 569.0,\n",
       " 569.0,\n",
       " 569.0,\n",
       " 569.0,\n",
       " 569.0,\n",
       " 569.0,\n",
       " 569.0,\n",
       " 569.0,\n",
       " 569.0,\n",
       " 569.0,\n",
       " 569.0,\n",
       " 569.0,\n",
       " 569.0,\n",
       " 569.0,\n",
       " 569.0,\n",
       " 569.0,\n",
       " 569.0,\n",
       " 569.0,\n",
       " 569.0,\n",
       " 569.0,\n",
       " 569.0,\n",
       " 569.0,\n",
       " 569.0,\n",
       " 569.0,\n",
       " 569.0,\n",
       " 569.0,\n",
       " 569.0,\n",
       " 569.0,\n",
       " 569.0,\n",
       " 569.0,\n",
       " 569.0,\n",
       " 569.0,\n",
       " 569.0,\n",
       " 569.0,\n",
       " 569.0,\n",
       " 569.0,\n",
       " 569.0,\n",
       " 569.0,\n",
       " 569.0,\n",
       " 569.0,\n",
       " 569.0,\n",
       " 569.0,\n",
       " 569.0,\n",
       " 569.0,\n",
       " 569.0,\n",
       " 569.0,\n",
       " 569.0,\n",
       " 569.0,\n",
       " 569.0,\n",
       " 569.0,\n",
       " 569.0,\n",
       " 569.0,\n",
       " 569.0,\n",
       " 569.0,\n",
       " 569.0,\n",
       " 569.0,\n",
       " 569.0,\n",
       " 569.0,\n",
       " 569.0,\n",
       " 569.0,\n",
       " 569.0,\n",
       " 569.0,\n",
       " 569.0,\n",
       " 569.0,\n",
       " 569.0,\n",
       " 569.0,\n",
       " 569.0,\n",
       " 569.0,\n",
       " 569.0,\n",
       " 569.0,\n",
       " 569.0,\n",
       " 569.0,\n",
       " 569.0,\n",
       " 569.0,\n",
       " 569.0,\n",
       " 569.0,\n",
       " 569.0,\n",
       " 569.0,\n",
       " 569.0,\n",
       " 569.0,\n",
       " 569.0,\n",
       " 569.0,\n",
       " 569.0,\n",
       " 569.0,\n",
       " 569.0,\n",
       " 569.0,\n",
       " 569.0,\n",
       " 569.0,\n",
       " 569.0,\n",
       " 569.0,\n",
       " 569.0,\n",
       " 569.0,\n",
       " 569.0,\n",
       " 569.0,\n",
       " 569.0,\n",
       " 569.0,\n",
       " 569.0,\n",
       " 569.0,\n",
       " 569.0,\n",
       " 569.0,\n",
       " 569.0,\n",
       " 569.0,\n",
       " 569.0,\n",
       " 569.0,\n",
       " 569.0,\n",
       " 569.0,\n",
       " 569.0,\n",
       " 569.0,\n",
       " 569.0,\n",
       " 569.0,\n",
       " 569.0,\n",
       " 569.0,\n",
       " 569.0,\n",
       " 569.0,\n",
       " 569.0,\n",
       " 569.0,\n",
       " 569.0,\n",
       " 569.0,\n",
       " 569.0,\n",
       " 569.0,\n",
       " 569.0,\n",
       " 569.0,\n",
       " 569.0,\n",
       " 592.0,\n",
       " 592.0,\n",
       " 1671.0)"
      ]
     },
     "execution_count": 519,
     "metadata": {},
     "output_type": "execute_result"
    }
   ],
   "source": [
    "tuple(fl_part['Miles'])"
   ]
  }
 ],
 "metadata": {
  "kernelspec": {
   "display_name": "Python 3 (ipykernel)",
   "language": "python",
   "name": "python3"
  },
  "language_info": {
   "codemirror_mode": {
    "name": "ipython",
    "version": 3
   },
   "file_extension": ".py",
   "mimetype": "text/x-python",
   "name": "python",
   "nbconvert_exporter": "python",
   "pygments_lexer": "ipython3",
   "version": "3.9.7"
  }
 },
 "nbformat": 4,
 "nbformat_minor": 4
}
