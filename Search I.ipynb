{
 "cells": [
  {
   "cell_type": "code",
   "execution_count": 395,
   "id": "cc893909",
   "metadata": {},
   "outputs": [],
   "source": [
    "import matplotlib.pyplot as plt\n",
    "%matplotlib inline\n",
    "import numpy as np\n",
    "import pandas as pd"
   ]
  },
  {
   "cell_type": "markdown",
   "id": "b8066ec6",
   "metadata": {},
   "source": [
    "### Import and process the data"
   ]
  },
  {
   "cell_type": "code",
   "execution_count": 396,
   "id": "71a4328b",
   "metadata": {},
   "outputs": [
    {
     "name": "stderr",
     "output_type": "stream",
     "text": [
      "/var/folders/gh/lf0mc7p936xfvjr53gs0s95m0000gn/T/ipykernel_15257/511557574.py:8: SettingWithCopyWarning: \n",
      "A value is trying to be set on a copy of a slice from a DataFrame\n",
      "\n",
      "See the caveats in the documentation: https://pandas.pydata.org/pandas-docs/stable/user_guide/indexing.html#returning-a-view-versus-a-copy\n",
      "  mpa.drop(['country', 'Unnamed: 0'], inplace=True, axis=1)\n"
     ]
    }
   ],
   "source": [
    "mp = pd.read_csv('Data/Outputs/mushed.csv')\n",
    "flights = pd.read_csv('Data/Outputs/flights.csv')\n",
    "flights.drop(['Unnamed: 0', 'ItinID', 'MktID',\n",
    "       'Quarter',  'OriginWac',  'DestWac', \n",
    "       'ContiguousUSA', 'NumTicketsOrdered'], axis=1, inplace=True)\n",
    "flights[['departure','arrival']] = flights[['departure','arrival']].astype(np.datetime64)\n",
    "mpa = mp[mp['iata'].isin(flights['Origin'].unique())]\n",
    "mpa.drop(['country', 'Unnamed: 0'], inplace=True, axis=1)\n",
    "ports = mpa[mpa['category']=='Airport']"
   ]
  },
  {
   "cell_type": "markdown",
   "id": "bc142529",
   "metadata": {},
   "source": [
    "### Search function peudocode:\n",
    "\n",
    "   **search_func**(_from, to, dates_range_):<br>\n",
    "        get direct flight if available</p>\n",
    "        limit the search by _dates_range_<br>\n",
    "        get label of from<br>\n",
    "        get label of to<br>\n",
    "        get all in label of to<br>\n",
    "        get all in label of from<br>\n",
    "        get all flights from _all_from_ to _all_to_ from the flights data set<br>\n",
    "        return **n** cheapest combinations\n",
    "    "
   ]
  },
  {
   "cell_type": "markdown",
   "id": "93dae485",
   "metadata": {},
   "source": [
    "### Search functioin"
   ]
  },
  {
   "cell_type": "code",
   "execution_count": 397,
   "id": "c1046ddb",
   "metadata": {},
   "outputs": [],
   "source": [
    "def search(fr, to, start, stop):    \n",
    "    '''Search the flight data to find flights from origin 'fr' to destination 'to' and\n",
    "       cheapest flights from and to the respecting clusters in the time range 'start'-'stop'.\n",
    "        Start and stop dates are str in format YYYY-MM-DD.\n",
    "        'fr' and 'to' are strings of airport abbreviations like 'LAX'. \n",
    "        Returns dict of direct and indirect flights dataframes.'''    \n",
    "    # Search criteria\n",
    "    fr_label = ports[ports['iata']==fr]['Labels'].iloc[0]\n",
    "    to_label = ports[ports['iata']==to]['Labels'].iloc[0]\n",
    "    fr_ports = ports[ports['Labels']==fr_label]\n",
    "    to_potts = ports[ports['Labels']==to_label]\n",
    "    start = np.datetime64(start)\n",
    "    stop = np.datetime64(stop)    \n",
    "    # Get direct flights\n",
    "    dir_fl = flights[(flights['departure']<stop)\n",
    "                     &(flights['departure']>start)\n",
    "                     &(flights['Origin']==fr)\n",
    "                     &(flights['Dest']==to)]\n",
    "    # Get indirect flights\n",
    "    all_from = ports[ports['Labels']==fr_label]['iata']\n",
    "    all_to = ports[ports['Labels']==to_label]['iata']\n",
    "    all_options = flights[(flights['departure']<stop)\n",
    "                      &(flights['departure']>start)\n",
    "                      &(flights.Origin.isin(all_from))\n",
    "                      &(flights.Dest.isin(all_to))]\n",
    "    \n",
    "    return {'direct':dir_fl, 'indirect':all_options.nsmallest(50,'PricePerTicket')}"
   ]
  },
  {
   "cell_type": "markdown",
   "id": "fa153418",
   "metadata": {},
   "source": [
    "### Test the function once with arbitrary parameters."
   ]
  },
  {
   "cell_type": "code",
   "execution_count": 398,
   "id": "e58990e6",
   "metadata": {},
   "outputs": [],
   "source": [
    "res = search('BUR', 'SAT', '2020-01-30', '2020-02-12')"
   ]
  },
  {
   "cell_type": "code",
   "execution_count": 399,
   "id": "e59f9658",
   "metadata": {},
   "outputs": [
    {
     "data": {
      "text/html": [
       "<div>\n",
       "<style scoped>\n",
       "    .dataframe tbody tr th:only-of-type {\n",
       "        vertical-align: middle;\n",
       "    }\n",
       "\n",
       "    .dataframe tbody tr th {\n",
       "        vertical-align: top;\n",
       "    }\n",
       "\n",
       "    .dataframe thead th {\n",
       "        text-align: right;\n",
       "    }\n",
       "</style>\n",
       "<table border=\"1\" class=\"dataframe\">\n",
       "  <thead>\n",
       "    <tr style=\"text-align: right;\">\n",
       "      <th></th>\n",
       "      <th>AIRPORT</th>\n",
       "      <th>CITY</th>\n",
       "      <th>STATE</th>\n",
       "      <th>LATITUDE</th>\n",
       "      <th>LONGITUDE</th>\n",
       "      <th>Origin</th>\n",
       "      <th>Dest</th>\n",
       "      <th>Miles</th>\n",
       "      <th>AirlineCompany</th>\n",
       "      <th>PricePerTicket</th>\n",
       "      <th>departure</th>\n",
       "      <th>arrival</th>\n",
       "    </tr>\n",
       "  </thead>\n",
       "  <tbody>\n",
       "    <tr>\n",
       "      <th>1199104</th>\n",
       "      <td>Burbank-Glendale-Pasadena</td>\n",
       "      <td>Burbank</td>\n",
       "      <td>CA</td>\n",
       "      <td>34.200619</td>\n",
       "      <td>-118.358497</td>\n",
       "      <td>BUR</td>\n",
       "      <td>SAT</td>\n",
       "      <td>1211.0</td>\n",
       "      <td>WN</td>\n",
       "      <td>348.35</td>\n",
       "      <td>2020-02-04 16:00:00</td>\n",
       "      <td>2020-02-04 18:01:00</td>\n",
       "    </tr>\n",
       "  </tbody>\n",
       "</table>\n",
       "</div>"
      ],
      "text/plain": [
       "                           AIRPORT     CITY STATE   LATITUDE   LONGITUDE  \\\n",
       "1199104  Burbank-Glendale-Pasadena  Burbank    CA  34.200619 -118.358497   \n",
       "\n",
       "        Origin Dest   Miles AirlineCompany  PricePerTicket  \\\n",
       "1199104    BUR  SAT  1211.0             WN          348.35   \n",
       "\n",
       "                  departure             arrival  \n",
       "1199104 2020-02-04 16:00:00 2020-02-04 18:01:00  "
      ]
     },
     "execution_count": 399,
     "metadata": {},
     "output_type": "execute_result"
    }
   ],
   "source": [
    "res['direct']"
   ]
  },
  {
   "cell_type": "code",
   "execution_count": 400,
   "id": "b2c20476",
   "metadata": {
    "scrolled": true
   },
   "outputs": [
    {
     "data": {
      "text/html": [
       "<div>\n",
       "<style scoped>\n",
       "    .dataframe tbody tr th:only-of-type {\n",
       "        vertical-align: middle;\n",
       "    }\n",
       "\n",
       "    .dataframe tbody tr th {\n",
       "        vertical-align: top;\n",
       "    }\n",
       "\n",
       "    .dataframe thead th {\n",
       "        text-align: right;\n",
       "    }\n",
       "</style>\n",
       "<table border=\"1\" class=\"dataframe\">\n",
       "  <thead>\n",
       "    <tr style=\"text-align: right;\">\n",
       "      <th></th>\n",
       "      <th>AIRPORT</th>\n",
       "      <th>CITY</th>\n",
       "      <th>STATE</th>\n",
       "      <th>LATITUDE</th>\n",
       "      <th>LONGITUDE</th>\n",
       "      <th>Origin</th>\n",
       "      <th>Dest</th>\n",
       "      <th>Miles</th>\n",
       "      <th>AirlineCompany</th>\n",
       "      <th>PricePerTicket</th>\n",
       "      <th>departure</th>\n",
       "      <th>arrival</th>\n",
       "    </tr>\n",
       "  </thead>\n",
       "  <tbody>\n",
       "    <tr>\n",
       "      <th>4665325</th>\n",
       "      <td>Los Angeles International</td>\n",
       "      <td>Los Angeles</td>\n",
       "      <td>CA</td>\n",
       "      <td>33.942536</td>\n",
       "      <td>-118.408074</td>\n",
       "      <td>LAX</td>\n",
       "      <td>IAH</td>\n",
       "      <td>1379.0</td>\n",
       "      <td>UA</td>\n",
       "      <td>50.0</td>\n",
       "      <td>2020-02-10 08:52:00</td>\n",
       "      <td>2020-02-10 11:09:00</td>\n",
       "    </tr>\n",
       "    <tr>\n",
       "      <th>4591927</th>\n",
       "      <td>Los Angeles International</td>\n",
       "      <td>Los Angeles</td>\n",
       "      <td>CA</td>\n",
       "      <td>33.942536</td>\n",
       "      <td>-118.408074</td>\n",
       "      <td>LAX</td>\n",
       "      <td>DFW</td>\n",
       "      <td>1235.0</td>\n",
       "      <td>AA</td>\n",
       "      <td>53.0</td>\n",
       "      <td>2020-02-08 09:59:00</td>\n",
       "      <td>2020-02-08 12:02:00</td>\n",
       "    </tr>\n",
       "    <tr>\n",
       "      <th>4665326</th>\n",
       "      <td>Los Angeles International</td>\n",
       "      <td>Los Angeles</td>\n",
       "      <td>CA</td>\n",
       "      <td>33.942536</td>\n",
       "      <td>-118.408074</td>\n",
       "      <td>LAX</td>\n",
       "      <td>IAH</td>\n",
       "      <td>1379.0</td>\n",
       "      <td>UA</td>\n",
       "      <td>54.0</td>\n",
       "      <td>2020-02-10 09:53:00</td>\n",
       "      <td>2020-02-10 12:10:00</td>\n",
       "    </tr>\n",
       "    <tr>\n",
       "      <th>4564188</th>\n",
       "      <td>Los Angeles International</td>\n",
       "      <td>Los Angeles</td>\n",
       "      <td>CA</td>\n",
       "      <td>33.942536</td>\n",
       "      <td>-118.408074</td>\n",
       "      <td>LAX</td>\n",
       "      <td>DAL</td>\n",
       "      <td>1246.0</td>\n",
       "      <td>WN</td>\n",
       "      <td>54.5</td>\n",
       "      <td>2020-02-03 03:12:00</td>\n",
       "      <td>2020-02-03 05:16:00</td>\n",
       "    </tr>\n",
       "    <tr>\n",
       "      <th>4591928</th>\n",
       "      <td>Los Angeles International</td>\n",
       "      <td>Los Angeles</td>\n",
       "      <td>CA</td>\n",
       "      <td>33.942536</td>\n",
       "      <td>-118.408074</td>\n",
       "      <td>LAX</td>\n",
       "      <td>DFW</td>\n",
       "      <td>1235.0</td>\n",
       "      <td>AA</td>\n",
       "      <td>55.0</td>\n",
       "      <td>2020-02-08 10:46:00</td>\n",
       "      <td>2020-02-08 12:49:00</td>\n",
       "    </tr>\n",
       "  </tbody>\n",
       "</table>\n",
       "</div>"
      ],
      "text/plain": [
       "                           AIRPORT         CITY STATE   LATITUDE   LONGITUDE  \\\n",
       "4665325  Los Angeles International  Los Angeles    CA  33.942536 -118.408074   \n",
       "4591927  Los Angeles International  Los Angeles    CA  33.942536 -118.408074   \n",
       "4665326  Los Angeles International  Los Angeles    CA  33.942536 -118.408074   \n",
       "4564188  Los Angeles International  Los Angeles    CA  33.942536 -118.408074   \n",
       "4591928  Los Angeles International  Los Angeles    CA  33.942536 -118.408074   \n",
       "\n",
       "        Origin Dest   Miles AirlineCompany  PricePerTicket  \\\n",
       "4665325    LAX  IAH  1379.0             UA            50.0   \n",
       "4591927    LAX  DFW  1235.0             AA            53.0   \n",
       "4665326    LAX  IAH  1379.0             UA            54.0   \n",
       "4564188    LAX  DAL  1246.0             WN            54.5   \n",
       "4591928    LAX  DFW  1235.0             AA            55.0   \n",
       "\n",
       "                  departure             arrival  \n",
       "4665325 2020-02-10 08:52:00 2020-02-10 11:09:00  \n",
       "4591927 2020-02-08 09:59:00 2020-02-08 12:02:00  \n",
       "4665326 2020-02-10 09:53:00 2020-02-10 12:10:00  \n",
       "4564188 2020-02-03 03:12:00 2020-02-03 05:16:00  \n",
       "4591928 2020-02-08 10:46:00 2020-02-08 12:49:00  "
      ]
     },
     "execution_count": 400,
     "metadata": {},
     "output_type": "execute_result"
    }
   ],
   "source": [
    "res['indirect'].iloc[:5]"
   ]
  },
  {
   "cell_type": "markdown",
   "id": "1fff8518",
   "metadata": {},
   "source": [
    "#### Test if i can find cheaper alternative for more than 0.7 of flights that cost more than 200$"
   ]
  },
  {
   "cell_type": "raw",
   "id": "1ab43b71",
   "metadata": {},
   "source": [
    "merge area nad accomodation cost to the flights?"
   ]
  },
  {
   "cell_type": "markdown",
   "id": "77fae876",
   "metadata": {},
   "source": [
    "slice flights more than 200$ assign it to 'Search' df add a column alt_price, and AirBnB\n",
    "\n",
    "Find alternatives \n",
    "get average price of alternatives as an alt_price at the row\n",
    "if no alternative alt_price = 0\n",
    "search for the room price in the area fill it in AirBnB col, else add q_price, else add 0."
   ]
  },
  {
   "cell_type": "code",
   "execution_count": 401,
   "id": "7bae7063",
   "metadata": {},
   "outputs": [],
   "source": [
    "Search = flights[flights['PricePerTicket']>200.0].nlargest(10**5, 'PricePerTicket')"
   ]
  },
  {
   "cell_type": "code",
   "execution_count": 402,
   "id": "f1076333",
   "metadata": {},
   "outputs": [],
   "source": [
    "Search[['alt_price','AirBnB']]=0"
   ]
  },
  {
   "cell_type": "code",
   "execution_count": 403,
   "id": "4160f0ac",
   "metadata": {},
   "outputs": [
    {
     "data": {
      "text/html": [
       "<div>\n",
       "<style scoped>\n",
       "    .dataframe tbody tr th:only-of-type {\n",
       "        vertical-align: middle;\n",
       "    }\n",
       "\n",
       "    .dataframe tbody tr th {\n",
       "        vertical-align: top;\n",
       "    }\n",
       "\n",
       "    .dataframe thead th {\n",
       "        text-align: right;\n",
       "    }\n",
       "</style>\n",
       "<table border=\"1\" class=\"dataframe\">\n",
       "  <thead>\n",
       "    <tr style=\"text-align: right;\">\n",
       "      <th></th>\n",
       "      <th>index</th>\n",
       "      <th>AIRPORT</th>\n",
       "      <th>CITY</th>\n",
       "      <th>STATE</th>\n",
       "      <th>LATITUDE</th>\n",
       "      <th>LONGITUDE</th>\n",
       "      <th>Origin</th>\n",
       "      <th>Dest</th>\n",
       "      <th>Miles</th>\n",
       "      <th>AirlineCompany</th>\n",
       "      <th>PricePerTicket</th>\n",
       "      <th>departure</th>\n",
       "      <th>arrival</th>\n",
       "      <th>alt_price</th>\n",
       "      <th>AirBnB</th>\n",
       "    </tr>\n",
       "  </thead>\n",
       "  <tbody>\n",
       "    <tr>\n",
       "      <th>0</th>\n",
       "      <td>68438</td>\n",
       "      <td>Ted Stevens Anchorage International</td>\n",
       "      <td>Anchorage</td>\n",
       "      <td>AK</td>\n",
       "      <td>61.174320</td>\n",
       "      <td>-149.996186</td>\n",
       "      <td>ANC</td>\n",
       "      <td>DEN</td>\n",
       "      <td>2405.0</td>\n",
       "      <td>UA</td>\n",
       "      <td>1000.0</td>\n",
       "      <td>2020-10-26 15:36:00</td>\n",
       "      <td>2020-10-26 19:36:00</td>\n",
       "      <td>0</td>\n",
       "      <td>0</td>\n",
       "    </tr>\n",
       "    <tr>\n",
       "      <th>1</th>\n",
       "      <td>72807</td>\n",
       "      <td>Ted Stevens Anchorage International</td>\n",
       "      <td>Anchorage</td>\n",
       "      <td>AK</td>\n",
       "      <td>61.174320</td>\n",
       "      <td>-149.996186</td>\n",
       "      <td>ANC</td>\n",
       "      <td>IAH</td>\n",
       "      <td>3266.0</td>\n",
       "      <td>UA</td>\n",
       "      <td>1000.0</td>\n",
       "      <td>2020-11-24 18:34:00</td>\n",
       "      <td>2020-11-25 00:00:00</td>\n",
       "      <td>0</td>\n",
       "      <td>0</td>\n",
       "    </tr>\n",
       "    <tr>\n",
       "      <th>2</th>\n",
       "      <td>174269</td>\n",
       "      <td>William B Hartsfield-Atlanta Intl</td>\n",
       "      <td>Atlanta</td>\n",
       "      <td>GA</td>\n",
       "      <td>33.640444</td>\n",
       "      <td>-84.426944</td>\n",
       "      <td>ATL</td>\n",
       "      <td>DEN</td>\n",
       "      <td>1199.0</td>\n",
       "      <td>DL</td>\n",
       "      <td>1000.0</td>\n",
       "      <td>2020-01-27 03:35:00</td>\n",
       "      <td>2020-01-27 05:34:00</td>\n",
       "      <td>0</td>\n",
       "      <td>0</td>\n",
       "    </tr>\n",
       "    <tr>\n",
       "      <th>3</th>\n",
       "      <td>185288</td>\n",
       "      <td>William B Hartsfield-Atlanta Intl</td>\n",
       "      <td>Atlanta</td>\n",
       "      <td>GA</td>\n",
       "      <td>33.640444</td>\n",
       "      <td>-84.426944</td>\n",
       "      <td>ATL</td>\n",
       "      <td>DFW</td>\n",
       "      <td>731.0</td>\n",
       "      <td>AA</td>\n",
       "      <td>1000.0</td>\n",
       "      <td>2020-03-01 10:11:00</td>\n",
       "      <td>2020-03-01 11:24:00</td>\n",
       "      <td>0</td>\n",
       "      <td>0</td>\n",
       "    </tr>\n",
       "    <tr>\n",
       "      <th>4</th>\n",
       "      <td>404505</td>\n",
       "      <td>William B Hartsfield-Atlanta Intl</td>\n",
       "      <td>Atlanta</td>\n",
       "      <td>GA</td>\n",
       "      <td>33.640444</td>\n",
       "      <td>-84.426944</td>\n",
       "      <td>ATL</td>\n",
       "      <td>PHL</td>\n",
       "      <td>666.0</td>\n",
       "      <td>AA</td>\n",
       "      <td>1000.0</td>\n",
       "      <td>2020-10-08 08:39:00</td>\n",
       "      <td>2020-10-08 09:45:00</td>\n",
       "      <td>0</td>\n",
       "      <td>0</td>\n",
       "    </tr>\n",
       "  </tbody>\n",
       "</table>\n",
       "</div>"
      ],
      "text/plain": [
       "    index                              AIRPORT       CITY STATE   LATITUDE  \\\n",
       "0   68438  Ted Stevens Anchorage International  Anchorage    AK  61.174320   \n",
       "1   72807  Ted Stevens Anchorage International  Anchorage    AK  61.174320   \n",
       "2  174269    William B Hartsfield-Atlanta Intl    Atlanta    GA  33.640444   \n",
       "3  185288    William B Hartsfield-Atlanta Intl    Atlanta    GA  33.640444   \n",
       "4  404505    William B Hartsfield-Atlanta Intl    Atlanta    GA  33.640444   \n",
       "\n",
       "    LONGITUDE Origin Dest   Miles AirlineCompany  PricePerTicket  \\\n",
       "0 -149.996186    ANC  DEN  2405.0             UA          1000.0   \n",
       "1 -149.996186    ANC  IAH  3266.0             UA          1000.0   \n",
       "2  -84.426944    ATL  DEN  1199.0             DL          1000.0   \n",
       "3  -84.426944    ATL  DFW   731.0             AA          1000.0   \n",
       "4  -84.426944    ATL  PHL   666.0             AA          1000.0   \n",
       "\n",
       "            departure             arrival  alt_price  AirBnB  \n",
       "0 2020-10-26 15:36:00 2020-10-26 19:36:00          0       0  \n",
       "1 2020-11-24 18:34:00 2020-11-25 00:00:00          0       0  \n",
       "2 2020-01-27 03:35:00 2020-01-27 05:34:00          0       0  \n",
       "3 2020-03-01 10:11:00 2020-03-01 11:24:00          0       0  \n",
       "4 2020-10-08 08:39:00 2020-10-08 09:45:00          0       0  "
      ]
     },
     "execution_count": 403,
     "metadata": {},
     "output_type": "execute_result"
    }
   ],
   "source": [
    "Search.reset_index(inplace = True)\n",
    "Search.head()"
   ]
  },
  {
   "cell_type": "code",
   "execution_count": 404,
   "id": "bc2d4cb2",
   "metadata": {},
   "outputs": [],
   "source": [
    "frl=Search.Origin\n",
    "tol=Search.Dest"
   ]
  },
  {
   "cell_type": "code",
   "execution_count": 405,
   "id": "532ec372",
   "metadata": {},
   "outputs": [],
   "source": [
    "startl = Search['departure'].apply(lambda x: x - np.timedelta64(10, 'D'))"
   ]
  },
  {
   "cell_type": "code",
   "execution_count": 406,
   "id": "a054e388",
   "metadata": {},
   "outputs": [],
   "source": [
    "endl = Search['arrival'].apply(lambda x: x + np.timedelta64(10, 'D'))"
   ]
  },
  {
   "cell_type": "code",
   "execution_count": 407,
   "id": "3fafa7a1",
   "metadata": {},
   "outputs": [
    {
     "ename": "KeyboardInterrupt",
     "evalue": "",
     "output_type": "error",
     "traceback": [
      "\u001b[0;31m---------------------------------------------------------------------------\u001b[0m",
      "\u001b[0;31mKeyboardInterrupt\u001b[0m                         Traceback (most recent call last)",
      "Input \u001b[0;32mIn [407]\u001b[0m, in \u001b[0;36m<cell line: 1>\u001b[0;34m()\u001b[0m\n\u001b[0;32m----> 1\u001b[0m monster \u001b[38;5;241m=\u001b[39m [search(a,b,c,d)[\u001b[38;5;124m'\u001b[39m\u001b[38;5;124mindirect\u001b[39m\u001b[38;5;124m'\u001b[39m] \u001b[38;5;28;01mfor\u001b[39;00m a, b, c, d \u001b[38;5;129;01min\u001b[39;00m \u001b[38;5;28mzip\u001b[39m(frl,tol,startl,endl)]\n",
      "Input \u001b[0;32mIn [407]\u001b[0m, in \u001b[0;36m<listcomp>\u001b[0;34m(.0)\u001b[0m\n\u001b[0;32m----> 1\u001b[0m monster \u001b[38;5;241m=\u001b[39m [\u001b[43msearch\u001b[49m\u001b[43m(\u001b[49m\u001b[43ma\u001b[49m\u001b[43m,\u001b[49m\u001b[43mb\u001b[49m\u001b[43m,\u001b[49m\u001b[43mc\u001b[49m\u001b[43m,\u001b[49m\u001b[43md\u001b[49m\u001b[43m)\u001b[49m[\u001b[38;5;124m'\u001b[39m\u001b[38;5;124mindirect\u001b[39m\u001b[38;5;124m'\u001b[39m] \u001b[38;5;28;01mfor\u001b[39;00m a, b, c, d \u001b[38;5;129;01min\u001b[39;00m \u001b[38;5;28mzip\u001b[39m(frl,tol,startl,endl)]\n",
      "Input \u001b[0;32mIn [397]\u001b[0m, in \u001b[0;36msearch\u001b[0;34m(fr, to, start, stop)\u001b[0m\n\u001b[1;32m     13\u001b[0m stop \u001b[38;5;241m=\u001b[39m np\u001b[38;5;241m.\u001b[39mdatetime64(stop)    \n\u001b[1;32m     14\u001b[0m \u001b[38;5;66;03m# Get direct flights\u001b[39;00m\n\u001b[1;32m     15\u001b[0m dir_fl \u001b[38;5;241m=\u001b[39m flights[(flights[\u001b[38;5;124m'\u001b[39m\u001b[38;5;124mdeparture\u001b[39m\u001b[38;5;124m'\u001b[39m]\u001b[38;5;241m<\u001b[39mstop)\n\u001b[1;32m     16\u001b[0m                  \u001b[38;5;241m&\u001b[39m(flights[\u001b[38;5;124m'\u001b[39m\u001b[38;5;124mdeparture\u001b[39m\u001b[38;5;124m'\u001b[39m]\u001b[38;5;241m>\u001b[39mstart)\n\u001b[0;32m---> 17\u001b[0m                  \u001b[38;5;241m&\u001b[39m(\u001b[43mflights\u001b[49m\u001b[43m[\u001b[49m\u001b[38;5;124;43m'\u001b[39;49m\u001b[38;5;124;43mOrigin\u001b[39;49m\u001b[38;5;124;43m'\u001b[39;49m\u001b[43m]\u001b[49m\u001b[38;5;241;43m==\u001b[39;49m\u001b[43mfr\u001b[49m)\n\u001b[1;32m     18\u001b[0m                  \u001b[38;5;241m&\u001b[39m(flights[\u001b[38;5;124m'\u001b[39m\u001b[38;5;124mDest\u001b[39m\u001b[38;5;124m'\u001b[39m]\u001b[38;5;241m==\u001b[39mto)]\n\u001b[1;32m     19\u001b[0m \u001b[38;5;66;03m# Get indirect flights\u001b[39;00m\n\u001b[1;32m     20\u001b[0m all_from \u001b[38;5;241m=\u001b[39m ports[ports[\u001b[38;5;124m'\u001b[39m\u001b[38;5;124mLabels\u001b[39m\u001b[38;5;124m'\u001b[39m]\u001b[38;5;241m==\u001b[39mfr_label][\u001b[38;5;124m'\u001b[39m\u001b[38;5;124miata\u001b[39m\u001b[38;5;124m'\u001b[39m]\n",
      "File \u001b[0;32m~/miniconda3/envs/ih_da/lib/python3.9/site-packages/pandas/core/ops/common.py:70\u001b[0m, in \u001b[0;36m_unpack_zerodim_and_defer.<locals>.new_method\u001b[0;34m(self, other)\u001b[0m\n\u001b[1;32m     66\u001b[0m             \u001b[38;5;28;01mreturn\u001b[39;00m \u001b[38;5;28mNotImplemented\u001b[39m\n\u001b[1;32m     68\u001b[0m other \u001b[38;5;241m=\u001b[39m item_from_zerodim(other)\n\u001b[0;32m---> 70\u001b[0m \u001b[38;5;28;01mreturn\u001b[39;00m \u001b[43mmethod\u001b[49m\u001b[43m(\u001b[49m\u001b[38;5;28;43mself\u001b[39;49m\u001b[43m,\u001b[49m\u001b[43m \u001b[49m\u001b[43mother\u001b[49m\u001b[43m)\u001b[49m\n",
      "File \u001b[0;32m~/miniconda3/envs/ih_da/lib/python3.9/site-packages/pandas/core/arraylike.py:40\u001b[0m, in \u001b[0;36mOpsMixin.__eq__\u001b[0;34m(self, other)\u001b[0m\n\u001b[1;32m     38\u001b[0m \u001b[38;5;129m@unpack_zerodim_and_defer\u001b[39m(\u001b[38;5;124m\"\u001b[39m\u001b[38;5;124m__eq__\u001b[39m\u001b[38;5;124m\"\u001b[39m)\n\u001b[1;32m     39\u001b[0m \u001b[38;5;28;01mdef\u001b[39;00m \u001b[38;5;21m__eq__\u001b[39m(\u001b[38;5;28mself\u001b[39m, other):\n\u001b[0;32m---> 40\u001b[0m     \u001b[38;5;28;01mreturn\u001b[39;00m \u001b[38;5;28;43mself\u001b[39;49m\u001b[38;5;241;43m.\u001b[39;49m\u001b[43m_cmp_method\u001b[49m\u001b[43m(\u001b[49m\u001b[43mother\u001b[49m\u001b[43m,\u001b[49m\u001b[43m \u001b[49m\u001b[43moperator\u001b[49m\u001b[38;5;241;43m.\u001b[39;49m\u001b[43meq\u001b[49m\u001b[43m)\u001b[49m\n",
      "File \u001b[0;32m~/miniconda3/envs/ih_da/lib/python3.9/site-packages/pandas/core/series.py:5623\u001b[0m, in \u001b[0;36mSeries._cmp_method\u001b[0;34m(self, other, op)\u001b[0m\n\u001b[1;32m   5620\u001b[0m rvalues \u001b[38;5;241m=\u001b[39m extract_array(other, extract_numpy\u001b[38;5;241m=\u001b[39m\u001b[38;5;28;01mTrue\u001b[39;00m, extract_range\u001b[38;5;241m=\u001b[39m\u001b[38;5;28;01mTrue\u001b[39;00m)\n\u001b[1;32m   5622\u001b[0m \u001b[38;5;28;01mwith\u001b[39;00m np\u001b[38;5;241m.\u001b[39merrstate(\u001b[38;5;28mall\u001b[39m\u001b[38;5;241m=\u001b[39m\u001b[38;5;124m\"\u001b[39m\u001b[38;5;124mignore\u001b[39m\u001b[38;5;124m\"\u001b[39m):\n\u001b[0;32m-> 5623\u001b[0m     res_values \u001b[38;5;241m=\u001b[39m \u001b[43mops\u001b[49m\u001b[38;5;241;43m.\u001b[39;49m\u001b[43mcomparison_op\u001b[49m\u001b[43m(\u001b[49m\u001b[43mlvalues\u001b[49m\u001b[43m,\u001b[49m\u001b[43m \u001b[49m\u001b[43mrvalues\u001b[49m\u001b[43m,\u001b[49m\u001b[43m \u001b[49m\u001b[43mop\u001b[49m\u001b[43m)\u001b[49m\n\u001b[1;32m   5625\u001b[0m \u001b[38;5;28;01mreturn\u001b[39;00m \u001b[38;5;28mself\u001b[39m\u001b[38;5;241m.\u001b[39m_construct_result(res_values, name\u001b[38;5;241m=\u001b[39mres_name)\n",
      "File \u001b[0;32m~/miniconda3/envs/ih_da/lib/python3.9/site-packages/pandas/core/ops/array_ops.py:283\u001b[0m, in \u001b[0;36mcomparison_op\u001b[0;34m(left, right, op)\u001b[0m\n\u001b[1;32m    280\u001b[0m     \u001b[38;5;28;01mreturn\u001b[39;00m invalid_comparison(lvalues, rvalues, op)\n\u001b[1;32m    282\u001b[0m \u001b[38;5;28;01melif\u001b[39;00m is_object_dtype(lvalues\u001b[38;5;241m.\u001b[39mdtype) \u001b[38;5;129;01mor\u001b[39;00m \u001b[38;5;28misinstance\u001b[39m(rvalues, \u001b[38;5;28mstr\u001b[39m):\n\u001b[0;32m--> 283\u001b[0m     res_values \u001b[38;5;241m=\u001b[39m \u001b[43mcomp_method_OBJECT_ARRAY\u001b[49m\u001b[43m(\u001b[49m\u001b[43mop\u001b[49m\u001b[43m,\u001b[49m\u001b[43m \u001b[49m\u001b[43mlvalues\u001b[49m\u001b[43m,\u001b[49m\u001b[43m \u001b[49m\u001b[43mrvalues\u001b[49m\u001b[43m)\u001b[49m\n\u001b[1;32m    285\u001b[0m \u001b[38;5;28;01melse\u001b[39;00m:\n\u001b[1;32m    286\u001b[0m     res_values \u001b[38;5;241m=\u001b[39m _na_arithmetic_op(lvalues, rvalues, op, is_cmp\u001b[38;5;241m=\u001b[39m\u001b[38;5;28;01mTrue\u001b[39;00m)\n",
      "File \u001b[0;32m~/miniconda3/envs/ih_da/lib/python3.9/site-packages/pandas/core/ops/array_ops.py:73\u001b[0m, in \u001b[0;36mcomp_method_OBJECT_ARRAY\u001b[0;34m(op, x, y)\u001b[0m\n\u001b[1;32m     71\u001b[0m     result \u001b[38;5;241m=\u001b[39m libops\u001b[38;5;241m.\u001b[39mvec_compare(x\u001b[38;5;241m.\u001b[39mravel(), y\u001b[38;5;241m.\u001b[39mravel(), op)\n\u001b[1;32m     72\u001b[0m \u001b[38;5;28;01melse\u001b[39;00m:\n\u001b[0;32m---> 73\u001b[0m     result \u001b[38;5;241m=\u001b[39m \u001b[43mlibops\u001b[49m\u001b[38;5;241;43m.\u001b[39;49m\u001b[43mscalar_compare\u001b[49m\u001b[43m(\u001b[49m\u001b[43mx\u001b[49m\u001b[38;5;241;43m.\u001b[39;49m\u001b[43mravel\u001b[49m\u001b[43m(\u001b[49m\u001b[43m)\u001b[49m\u001b[43m,\u001b[49m\u001b[43m \u001b[49m\u001b[43my\u001b[49m\u001b[43m,\u001b[49m\u001b[43m \u001b[49m\u001b[43mop\u001b[49m\u001b[43m)\u001b[49m\n\u001b[1;32m     74\u001b[0m \u001b[38;5;28;01mreturn\u001b[39;00m result\u001b[38;5;241m.\u001b[39mreshape(x\u001b[38;5;241m.\u001b[39mshape)\n",
      "\u001b[0;31mKeyboardInterrupt\u001b[0m: "
     ]
    }
   ],
   "source": [
    "monster = [search(a,b,c,d)['indirect'] for a, b, c, d in zip(frl,tol,startl,endl)]"
   ]
  },
  {
   "cell_type": "code",
   "execution_count": null,
   "id": "bcfc7258",
   "metadata": {},
   "outputs": [],
   "source": [
    "monster[3]"
   ]
  }
 ],
 "metadata": {
  "kernelspec": {
   "display_name": "Python 3 (ipykernel)",
   "language": "python",
   "name": "python3"
  },
  "language_info": {
   "codemirror_mode": {
    "name": "ipython",
    "version": 3
   },
   "file_extension": ".py",
   "mimetype": "text/x-python",
   "name": "python",
   "nbconvert_exporter": "python",
   "pygments_lexer": "ipython3",
   "version": "3.9.7"
  }
 },
 "nbformat": 4,
 "nbformat_minor": 5
}
