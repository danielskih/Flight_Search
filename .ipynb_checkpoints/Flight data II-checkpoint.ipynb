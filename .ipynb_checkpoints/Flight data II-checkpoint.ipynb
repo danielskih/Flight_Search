{
 "cells": [
  {
   "cell_type": "code",
   "execution_count": null,
   "metadata": {},
   "outputs": [],
   "source": [
    "from random import choices\n",
    "from itertools import chain\n",
    "import matplotlib.pyplot as plt\n",
    "%matplotlib inline\n",
    "import seaborn as sns\n",
    "import pandas as pd\n",
    "import numpy as np"
   ]
  },
  {
   "cell_type": "code",
   "execution_count": null,
   "metadata": {},
   "outputs": [],
   "source": [
    "dff = pd.read_csv('Data/Cleaned_2018_Flights.csv')"
   ]
  },
  {
   "cell_type": "code",
   "execution_count": 143,
   "metadata": {},
   "outputs": [
    {
     "data": {
      "text/html": [
       "<div>\n",
       "<style scoped>\n",
       "    .dataframe tbody tr th:only-of-type {\n",
       "        vertical-align: middle;\n",
       "    }\n",
       "\n",
       "    .dataframe tbody tr th {\n",
       "        vertical-align: top;\n",
       "    }\n",
       "\n",
       "    .dataframe thead th {\n",
       "        text-align: right;\n",
       "    }\n",
       "</style>\n",
       "<table border=\"1\" class=\"dataframe\">\n",
       "  <thead>\n",
       "    <tr style=\"text-align: right;\">\n",
       "      <th></th>\n",
       "      <th>Unnamed: 0</th>\n",
       "      <th>ItinID</th>\n",
       "      <th>MktID</th>\n",
       "      <th>MktCoupons</th>\n",
       "      <th>Quarter</th>\n",
       "      <th>Origin</th>\n",
       "      <th>OriginWac</th>\n",
       "      <th>Dest</th>\n",
       "      <th>DestWac</th>\n",
       "      <th>Miles</th>\n",
       "      <th>ContiguousUSA</th>\n",
       "      <th>NumTicketsOrdered</th>\n",
       "      <th>AirlineCompany</th>\n",
       "      <th>PricePerTicket</th>\n",
       "    </tr>\n",
       "  </thead>\n",
       "  <tbody>\n",
       "    <tr>\n",
       "      <th>0</th>\n",
       "      <td>0</td>\n",
       "      <td>20181767585</td>\n",
       "      <td>2018176758501</td>\n",
       "      <td>1</td>\n",
       "      <td>1</td>\n",
       "      <td>PHL</td>\n",
       "      <td>23</td>\n",
       "      <td>LAX</td>\n",
       "      <td>91</td>\n",
       "      <td>2402.0</td>\n",
       "      <td>2</td>\n",
       "      <td>1.0</td>\n",
       "      <td>AA</td>\n",
       "      <td>672.87</td>\n",
       "    </tr>\n",
       "    <tr>\n",
       "      <th>1</th>\n",
       "      <td>1</td>\n",
       "      <td>20181767586</td>\n",
       "      <td>2018176758601</td>\n",
       "      <td>1</td>\n",
       "      <td>1</td>\n",
       "      <td>PHL</td>\n",
       "      <td>23</td>\n",
       "      <td>LAX</td>\n",
       "      <td>91</td>\n",
       "      <td>2402.0</td>\n",
       "      <td>2</td>\n",
       "      <td>1.0</td>\n",
       "      <td>AA</td>\n",
       "      <td>367.68</td>\n",
       "    </tr>\n",
       "    <tr>\n",
       "      <th>2</th>\n",
       "      <td>2</td>\n",
       "      <td>20181767587</td>\n",
       "      <td>2018176758701</td>\n",
       "      <td>1</td>\n",
       "      <td>1</td>\n",
       "      <td>PHL</td>\n",
       "      <td>23</td>\n",
       "      <td>LAX</td>\n",
       "      <td>91</td>\n",
       "      <td>2402.0</td>\n",
       "      <td>2</td>\n",
       "      <td>1.0</td>\n",
       "      <td>AA</td>\n",
       "      <td>417.94</td>\n",
       "    </tr>\n",
       "    <tr>\n",
       "      <th>3</th>\n",
       "      <td>3</td>\n",
       "      <td>20181767636</td>\n",
       "      <td>2018176763601</td>\n",
       "      <td>1</td>\n",
       "      <td>1</td>\n",
       "      <td>PHL</td>\n",
       "      <td>23</td>\n",
       "      <td>LAX</td>\n",
       "      <td>91</td>\n",
       "      <td>2402.0</td>\n",
       "      <td>2</td>\n",
       "      <td>1.0</td>\n",
       "      <td>AA</td>\n",
       "      <td>247.10</td>\n",
       "    </tr>\n",
       "    <tr>\n",
       "      <th>4</th>\n",
       "      <td>4</td>\n",
       "      <td>20181767637</td>\n",
       "      <td>2018176763701</td>\n",
       "      <td>1</td>\n",
       "      <td>1</td>\n",
       "      <td>PHL</td>\n",
       "      <td>23</td>\n",
       "      <td>LAX</td>\n",
       "      <td>91</td>\n",
       "      <td>2402.0</td>\n",
       "      <td>2</td>\n",
       "      <td>1.0</td>\n",
       "      <td>AA</td>\n",
       "      <td>276.35</td>\n",
       "    </tr>\n",
       "  </tbody>\n",
       "</table>\n",
       "</div>"
      ],
      "text/plain": [
       "   Unnamed: 0       ItinID          MktID  MktCoupons  Quarter Origin  \\\n",
       "0           0  20181767585  2018176758501           1        1    PHL   \n",
       "1           1  20181767586  2018176758601           1        1    PHL   \n",
       "2           2  20181767587  2018176758701           1        1    PHL   \n",
       "3           3  20181767636  2018176763601           1        1    PHL   \n",
       "4           4  20181767637  2018176763701           1        1    PHL   \n",
       "\n",
       "   OriginWac Dest  DestWac   Miles  ContiguousUSA  NumTicketsOrdered  \\\n",
       "0         23  LAX       91  2402.0              2                1.0   \n",
       "1         23  LAX       91  2402.0              2                1.0   \n",
       "2         23  LAX       91  2402.0              2                1.0   \n",
       "3         23  LAX       91  2402.0              2                1.0   \n",
       "4         23  LAX       91  2402.0              2                1.0   \n",
       "\n",
       "  AirlineCompany  PricePerTicket  \n",
       "0             AA          672.87  \n",
       "1             AA          367.68  \n",
       "2             AA          417.94  \n",
       "3             AA          247.10  \n",
       "4             AA          276.35  "
      ]
     },
     "execution_count": 143,
     "metadata": {},
     "output_type": "execute_result"
    }
   ],
   "source": [
    "dff.head()"
   ]
  },
  {
   "cell_type": "code",
   "execution_count": 71,
   "metadata": {},
   "outputs": [
    {
     "data": {
      "text/plain": [
       "(9534417, 14)"
      ]
     },
     "execution_count": 71,
     "metadata": {},
     "output_type": "execute_result"
    }
   ],
   "source": [
    "dff.shape"
   ]
  },
  {
   "cell_type": "markdown",
   "metadata": {},
   "source": [
    "## Lets see if the prices vary enough"
   ]
  },
  {
   "cell_type": "code",
   "execution_count": 25,
   "metadata": {},
   "outputs": [
    {
     "data": {
      "text/plain": [
       "96.15746757095732"
      ]
     },
     "execution_count": 25,
     "metadata": {},
     "output_type": "execute_result"
    }
   ],
   "source": [
    "dff.groupby(['Origin', 'Dest'])['PricePerTicket'].std().median()"
   ]
  },
  {
   "cell_type": "markdown",
   "metadata": {},
   "source": [
    "### check for missing values"
   ]
  },
  {
   "cell_type": "code",
   "execution_count": 109,
   "metadata": {
    "collapsed": true
   },
   "outputs": [
    {
     "data": {
      "text/plain": [
       "Unnamed: 0           False\n",
       "ItinID               False\n",
       "MktID                False\n",
       "MktCoupons           False\n",
       "Quarter              False\n",
       "Origin               False\n",
       "OriginWac            False\n",
       "Dest                 False\n",
       "DestWac              False\n",
       "Miles                False\n",
       "ContiguousUSA        False\n",
       "NumTicketsOrdered    False\n",
       "AirlineCompany       False\n",
       "PricePerTicket       False\n",
       "dtype: bool"
      ]
     },
     "execution_count": 109,
     "metadata": {},
     "output_type": "execute_result"
    }
   ],
   "source": [
    "dff.isna().any()"
   ]
  },
  {
   "cell_type": "markdown",
   "metadata": {},
   "source": [
    "## We going to need coordinates. \n",
    "I found a data set with geolocations for the airports."
   ]
  },
  {
   "cell_type": "code",
   "execution_count": 7,
   "metadata": {},
   "outputs": [],
   "source": [
    "geo = pd.read_csv('Data/US_airports_geo.csv')"
   ]
  },
  {
   "cell_type": "markdown",
   "metadata": {},
   "source": [
    "#### Does it have missing values?"
   ]
  },
  {
   "cell_type": "code",
   "execution_count": 8,
   "metadata": {
    "collapsed": true
   },
   "outputs": [
    {
     "data": {
      "text/plain": [
       "IATA         False\n",
       "AIRPORT      False\n",
       "CITY          True\n",
       "STATE         True\n",
       "COUNTRY      False\n",
       "LATITUDE     False\n",
       "LONGITUDE    False\n",
       "dtype: bool"
      ]
     },
     "execution_count": 8,
     "metadata": {},
     "output_type": "execute_result"
    }
   ],
   "source": [
    "geo.isna().any()"
   ]
  },
  {
   "cell_type": "markdown",
   "metadata": {},
   "source": [
    "#### the geo columns are perfect"
   ]
  },
  {
   "cell_type": "markdown",
   "metadata": {},
   "source": [
    "### Lets join a data set with geodata of the airports."
   ]
  },
  {
   "cell_type": "code",
   "execution_count": 9,
   "metadata": {},
   "outputs": [],
   "source": [
    "flights = pd.merge(geo, dff, how='inner', left_on='IATA', right_on='Origin')"
   ]
  },
  {
   "cell_type": "code",
   "execution_count": 10,
   "metadata": {},
   "outputs": [],
   "source": [
    "flights.drop(['COUNTRY', 'Unnamed: 0', 'IATA','MktCoupons' ],axis=True, inplace=True)"
   ]
  },
  {
   "cell_type": "markdown",
   "metadata": {},
   "source": [
    "## There is no departure - arrival time, so we need to ctreate it."
   ]
  },
  {
   "cell_type": "code",
   "execution_count": 97,
   "metadata": {},
   "outputs": [],
   "source": [
    "flights['departure'] = 0"
   ]
  },
  {
   "cell_type": "markdown",
   "metadata": {},
   "source": [
    "Need to find all the permutations of the airports.\n",
    "    \n",
    "Count the occurence of each of them and then spread them evenly through the year.\n",
    "        \n",
    "Group by FTW."
   ]
  },
  {
   "cell_type": "code",
   "execution_count": 101,
   "metadata": {},
   "outputs": [],
   "source": [
    "flights.sort_values(['Origin', 'Dest'], inplace=True)"
   ]
  },
  {
   "cell_type": "code",
   "execution_count": 102,
   "metadata": {},
   "outputs": [],
   "source": [
    "kgb=flights.groupby(['Origin', 'Dest'])['departure'].value_counts()"
   ]
  },
  {
   "cell_type": "code",
   "execution_count": 104,
   "metadata": {},
   "outputs": [],
   "source": [
    "flights['departure'] = list(chain(*[pd.date_range(start='2020/01/01', end='2020/12/30', periods=i) for i in kgb]))"
   ]
  },
  {
   "cell_type": "code",
   "execution_count": 89,
   "metadata": {},
   "outputs": [],
   "source": [
    "flights['departure'] = flights['departure'].dt.floor('T')"
   ]
  },
  {
   "cell_type": "markdown",
   "metadata": {},
   "source": [
    "### Now do the arrivals."
   ]
  },
  {
   "cell_type": "code",
   "execution_count": 20,
   "metadata": {},
   "outputs": [],
   "source": [
    "def travel_time(dist):\n",
    "    return pd.Timedelta(minutes = dist/10)"
   ]
  },
  {
   "cell_type": "code",
   "execution_count": 131,
   "metadata": {},
   "outputs": [],
   "source": [
    "flights['arrival'] = flights['departure']+flights['Miles'].apply(travel_time)"
   ]
  },
  {
   "cell_type": "code",
   "execution_count": 132,
   "metadata": {},
   "outputs": [],
   "source": [
    "flights['arrival'] = flights['arrival'].dt.floor('T')"
   ]
  },
  {
   "cell_type": "code",
   "execution_count": 133,
   "metadata": {},
   "outputs": [
    {
     "data": {
      "text/html": [
       "<div>\n",
       "<style scoped>\n",
       "    .dataframe tbody tr th:only-of-type {\n",
       "        vertical-align: middle;\n",
       "    }\n",
       "\n",
       "    .dataframe tbody tr th {\n",
       "        vertical-align: top;\n",
       "    }\n",
       "\n",
       "    .dataframe thead th {\n",
       "        text-align: right;\n",
       "    }\n",
       "</style>\n",
       "<table border=\"1\" class=\"dataframe\">\n",
       "  <thead>\n",
       "    <tr style=\"text-align: right;\">\n",
       "      <th></th>\n",
       "      <th>AIRPORT</th>\n",
       "      <th>CITY</th>\n",
       "      <th>STATE</th>\n",
       "      <th>LATITUDE</th>\n",
       "      <th>LONGITUDE</th>\n",
       "      <th>ItinID</th>\n",
       "      <th>MktID</th>\n",
       "      <th>Quarter</th>\n",
       "      <th>Origin</th>\n",
       "      <th>OriginWac</th>\n",
       "      <th>Dest</th>\n",
       "      <th>DestWac</th>\n",
       "      <th>Miles</th>\n",
       "      <th>ContiguousUSA</th>\n",
       "      <th>NumTicketsOrdered</th>\n",
       "      <th>AirlineCompany</th>\n",
       "      <th>PricePerTicket</th>\n",
       "      <th>departure</th>\n",
       "      <th>arrival</th>\n",
       "    </tr>\n",
       "  </thead>\n",
       "  <tbody>\n",
       "    <tr>\n",
       "      <th>8838370</th>\n",
       "      <td>Lehigh Valley International</td>\n",
       "      <td>Allentown</td>\n",
       "      <td>PA</td>\n",
       "      <td>40.652363</td>\n",
       "      <td>-75.440402</td>\n",
       "      <td>201811390083</td>\n",
       "      <td>20181139008301</td>\n",
       "      <td>1</td>\n",
       "      <td>ABE</td>\n",
       "      <td>23</td>\n",
       "      <td>ATL</td>\n",
       "      <td>34</td>\n",
       "      <td>692.0</td>\n",
       "      <td>2</td>\n",
       "      <td>1.0</td>\n",
       "      <td>DL</td>\n",
       "      <td>162.0</td>\n",
       "      <td>2020-01-01 00:00:00</td>\n",
       "      <td>2020-01-01 01:09:00</td>\n",
       "    </tr>\n",
       "    <tr>\n",
       "      <th>8838371</th>\n",
       "      <td>Lehigh Valley International</td>\n",
       "      <td>Allentown</td>\n",
       "      <td>PA</td>\n",
       "      <td>40.652363</td>\n",
       "      <td>-75.440402</td>\n",
       "      <td>201811390084</td>\n",
       "      <td>20181139008401</td>\n",
       "      <td>1</td>\n",
       "      <td>ABE</td>\n",
       "      <td>23</td>\n",
       "      <td>ATL</td>\n",
       "      <td>34</td>\n",
       "      <td>692.0</td>\n",
       "      <td>2</td>\n",
       "      <td>1.0</td>\n",
       "      <td>DL</td>\n",
       "      <td>214.0</td>\n",
       "      <td>2020-01-01 21:09:00</td>\n",
       "      <td>2020-01-01 22:18:00</td>\n",
       "    </tr>\n",
       "    <tr>\n",
       "      <th>8838372</th>\n",
       "      <td>Lehigh Valley International</td>\n",
       "      <td>Allentown</td>\n",
       "      <td>PA</td>\n",
       "      <td>40.652363</td>\n",
       "      <td>-75.440402</td>\n",
       "      <td>201811390085</td>\n",
       "      <td>20181139008501</td>\n",
       "      <td>1</td>\n",
       "      <td>ABE</td>\n",
       "      <td>23</td>\n",
       "      <td>ATL</td>\n",
       "      <td>34</td>\n",
       "      <td>692.0</td>\n",
       "      <td>2</td>\n",
       "      <td>1.0</td>\n",
       "      <td>DL</td>\n",
       "      <td>254.0</td>\n",
       "      <td>2020-01-02 18:18:00</td>\n",
       "      <td>2020-01-02 19:27:00</td>\n",
       "    </tr>\n",
       "    <tr>\n",
       "      <th>8838373</th>\n",
       "      <td>Lehigh Valley International</td>\n",
       "      <td>Allentown</td>\n",
       "      <td>PA</td>\n",
       "      <td>40.652363</td>\n",
       "      <td>-75.440402</td>\n",
       "      <td>201811390086</td>\n",
       "      <td>20181139008601</td>\n",
       "      <td>1</td>\n",
       "      <td>ABE</td>\n",
       "      <td>23</td>\n",
       "      <td>ATL</td>\n",
       "      <td>34</td>\n",
       "      <td>692.0</td>\n",
       "      <td>2</td>\n",
       "      <td>1.0</td>\n",
       "      <td>DL</td>\n",
       "      <td>280.0</td>\n",
       "      <td>2020-01-03 15:27:00</td>\n",
       "      <td>2020-01-03 16:36:00</td>\n",
       "    </tr>\n",
       "    <tr>\n",
       "      <th>8838374</th>\n",
       "      <td>Lehigh Valley International</td>\n",
       "      <td>Allentown</td>\n",
       "      <td>PA</td>\n",
       "      <td>40.652363</td>\n",
       "      <td>-75.440402</td>\n",
       "      <td>201811390087</td>\n",
       "      <td>20181139008701</td>\n",
       "      <td>1</td>\n",
       "      <td>ABE</td>\n",
       "      <td>23</td>\n",
       "      <td>ATL</td>\n",
       "      <td>34</td>\n",
       "      <td>692.0</td>\n",
       "      <td>2</td>\n",
       "      <td>1.0</td>\n",
       "      <td>DL</td>\n",
       "      <td>297.0</td>\n",
       "      <td>2020-01-04 12:36:00</td>\n",
       "      <td>2020-01-04 13:45:00</td>\n",
       "    </tr>\n",
       "  </tbody>\n",
       "</table>\n",
       "</div>"
      ],
      "text/plain": [
       "                             AIRPORT       CITY STATE   LATITUDE  LONGITUDE  \\\n",
       "8838370  Lehigh Valley International  Allentown    PA  40.652363 -75.440402   \n",
       "8838371  Lehigh Valley International  Allentown    PA  40.652363 -75.440402   \n",
       "8838372  Lehigh Valley International  Allentown    PA  40.652363 -75.440402   \n",
       "8838373  Lehigh Valley International  Allentown    PA  40.652363 -75.440402   \n",
       "8838374  Lehigh Valley International  Allentown    PA  40.652363 -75.440402   \n",
       "\n",
       "               ItinID           MktID  Quarter Origin  OriginWac Dest  \\\n",
       "8838370  201811390083  20181139008301        1    ABE         23  ATL   \n",
       "8838371  201811390084  20181139008401        1    ABE         23  ATL   \n",
       "8838372  201811390085  20181139008501        1    ABE         23  ATL   \n",
       "8838373  201811390086  20181139008601        1    ABE         23  ATL   \n",
       "8838374  201811390087  20181139008701        1    ABE         23  ATL   \n",
       "\n",
       "         DestWac  Miles  ContiguousUSA  NumTicketsOrdered AirlineCompany  \\\n",
       "8838370       34  692.0              2                1.0             DL   \n",
       "8838371       34  692.0              2                1.0             DL   \n",
       "8838372       34  692.0              2                1.0             DL   \n",
       "8838373       34  692.0              2                1.0             DL   \n",
       "8838374       34  692.0              2                1.0             DL   \n",
       "\n",
       "         PricePerTicket           departure             arrival  \n",
       "8838370           162.0 2020-01-01 00:00:00 2020-01-01 01:09:00  \n",
       "8838371           214.0 2020-01-01 21:09:00 2020-01-01 22:18:00  \n",
       "8838372           254.0 2020-01-02 18:18:00 2020-01-02 19:27:00  \n",
       "8838373           280.0 2020-01-03 15:27:00 2020-01-03 16:36:00  \n",
       "8838374           297.0 2020-01-04 12:36:00 2020-01-04 13:45:00  "
      ]
     },
     "execution_count": 133,
     "metadata": {},
     "output_type": "execute_result"
    }
   ],
   "source": [
    "flights.head()"
   ]
  },
  {
   "cell_type": "markdown",
   "metadata": {},
   "source": [
    "### Check the distribution of the flight dates by randomly sampling and plotting 6 groupby groups."
   ]
  },
  {
   "cell_type": "code",
   "execution_count": 134,
   "metadata": {},
   "outputs": [],
   "source": [
    "grby = flights.groupby(['Origin', 'Dest'])['departure']"
   ]
  },
  {
   "cell_type": "code",
   "execution_count": 144,
   "metadata": {},
   "outputs": [],
   "source": [
    "ch = choices(list(grby.groups), k=6)"
   ]
  },
  {
   "cell_type": "code",
   "execution_count": 140,
   "metadata": {},
   "outputs": [
    {
     "data": {
      "text/plain": [
       "(array([209., 209., 209., 209., 209., 209., 209., 209., 209., 209., 209.,\n",
       "        209.]),\n",
       " array([18262.        , 18292.33333333, 18322.66666667, 18353.        ,\n",
       "        18383.33333333, 18413.66666667, 18444.        , 18474.33333333,\n",
       "        18504.66666667, 18535.        , 18565.33333333, 18595.66666667,\n",
       "        18626.        ]),\n",
       " <BarContainer object of 12 artists>)"
      ]
     },
     "execution_count": 140,
     "metadata": {},
     "output_type": "execute_result"
    },
    {
     "data": {
      "image/png": "[encoded data removed]",
      "text/plain": [
       "<Figure size 1080x432 with 6 Axes>"
      ]
     },
     "metadata": {
      "needs_background": "light"
     },
     "output_type": "display_data"
    }
   ],
   "source": [
    "fig, axs = plt.subplots(nrows=2, ncols=3, figsize=(15,6))\n",
    "axs[0,0].hist(grby.get_group(ch[0], obj=flights)['departure'], bins = 12)\n",
    "axs[0,1].hist(grby.get_group(ch[1], obj=flights)['departure'], bins = 12)\n",
    "axs[0,2].hist(grby.get_group(ch[2], obj=flights)['departure'], bins = 12)\n",
    "axs[1,0].hist(grby.get_group(ch[3], obj=flights)['departure'], bins = 12)\n",
    "axs[1,1].hist(grby.get_group(ch[4], obj=flights)['departure'], bins = 12)\n",
    "axs[1,2].hist(grby.get_group(ch[5], obj=flights)['departure'], bins = 12)"
   ]
  },
  {
   "cell_type": "code",
   "execution_count": 141,
   "metadata": {},
   "outputs": [
    {
     "data": {
      "text/plain": [
       "Int64Index([6062066, 6062067, 6062068], dtype='int64')"
      ]
     },
     "execution_count": 141,
     "metadata": {},
     "output_type": "execute_result"
    }
   ],
   "source": [
    "grby.groups[ch[2]]"
   ]
  },
  {
   "cell_type": "code",
   "execution_count": 142,
   "metadata": {},
   "outputs": [
    {
     "data": {
      "text/html": [
       "<div>\n",
       "<style scoped>\n",
       "    .dataframe tbody tr th:only-of-type {\n",
       "        vertical-align: middle;\n",
       "    }\n",
       "\n",
       "    .dataframe tbody tr th {\n",
       "        vertical-align: top;\n",
       "    }\n",
       "\n",
       "    .dataframe thead th {\n",
       "        text-align: right;\n",
       "    }\n",
       "</style>\n",
       "<table border=\"1\" class=\"dataframe\">\n",
       "  <thead>\n",
       "    <tr style=\"text-align: right;\">\n",
       "      <th></th>\n",
       "      <th>AIRPORT</th>\n",
       "      <th>CITY</th>\n",
       "      <th>STATE</th>\n",
       "      <th>LATITUDE</th>\n",
       "      <th>LONGITUDE</th>\n",
       "      <th>ItinID</th>\n",
       "      <th>MktID</th>\n",
       "      <th>Quarter</th>\n",
       "      <th>Origin</th>\n",
       "      <th>OriginWac</th>\n",
       "      <th>Dest</th>\n",
       "      <th>DestWac</th>\n",
       "      <th>Miles</th>\n",
       "      <th>ContiguousUSA</th>\n",
       "      <th>NumTicketsOrdered</th>\n",
       "      <th>AirlineCompany</th>\n",
       "      <th>PricePerTicket</th>\n",
       "      <th>departure</th>\n",
       "      <th>arrival</th>\n",
       "    </tr>\n",
       "  </thead>\n",
       "  <tbody>\n",
       "    <tr>\n",
       "      <th>5593125</th>\n",
       "      <td>Minneapolis-St Paul Intl</td>\n",
       "      <td>Minneapolis</td>\n",
       "      <td>MN</td>\n",
       "      <td>44.880547</td>\n",
       "      <td>-93.216922</td>\n",
       "      <td>201823856889</td>\n",
       "      <td>20182385688901</td>\n",
       "      <td>2</td>\n",
       "      <td>MSP</td>\n",
       "      <td>63</td>\n",
       "      <td>SAN</td>\n",
       "      <td>91</td>\n",
       "      <td>1532.0</td>\n",
       "      <td>2</td>\n",
       "      <td>1.0</td>\n",
       "      <td>SY</td>\n",
       "      <td>156.0</td>\n",
       "      <td>2020-06-18 11:01:00</td>\n",
       "      <td>2020-06-18 13:34:00</td>\n",
       "    </tr>\n",
       "    <tr>\n",
       "      <th>5593126</th>\n",
       "      <td>Minneapolis-St Paul Intl</td>\n",
       "      <td>Minneapolis</td>\n",
       "      <td>MN</td>\n",
       "      <td>44.880547</td>\n",
       "      <td>-93.216922</td>\n",
       "      <td>201823856890</td>\n",
       "      <td>20182385689001</td>\n",
       "      <td>2</td>\n",
       "      <td>MSP</td>\n",
       "      <td>63</td>\n",
       "      <td>SAN</td>\n",
       "      <td>91</td>\n",
       "      <td>1532.0</td>\n",
       "      <td>2</td>\n",
       "      <td>4.0</td>\n",
       "      <td>SY</td>\n",
       "      <td>158.0</td>\n",
       "      <td>2020-06-18 12:55:00</td>\n",
       "      <td>2020-06-18 15:28:00</td>\n",
       "    </tr>\n",
       "    <tr>\n",
       "      <th>5593127</th>\n",
       "      <td>Minneapolis-St Paul Intl</td>\n",
       "      <td>Minneapolis</td>\n",
       "      <td>MN</td>\n",
       "      <td>44.880547</td>\n",
       "      <td>-93.216922</td>\n",
       "      <td>201823856891</td>\n",
       "      <td>20182385689101</td>\n",
       "      <td>2</td>\n",
       "      <td>MSP</td>\n",
       "      <td>63</td>\n",
       "      <td>SAN</td>\n",
       "      <td>91</td>\n",
       "      <td>1532.0</td>\n",
       "      <td>2</td>\n",
       "      <td>8.0</td>\n",
       "      <td>SY</td>\n",
       "      <td>158.5</td>\n",
       "      <td>2020-06-18 14:49:00</td>\n",
       "      <td>2020-06-18 17:22:00</td>\n",
       "    </tr>\n",
       "  </tbody>\n",
       "</table>\n",
       "</div>"
      ],
      "text/plain": [
       "                          AIRPORT         CITY STATE   LATITUDE  LONGITUDE  \\\n",
       "5593125  Minneapolis-St Paul Intl  Minneapolis    MN  44.880547 -93.216922   \n",
       "5593126  Minneapolis-St Paul Intl  Minneapolis    MN  44.880547 -93.216922   \n",
       "5593127  Minneapolis-St Paul Intl  Minneapolis    MN  44.880547 -93.216922   \n",
       "\n",
       "               ItinID           MktID  Quarter Origin  OriginWac Dest  \\\n",
       "5593125  201823856889  20182385688901        2    MSP         63  SAN   \n",
       "5593126  201823856890  20182385689001        2    MSP         63  SAN   \n",
       "5593127  201823856891  20182385689101        2    MSP         63  SAN   \n",
       "\n",
       "         DestWac   Miles  ContiguousUSA  NumTicketsOrdered AirlineCompany  \\\n",
       "5593125       91  1532.0              2                1.0             SY   \n",
       "5593126       91  1532.0              2                4.0             SY   \n",
       "5593127       91  1532.0              2                8.0             SY   \n",
       "\n",
       "         PricePerTicket           departure             arrival  \n",
       "5593125           156.0 2020-06-18 11:01:00 2020-06-18 13:34:00  \n",
       "5593126           158.0 2020-06-18 12:55:00 2020-06-18 15:28:00  \n",
       "5593127           158.5 2020-06-18 14:49:00 2020-06-18 17:22:00  "
      ]
     },
     "execution_count": 142,
     "metadata": {},
     "output_type": "execute_result"
    }
   ],
   "source": [
    "flights.iloc[grby.groups[ch[2]]]"
   ]
  },
  {
   "cell_type": "code",
   "execution_count": null,
   "metadata": {},
   "outputs": [],
   "source": []
  }
 ],
 "metadata": {
  "kernelspec": {
   "display_name": "Python 3 (ipykernel)",
   "language": "python",
   "name": "python3"
  },
  "language_info": {
   "codemirror_mode": {
    "name": "ipython",
    "version": 3
   },
   "file_extension": ".py",
   "mimetype": "text/x-python",
   "name": "python",
   "nbconvert_exporter": "python",
   "pygments_lexer": "ipython3",
   "version": "3.9.7"
  }
 },
 "nbformat": 4,
 "nbformat_minor": 4
}
