{
 "cells": [
  {
   "cell_type": "code",
   "execution_count": 223,
   "id": "cc893909",
   "metadata": {},
   "outputs": [],
   "source": [
    "import matplotlib.pyplot as plt\n",
    "%matplotlib inline\n",
    "import numpy as np\n",
    "import pandas as pd\n",
    "import pickle\n",
    "import seaborn as sns"
   ]
  },
  {
   "cell_type": "markdown",
   "id": "43e009c8",
   "metadata": {},
   "source": [
    "### Import and process the data"
   ]
  },
  {
   "cell_type": "code",
   "execution_count": null,
   "id": "45ab3121",
   "metadata": {},
   "outputs": [],
   "source": [
    "mp = pd.read_csv('Data/Outputs/mushed.csv')\n",
    "flights = pd.read_csv('Data/Outputs/flights.csv')\n",
    "flights.drop(['Unnamed: 0', 'ItinID', 'MktID',\n",
    "       'Quarter',  'OriginWac',  'DestWac', \n",
    "       'ContiguousUSA', 'NumTicketsOrdered'], axis=1, inplace=True)\n",
    "flights[['departure','arrival']] = flights[['departure','arrival']].astype(np.datetime64)\n",
    "mpa = mp[mp['iata'].isin(flights['Origin'].unique())]\n",
    "mpa.drop(['country', 'Unnamed: 0'], inplace=True, axis=1)\n",
    "ports = mpa[mpa['category']=='Airport']"
   ]
  },
  {
   "cell_type": "code",
   "execution_count": 173,
   "id": "71a4328b",
   "metadata": {},
   "outputs": [],
   "source": [
    "ports.to_pickle('Data/Outputs/Ports_intersected')"
   ]
  },
  {
   "cell_type": "code",
   "execution_count": 83,
   "id": "91225264",
   "metadata": {},
   "outputs": [],
   "source": [
    "with open('Data/Outputs/new_clusters', 'rb') as file:\n",
    "    clusters = pickle.load(file)    "
   ]
  },
  {
   "cell_type": "markdown",
   "id": "19f6ac13",
   "metadata": {},
   "source": [
    "### Search function peudocode:\n",
    "\n",
    "   **search_func**(_from, to, dates_range_):<br>\n",
    "        get direct flight if available</p>\n",
    "        limit the search by _dates_range_<br>\n",
    "        get label of from<br>\n",
    "        get label of to<br>\n",
    "        get all in label of to<br>\n",
    "        get all in label of from<br>\n",
    "        get all flights from _all_from_ to _all_to_ from the flights data set<br>\n",
    "        return **n** cheapest combinations\n",
    "    "
   ]
  },
  {
   "cell_type": "markdown",
   "id": "f20c0e76",
   "metadata": {},
   "source": [
    "### Search functioin"
   ]
  },
  {
   "cell_type": "code",
   "execution_count": 107,
   "id": "58e1b181",
   "metadata": {},
   "outputs": [],
   "source": [
    "def search(fr, to, start, stop):    \n",
    "    '''Search the flight data to find flights from origin 'fr' to destination 'to' and\n",
    "       cheapest flights from and to the respecting clusters in the time range 'start'-'stop'.\n",
    "        Start and stop dates are str in format YYYY-MM-DD.\n",
    "        'fr' and 'to' are strings of airport abbreviations like 'LAX'. \n",
    "        Returns dict of direct and indirect flights dataframes.'''    \n",
    "    # Search criteria\n",
    "    start = np.datetime64(start)\n",
    "    stop = np.datetime64(stop)    \n",
    "    # Get direct flights\n",
    "    dir_fl = flights[(flights['departure']<stop)\n",
    "                     &(flights['departure']>start)\n",
    "                     &(flights['Origin']==fr)\n",
    "                     &(flights['Dest']==to)]\n",
    "    # Get indirect flights\n",
    "    all_from = clusters[fr]\n",
    "    all_to = clusters[to]\n",
    "    all_options = flights[(flights['departure']<stop)\n",
    "                      &(flights['departure']>start)\n",
    "                      &(flights.Origin.isin(all_from))\n",
    "                      &(flights.Dest.isin(all_to))]\n",
    "    \n",
    "    return {'direct':dir_fl, 'indirect':all_options.nsmallest(20,'PricePerTicket')}"
   ]
  },
  {
   "cell_type": "markdown",
   "id": "694a3756",
   "metadata": {},
   "source": [
    "### Test the function once with arbitrary parameters."
   ]
  },
  {
   "cell_type": "markdown",
   "id": "ffa36034",
   "metadata": {},
   "source": [
    "'ABE', 'ABI', 'ABQ', 'ACK', 'ACY', 'ADK', 'ADQ', 'AGS', 'AKN',\n",
    "'ALB', 'AMA', 'ANC', 'ASE', 'ATL', 'ATW', 'AUS', 'AVL', 'AVP',\n",
    "'BDL', 'BET', 'BFL', 'BGR', 'BHM', 'BIL', 'BIS', 'BLI', 'BMI',\n",
    "'BNA', 'BOI', 'BOS', 'BQN', 'BRW', 'BTR', 'BTV', 'BUF', 'BUR',\n",
    "'BWI', 'BZN', 'CAE', 'CAK', 'CDV', 'CHA', 'CHO', 'CHS', 'CID',\n",
    "'CLE', 'CLT', 'CMH', 'COS', 'COU', 'CPR', 'CRP', 'CRW', 'CVG',\n",
    "'DAB', 'DAL', 'DAY', 'DCA', 'DEN', 'DFW', 'DLG', 'DLH', 'DSM',\n",
    "'DTW', 'EGE', 'ELM', 'ELP', 'ERI', 'EUG', 'EVV', 'EWR', 'EYW',\n",
    "'FAI', 'FAR', 'FAT', 'FAY', 'FCA', 'FLG', 'FLL', 'FNT', 'FSD',\n",
    "'FWA', 'GEG', 'GFK', 'GJT', 'GNV', 'GPT', 'GRB', 'GRI', 'GRR',\n",
    "'GSO', 'GSP', 'GST', 'GTF', 'GUC', 'GUM', 'HDN', 'HNL', 'HOU',\n",
    "'HPN', 'HRL', 'HSV', 'HTS', 'HYA', 'IAD', 'IAH', 'ICT', 'IDA',\n",
    "'ILM', 'IND', 'ISP', 'ITO', 'JAC', 'JAN', 'JAX', 'JFK', 'JNU',\n",
    "'KOA', 'KTN', 'LAN', 'LAS', 'LAX', 'LBB', 'LEX', 'LFT', 'LGA',\n",
    "'LGB', 'LIH', 'LIT', 'LNK', 'LRD', 'MAF', 'MCI', 'MCO', 'MDT',\n",
    "'MDW', 'MEM', 'MFE', 'MFR', 'MHT', 'MIA', 'MKE', 'MKG', 'MLB',\n",
    "'MLI', 'MMH', 'MOB', 'MOT', 'MRY', 'MSN', 'MSO', 'MSP', 'MSY',\n",
    "'MTJ', 'MVY', 'MYR', 'OAK', 'OGG', 'OKC', 'OMA', 'OME', 'ONT',\n",
    "'ORD', 'ORF', 'ORH', 'OTZ', 'PBI', 'PDX', 'PHF', 'PHL', 'PHX',\n",
    "'PIA', 'PIE', 'PIT', 'PNS', 'PPG', 'PSC', 'PSE', 'PSG', 'PSP',\n",
    "'PVD', 'PWM', 'RAP', 'RDM', 'RDU', 'RFD', 'RIC', 'RKS', 'RNO',\n",
    "'ROA', 'ROC', 'RST', 'RSW', 'SAF', 'SAN', 'SAT', 'SAV', 'SBA',\n",
    "'SBN', 'SCC', 'SCE', 'SDF', 'SEA', 'SFO', 'SGF', 'SGU', 'SHD',\n",
    "'SHV', 'SIT', 'SJC', 'SJU', 'SLC', 'SMF', 'SMX', 'SNA', 'SPI',\n",
    "'SPN', 'SPS', 'SRQ', 'STC', 'STL', 'STT', 'STX', 'SWF', 'SYR',\n",
    "'TLH', 'TOL', 'TPA', 'TRI', 'TTN', 'TUL', 'TUS', 'TVC', 'TYS',\n",
    "'VPS', 'WRG', 'XNA', 'YAK'"
   ]
  },
  {
   "cell_type": "code",
   "execution_count": null,
   "id": "bc87f5c0",
   "metadata": {},
   "outputs": [],
   "source": [
    "# Run this sell to set travel parameters select airports form above, but copy without  :)\n",
    "\n",
    "f = input(\"Add the origin: \")\n",
    "f = f.upper()\n",
    "t = input(\"Add destination: \")\n",
    "t = t.upper()\n",
    "date = input(\"Add the day in format MM DD: \")\n",
    "assert int(date[:2])<=12, \"Max MM is 12.\"\n",
    "assert int(date[3:])<=30, \"Max DD is 28.\"\n",
    "date = '2020-' + date.replace(' ', '-')\n",
    "tolerance = input(\"Add number of tolerance in days: \")\n",
    "start = np.datetime64(date) - np.timedelta64(int(tolerance))\n",
    "stop = np.datetime64(date) + np.timedelta64(int(tolerance))"
   ]
  },
  {
   "cell_type": "code",
   "execution_count": 145,
   "id": "5c13502a",
   "metadata": {},
   "outputs": [
    {
     "data": {
      "text/html": [
       "<div>\n",
       "<style scoped>\n",
       "    .dataframe tbody tr th:only-of-type {\n",
       "        vertical-align: middle;\n",
       "    }\n",
       "\n",
       "    .dataframe tbody tr th {\n",
       "        vertical-align: top;\n",
       "    }\n",
       "\n",
       "    .dataframe thead th {\n",
       "        text-align: right;\n",
       "    }\n",
       "</style>\n",
       "<table border=\"1\" class=\"dataframe\">\n",
       "  <thead>\n",
       "    <tr style=\"text-align: right;\">\n",
       "      <th></th>\n",
       "      <th>AIRPORT</th>\n",
       "      <th>CITY</th>\n",
       "      <th>STATE</th>\n",
       "      <th>LATITUDE</th>\n",
       "      <th>LONGITUDE</th>\n",
       "      <th>Origin</th>\n",
       "      <th>Dest</th>\n",
       "      <th>Miles</th>\n",
       "      <th>AirlineCompany</th>\n",
       "      <th>PricePerTicket</th>\n",
       "      <th>departure</th>\n",
       "      <th>arrival</th>\n",
       "    </tr>\n",
       "  </thead>\n",
       "  <tbody>\n",
       "    <tr>\n",
       "      <th>1199115</th>\n",
       "      <td>Burbank-Glendale-Pasadena</td>\n",
       "      <td>Burbank</td>\n",
       "      <td>CA</td>\n",
       "      <td>34.200619</td>\n",
       "      <td>-118.358497</td>\n",
       "      <td>BUR</td>\n",
       "      <td>SAT</td>\n",
       "      <td>1211.0</td>\n",
       "      <td>WN</td>\n",
       "      <td>133.5</td>\n",
       "      <td>2020-05-10</td>\n",
       "      <td>2020-05-10 02:01:00</td>\n",
       "    </tr>\n",
       "  </tbody>\n",
       "</table>\n",
       "</div>"
      ],
      "text/plain": [
       "                           AIRPORT     CITY STATE   LATITUDE   LONGITUDE  \\\n",
       "1199115  Burbank-Glendale-Pasadena  Burbank    CA  34.200619 -118.358497   \n",
       "\n",
       "        Origin Dest   Miles AirlineCompany  PricePerTicket  departure  \\\n",
       "1199115    BUR  SAT  1211.0             WN           133.5 2020-05-10   \n",
       "\n",
       "                    arrival  \n",
       "1199115 2020-05-10 02:01:00  "
      ]
     },
     "execution_count": 145,
     "metadata": {},
     "output_type": "execute_result"
    }
   ],
   "source": [
    "res = search(f, t, start, stop)\n",
    "res['direct']"
   ]
  },
  {
   "cell_type": "code",
   "execution_count": 143,
   "id": "9fed4ba1",
   "metadata": {
    "scrolled": false
   },
   "outputs": [
    {
     "data": {
      "text/html": [
       "<div>\n",
       "<style scoped>\n",
       "    .dataframe tbody tr th:only-of-type {\n",
       "        vertical-align: middle;\n",
       "    }\n",
       "\n",
       "    .dataframe tbody tr th {\n",
       "        vertical-align: top;\n",
       "    }\n",
       "\n",
       "    .dataframe thead th {\n",
       "        text-align: right;\n",
       "    }\n",
       "</style>\n",
       "<table border=\"1\" class=\"dataframe\">\n",
       "  <thead>\n",
       "    <tr style=\"text-align: right;\">\n",
       "      <th></th>\n",
       "      <th>AIRPORT</th>\n",
       "      <th>CITY</th>\n",
       "      <th>STATE</th>\n",
       "      <th>LATITUDE</th>\n",
       "      <th>LONGITUDE</th>\n",
       "      <th>Origin</th>\n",
       "      <th>Dest</th>\n",
       "      <th>Miles</th>\n",
       "      <th>AirlineCompany</th>\n",
       "      <th>PricePerTicket</th>\n",
       "      <th>departure</th>\n",
       "      <th>arrival</th>\n",
       "    </tr>\n",
       "  </thead>\n",
       "  <tbody>\n",
       "    <tr>\n",
       "      <th>4503429</th>\n",
       "      <td>Los Angeles International</td>\n",
       "      <td>Los Angeles</td>\n",
       "      <td>CA</td>\n",
       "      <td>33.942536</td>\n",
       "      <td>-118.408074</td>\n",
       "      <td>LAX</td>\n",
       "      <td>AUS</td>\n",
       "      <td>1242.0</td>\n",
       "      <td>DL</td>\n",
       "      <td>51.0</td>\n",
       "      <td>2020-05-08 17:20:00</td>\n",
       "      <td>2020-05-08 19:24:00</td>\n",
       "    </tr>\n",
       "    <tr>\n",
       "      <th>9003728</th>\n",
       "      <td>John Wayne  Orange Co</td>\n",
       "      <td>Santa Ana</td>\n",
       "      <td>CA</td>\n",
       "      <td>33.675659</td>\n",
       "      <td>-117.868223</td>\n",
       "      <td>SNA</td>\n",
       "      <td>AUS</td>\n",
       "      <td>1209.0</td>\n",
       "      <td>F9</td>\n",
       "      <td>54.0</td>\n",
       "      <td>2020-05-09 02:04:00</td>\n",
       "      <td>2020-05-09 04:04:00</td>\n",
       "    </tr>\n",
       "    <tr>\n",
       "      <th>4503430</th>\n",
       "      <td>Los Angeles International</td>\n",
       "      <td>Los Angeles</td>\n",
       "      <td>CA</td>\n",
       "      <td>33.942536</td>\n",
       "      <td>-118.408074</td>\n",
       "      <td>LAX</td>\n",
       "      <td>AUS</td>\n",
       "      <td>1242.0</td>\n",
       "      <td>DL</td>\n",
       "      <td>57.0</td>\n",
       "      <td>2020-05-08 18:33:00</td>\n",
       "      <td>2020-05-08 20:37:00</td>\n",
       "    </tr>\n",
       "    <tr>\n",
       "      <th>6424395</th>\n",
       "      <td>Ontario International</td>\n",
       "      <td>Ontario</td>\n",
       "      <td>CA</td>\n",
       "      <td>34.056000</td>\n",
       "      <td>-117.601194</td>\n",
       "      <td>ONT</td>\n",
       "      <td>AUS</td>\n",
       "      <td>1196.0</td>\n",
       "      <td>F9</td>\n",
       "      <td>59.0</td>\n",
       "      <td>2020-05-03 05:23:00</td>\n",
       "      <td>2020-05-03 07:22:00</td>\n",
       "    </tr>\n",
       "    <tr>\n",
       "      <th>6424396</th>\n",
       "      <td>Ontario International</td>\n",
       "      <td>Ontario</td>\n",
       "      <td>CA</td>\n",
       "      <td>34.056000</td>\n",
       "      <td>-117.601194</td>\n",
       "      <td>ONT</td>\n",
       "      <td>AUS</td>\n",
       "      <td>1196.0</td>\n",
       "      <td>F9</td>\n",
       "      <td>59.0</td>\n",
       "      <td>2020-05-04 00:51:00</td>\n",
       "      <td>2020-05-04 02:50:00</td>\n",
       "    </tr>\n",
       "  </tbody>\n",
       "</table>\n",
       "</div>"
      ],
      "text/plain": [
       "                           AIRPORT         CITY STATE   LATITUDE   LONGITUDE  \\\n",
       "4503429  Los Angeles International  Los Angeles    CA  33.942536 -118.408074   \n",
       "9003728      John Wayne  Orange Co    Santa Ana    CA  33.675659 -117.868223   \n",
       "4503430  Los Angeles International  Los Angeles    CA  33.942536 -118.408074   \n",
       "6424395      Ontario International      Ontario    CA  34.056000 -117.601194   \n",
       "6424396      Ontario International      Ontario    CA  34.056000 -117.601194   \n",
       "\n",
       "        Origin Dest   Miles AirlineCompany  PricePerTicket  \\\n",
       "4503429    LAX  AUS  1242.0             DL            51.0   \n",
       "9003728    SNA  AUS  1209.0             F9            54.0   \n",
       "4503430    LAX  AUS  1242.0             DL            57.0   \n",
       "6424395    ONT  AUS  1196.0             F9            59.0   \n",
       "6424396    ONT  AUS  1196.0             F9            59.0   \n",
       "\n",
       "                  departure             arrival  \n",
       "4503429 2020-05-08 17:20:00 2020-05-08 19:24:00  \n",
       "9003728 2020-05-09 02:04:00 2020-05-09 04:04:00  \n",
       "4503430 2020-05-08 18:33:00 2020-05-08 20:37:00  \n",
       "6424395 2020-05-03 05:23:00 2020-05-03 07:22:00  \n",
       "6424396 2020-05-04 00:51:00 2020-05-04 02:50:00  "
      ]
     },
     "execution_count": 143,
     "metadata": {},
     "output_type": "execute_result"
    }
   ],
   "source": [
    "res['indirect'].iloc[:5]"
   ]
  },
  {
   "cell_type": "markdown",
   "id": "ddebc786",
   "metadata": {},
   "source": [
    "#### Test if i can find cheaper alternative for more than 0.7 of flights that cost more than 200$"
   ]
  },
  {
   "cell_type": "raw",
   "id": "c0d9492e",
   "metadata": {},
   "source": [
    "merge area nad accomodation cost to the flights?"
   ]
  },
  {
   "cell_type": "markdown",
   "id": "e6bc46de",
   "metadata": {},
   "source": [
    "slice flights more than 200$ assign it to 'Search' df add a column alt_price, and AirBnB\n",
    "\n",
    "Find alternatives \n",
    "get average price of alternatives as an alt_price at the row\n",
    "if no alternative alt_price = 0\n",
    "search for the room price in the area fill it in AirBnB col, else add q_price, else add 0."
   ]
  },
  {
   "cell_type": "code",
   "execution_count": 197,
   "id": "8d476628",
   "metadata": {},
   "outputs": [],
   "source": [
    "pSearch = flights[flights['PricePerTicket']>200.0].nlargest(10**5, 'PricePerTicket')"
   ]
  },
  {
   "cell_type": "code",
   "execution_count": 198,
   "id": "e1e08f18",
   "metadata": {},
   "outputs": [],
   "source": [
    "Search = pSearch.sample(n=10000)"
   ]
  },
  {
   "cell_type": "code",
   "execution_count": 199,
   "id": "40806676",
   "metadata": {},
   "outputs": [],
   "source": [
    "Search[['alt_price','AirBnB']]=0"
   ]
  },
  {
   "cell_type": "code",
   "execution_count": 214,
   "id": "bcfc0c7c",
   "metadata": {},
   "outputs": [
    {
     "data": {
      "text/html": [
       "<div>\n",
       "<style scoped>\n",
       "    .dataframe tbody tr th:only-of-type {\n",
       "        vertical-align: middle;\n",
       "    }\n",
       "\n",
       "    .dataframe tbody tr th {\n",
       "        vertical-align: top;\n",
       "    }\n",
       "\n",
       "    .dataframe thead th {\n",
       "        text-align: right;\n",
       "    }\n",
       "</style>\n",
       "<table border=\"1\" class=\"dataframe\">\n",
       "  <thead>\n",
       "    <tr style=\"text-align: right;\">\n",
       "      <th></th>\n",
       "      <th>level_0</th>\n",
       "      <th>index</th>\n",
       "      <th>AIRPORT</th>\n",
       "      <th>CITY</th>\n",
       "      <th>STATE</th>\n",
       "      <th>LATITUDE</th>\n",
       "      <th>LONGITUDE</th>\n",
       "      <th>Origin</th>\n",
       "      <th>Dest</th>\n",
       "      <th>Miles</th>\n",
       "      <th>AirlineCompany</th>\n",
       "      <th>PricePerTicket</th>\n",
       "      <th>departure</th>\n",
       "      <th>arrival</th>\n",
       "      <th>alt_price</th>\n",
       "      <th>AirBnB</th>\n",
       "    </tr>\n",
       "  </thead>\n",
       "  <tbody>\n",
       "    <tr>\n",
       "      <th>0</th>\n",
       "      <td>0</td>\n",
       "      <td>1932109</td>\n",
       "      <td>Ronald Reagan Washington National</td>\n",
       "      <td>Arlington</td>\n",
       "      <td>VA</td>\n",
       "      <td>38.852083</td>\n",
       "      <td>-77.037722</td>\n",
       "      <td>DCA</td>\n",
       "      <td>PHX</td>\n",
       "      <td>1979.0</td>\n",
       "      <td>AA</td>\n",
       "      <td>864.00</td>\n",
       "      <td>2020-10-21 09:13:00</td>\n",
       "      <td>2020-10-21 12:30:00</td>\n",
       "      <td>120.634</td>\n",
       "      <td>72.0</td>\n",
       "    </tr>\n",
       "    <tr>\n",
       "      <th>1</th>\n",
       "      <td>1</td>\n",
       "      <td>3625335</td>\n",
       "      <td>Washington Dulles International</td>\n",
       "      <td>Chantilly</td>\n",
       "      <td>VA</td>\n",
       "      <td>38.944532</td>\n",
       "      <td>-77.455810</td>\n",
       "      <td>IAD</td>\n",
       "      <td>SFO</td>\n",
       "      <td>2419.0</td>\n",
       "      <td>UA</td>\n",
       "      <td>809.65</td>\n",
       "      <td>2020-01-16 10:24:00</td>\n",
       "      <td>2020-01-16 14:25:00</td>\n",
       "      <td>82.117</td>\n",
       "      <td>100.0</td>\n",
       "    </tr>\n",
       "    <tr>\n",
       "      <th>2</th>\n",
       "      <td>2</td>\n",
       "      <td>7814101</td>\n",
       "      <td>San Diego International-Lindbergh</td>\n",
       "      <td>San Diego</td>\n",
       "      <td>CA</td>\n",
       "      <td>32.733556</td>\n",
       "      <td>-117.189657</td>\n",
       "      <td>SAN</td>\n",
       "      <td>EWR</td>\n",
       "      <td>2425.0</td>\n",
       "      <td>UA</td>\n",
       "      <td>825.00</td>\n",
       "      <td>2020-03-05 23:09:00</td>\n",
       "      <td>2020-03-06 03:11:00</td>\n",
       "      <td>79.550</td>\n",
       "      <td>79.0</td>\n",
       "    </tr>\n",
       "    <tr>\n",
       "      <th>3</th>\n",
       "      <td>3</td>\n",
       "      <td>4681338</td>\n",
       "      <td>Los Angeles International</td>\n",
       "      <td>Los Angeles</td>\n",
       "      <td>CA</td>\n",
       "      <td>33.942536</td>\n",
       "      <td>-118.408074</td>\n",
       "      <td>LAX</td>\n",
       "      <td>JFK</td>\n",
       "      <td>2475.0</td>\n",
       "      <td>B6</td>\n",
       "      <td>968.00</td>\n",
       "      <td>2020-02-08 04:31:00</td>\n",
       "      <td>2020-02-08 08:38:00</td>\n",
       "      <td>137.232</td>\n",
       "      <td>79.0</td>\n",
       "    </tr>\n",
       "    <tr>\n",
       "      <th>4</th>\n",
       "      <td>4</td>\n",
       "      <td>8481944</td>\n",
       "      <td>San Francisco International</td>\n",
       "      <td>San Francisco</td>\n",
       "      <td>CA</td>\n",
       "      <td>37.619002</td>\n",
       "      <td>-122.374843</td>\n",
       "      <td>SFO</td>\n",
       "      <td>JFK</td>\n",
       "      <td>2586.0</td>\n",
       "      <td>DL</td>\n",
       "      <td>913.00</td>\n",
       "      <td>2020-05-17 10:23:00</td>\n",
       "      <td>2020-05-17 14:41:00</td>\n",
       "      <td>106.300</td>\n",
       "      <td>79.0</td>\n",
       "    </tr>\n",
       "  </tbody>\n",
       "</table>\n",
       "</div>"
      ],
      "text/plain": [
       "   level_0    index                             AIRPORT           CITY STATE  \\\n",
       "0        0  1932109   Ronald Reagan Washington National      Arlington    VA   \n",
       "1        1  3625335     Washington Dulles International      Chantilly    VA   \n",
       "2        2  7814101  San Diego International-Lindbergh       San Diego    CA   \n",
       "3        3  4681338           Los Angeles International    Los Angeles    CA   \n",
       "4        4  8481944         San Francisco International  San Francisco    CA   \n",
       "\n",
       "    LATITUDE   LONGITUDE Origin Dest   Miles AirlineCompany  PricePerTicket  \\\n",
       "0  38.852083  -77.037722    DCA  PHX  1979.0             AA          864.00   \n",
       "1  38.944532  -77.455810    IAD  SFO  2419.0             UA          809.65   \n",
       "2  32.733556 -117.189657    SAN  EWR  2425.0             UA          825.00   \n",
       "3  33.942536 -118.408074    LAX  JFK  2475.0             B6          968.00   \n",
       "4  37.619002 -122.374843    SFO  JFK  2586.0             DL          913.00   \n",
       "\n",
       "            departure             arrival  alt_price  AirBnB  \n",
       "0 2020-10-21 09:13:00 2020-10-21 12:30:00    120.634    72.0  \n",
       "1 2020-01-16 10:24:00 2020-01-16 14:25:00     82.117   100.0  \n",
       "2 2020-03-05 23:09:00 2020-03-06 03:11:00     79.550    79.0  \n",
       "3 2020-02-08 04:31:00 2020-02-08 08:38:00    137.232    79.0  \n",
       "4 2020-05-17 10:23:00 2020-05-17 14:41:00    106.300    79.0  "
      ]
     },
     "execution_count": 214,
     "metadata": {},
     "output_type": "execute_result"
    }
   ],
   "source": [
    "Search.reset_index(inplace = True)\n",
    "Search.head()"
   ]
  },
  {
   "cell_type": "code",
   "execution_count": 215,
   "id": "1b9b7d32",
   "metadata": {},
   "outputs": [],
   "source": [
    "Search.to_pickle('Data/Outputs/Search_df_full')"
   ]
  },
  {
   "cell_type": "code",
   "execution_count": 202,
   "id": "32b7fbd2",
   "metadata": {},
   "outputs": [],
   "source": [
    "frl=Search.Origin\n",
    "tol=Search.Dest"
   ]
  },
  {
   "cell_type": "code",
   "execution_count": 203,
   "id": "4ca15272",
   "metadata": {},
   "outputs": [],
   "source": [
    "startl = Search['departure'].apply(lambda x: x - np.timedelta64(5, 'D'))"
   ]
  },
  {
   "cell_type": "code",
   "execution_count": 204,
   "id": "e4c3c960",
   "metadata": {},
   "outputs": [],
   "source": [
    "endl = Search['arrival'].apply(lambda x: x + np.timedelta64(5, 'D'))"
   ]
  },
  {
   "cell_type": "code",
   "execution_count": 205,
   "id": "98129633",
   "metadata": {},
   "outputs": [
    {
     "name": "stdout",
     "output_type": "stream",
     "text": [
      "15494.66476392746\n"
     ]
    }
   ],
   "source": [
    "import time\n",
    "strat=time.time()\n",
    "\n",
    "monster = [search(a,b,c,d)['indirect'] for a, b, c, d in zip(frl,tol,startl,endl)]\n",
    "\n",
    "sotp = time.time()\n",
    "elapsed=sotp-strat\n",
    "print(elapsed)"
   ]
  },
  {
   "cell_type": "code",
   "execution_count": 206,
   "id": "0d255595",
   "metadata": {},
   "outputs": [],
   "source": [
    "with open('Data/Outputs/bigger_monster', 'wb') as file:\n",
    "    pickle.dump(monster, file)"
   ]
  },
  {
   "cell_type": "code",
   "execution_count": 209,
   "id": "861d3498",
   "metadata": {},
   "outputs": [],
   "source": [
    "with open('Data/Outputs/bigger_monster', 'rb') as file:\n",
    "    monster = pickle.load(file)"
   ]
  },
  {
   "cell_type": "code",
   "execution_count": 210,
   "id": "70d23f7f",
   "metadata": {},
   "outputs": [],
   "source": [
    "Search.alt_price = [df.nsmallest(10, 'PricePerTicket').PricePerTicket.mean() for df in monster]"
   ]
  },
  {
   "cell_type": "code",
   "execution_count": 211,
   "id": "7e32568d",
   "metadata": {},
   "outputs": [],
   "source": [
    "Search.AirBnB =[get_airbnb_price(df.nsmallest(1, 'PricePerTicket').Dest.values[0]) if not df.empty else 0 for df in monster] "
   ]
  },
  {
   "cell_type": "code",
   "execution_count": 213,
   "id": "5a683273",
   "metadata": {},
   "outputs": [
    {
     "name": "stdout",
     "output_type": "stream",
     "text": [
      "The efficiency of the search is 0.72\n"
     ]
    }
   ],
   "source": [
    "print('The efficiency of the search is {:.2f}'.format(len([i for i in monster if not i.empty])/len(monster)))"
   ]
  },
  {
   "cell_type": "code",
   "execution_count": 242,
   "id": "9062bdbf",
   "metadata": {},
   "outputs": [
    {
     "data": {
      "text/plain": [
       "(array([[0.000e+00, 0.000e+00, 0.000e+00, 0.000e+00, 0.000e+00, 0.000e+00,\n",
       "         0.000e+00, 3.275e+03, 4.077e+03, 2.648e+03],\n",
       "        [5.141e+03, 1.299e+03, 4.090e+02, 1.970e+02, 9.200e+01, 4.500e+01,\n",
       "         9.000e+00, 9.000e+00, 2.000e+00, 0.000e+00]]),\n",
       " array([  50.,  145.,  240.,  335.,  430.,  525.,  620.,  715.,  810.,\n",
       "         905., 1000.]),\n",
       " <a list of 2 BarContainer objects>)"
      ]
     },
     "execution_count": 242,
     "metadata": {},
     "output_type": "execute_result"
    },
    {
     "data": {
      "image/png": "[encoded data removed]",
      "text/plain": [
       "<Figure size 720x360 with 1 Axes>"
      ]
     },
     "metadata": {
      "needs_background": "light"
     },
     "output_type": "display_data"
    }
   ],
   "source": [
    "fig, ax = plt.subplots(figsize = (10,5))\n",
    "x=Search.PricePerTicket\n",
    "y=Search.alt_price\n",
    "ax.hist( [x,y] )"
   ]
  },
  {
   "cell_type": "code",
   "execution_count": 250,
   "id": "128a0884",
   "metadata": {},
   "outputs": [
    {
     "data": {
      "text/plain": [
       "856.404213"
      ]
     },
     "execution_count": 250,
     "metadata": {},
     "output_type": "execute_result"
    }
   ],
   "source": [
    "Search.PricePerTicket.mean()"
   ]
  },
  {
   "cell_type": "code",
   "execution_count": 251,
   "id": "ac7de0f1",
   "metadata": {},
   "outputs": [
    {
     "data": {
      "text/plain": [
       "136.9616957903343"
      ]
     },
     "execution_count": 251,
     "metadata": {},
     "output_type": "execute_result"
    }
   ],
   "source": [
    "Search.alt_price.mean()"
   ]
  },
  {
   "cell_type": "code",
   "execution_count": null,
   "id": "8bd0da4c",
   "metadata": {},
   "outputs": [],
   "source": []
  }
 ],
 "metadata": {
  "kernelspec": {
   "display_name": "Python 3 (ipykernel)",
   "language": "python",
   "name": "python3"
  },
  "language_info": {
   "codemirror_mode": {
    "name": "ipython",
    "version": 3
   },
   "file_extension": ".py",
   "mimetype": "text/x-python",
   "name": "python",
   "nbconvert_exporter": "python",
   "pygments_lexer": "ipython3",
   "version": "3.9.7"
  }
 },
 "nbformat": 4,
 "nbformat_minor": 5
}
