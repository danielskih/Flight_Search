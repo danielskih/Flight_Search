{
 "cells": [
  {
   "cell_type": "code",
   "execution_count": 1,
   "id": "cc893909",
   "metadata": {},
   "outputs": [],
   "source": [
    "import matplotlib.pyplot as plt\n",
    "%matplotlib inline\n",
    "import numpy as np\n",
    "import pandas as pd\n",
    "import pickle"
   ]
  },
  {
   "cell_type": "markdown",
   "id": "43e009c8",
   "metadata": {},
   "source": [
    "### Import and process the data"
   ]
  },
  {
   "cell_type": "code",
   "execution_count": 2,
   "id": "71a4328b",
   "metadata": {},
   "outputs": [
    {
     "name": "stderr",
     "output_type": "stream",
     "text": [
      "/var/folders/gh/lf0mc7p936xfvjr53gs0s95m0000gn/T/ipykernel_22396/511557574.py:8: SettingWithCopyWarning: \n",
      "A value is trying to be set on a copy of a slice from a DataFrame\n",
      "\n",
      "See the caveats in the documentation: https://pandas.pydata.org/pandas-docs/stable/user_guide/indexing.html#returning-a-view-versus-a-copy\n",
      "  mpa.drop(['country', 'Unnamed: 0'], inplace=True, axis=1)\n"
     ]
    }
   ],
   "source": [
    "mp = pd.read_csv('Data/Outputs/mushed.csv')\n",
    "flights = pd.read_csv('Data/Outputs/flights.csv')\n",
    "flights.drop(['Unnamed: 0', 'ItinID', 'MktID',\n",
    "       'Quarter',  'OriginWac',  'DestWac', \n",
    "       'ContiguousUSA', 'NumTicketsOrdered'], axis=1, inplace=True)\n",
    "flights[['departure','arrival']] = flights[['departure','arrival']].astype(np.datetime64)\n",
    "mpa = mp[mp['iata'].isin(flights['Origin'].unique())]\n",
    "mpa.drop(['country', 'Unnamed: 0'], inplace=True, axis=1)\n",
    "ports = mpa[mpa['category']=='Airport']"
   ]
  },
  {
   "cell_type": "code",
   "execution_count": 83,
   "id": "b656da51",
   "metadata": {},
   "outputs": [],
   "source": [
    "with open('Data/Outputs/new_clusters', 'rb') as file:\n",
    "    clusters = pickle.load(file)    "
   ]
  },
  {
   "cell_type": "markdown",
   "id": "19f6ac13",
   "metadata": {},
   "source": [
    "### Search function peudocode:\n",
    "\n",
    "   **search_func**(_from, to, dates_range_):<br>\n",
    "        get direct flight if available</p>\n",
    "        limit the search by _dates_range_<br>\n",
    "        get label of from<br>\n",
    "        get label of to<br>\n",
    "        get all in label of to<br>\n",
    "        get all in label of from<br>\n",
    "        get all flights from _all_from_ to _all_to_ from the flights data set<br>\n",
    "        return **n** cheapest combinations\n",
    "    "
   ]
  },
  {
   "cell_type": "markdown",
   "id": "f20c0e76",
   "metadata": {},
   "source": [
    "### Search functioin"
   ]
  },
  {
   "cell_type": "code",
   "execution_count": 107,
   "id": "58e1b181",
   "metadata": {},
   "outputs": [],
   "source": [
    "def search(fr, to, start, stop):    \n",
    "    '''Search the flight data to find flights from origin 'fr' to destination 'to' and\n",
    "       cheapest flights from and to the respecting clusters in the time range 'start'-'stop'.\n",
    "        Start and stop dates are str in format YYYY-MM-DD.\n",
    "        'fr' and 'to' are strings of airport abbreviations like 'LAX'. \n",
    "        Returns dict of direct and indirect flights dataframes.'''    \n",
    "    # Search criteria\n",
    "    start = np.datetime64(start)\n",
    "    stop = np.datetime64(stop)    \n",
    "    # Get direct flights\n",
    "    dir_fl = flights[(flights['departure']<stop)\n",
    "                     &(flights['departure']>start)\n",
    "                     &(flights['Origin']==fr)\n",
    "                     &(flights['Dest']==to)]\n",
    "    # Get indirect flights\n",
    "    all_from = clusters[fr]\n",
    "    all_to = clusters[to]\n",
    "    all_options = flights[(flights['departure']<stop)\n",
    "                      &(flights['departure']>start)\n",
    "                      &(flights.Origin.isin(all_from))\n",
    "                      &(flights.Dest.isin(all_to))]\n",
    "    \n",
    "    return {'direct':dir_fl, 'indirect':all_options.nsmallest(20,'PricePerTicket')}"
   ]
  },
  {
   "cell_type": "markdown",
   "id": "694a3756",
   "metadata": {},
   "source": [
    "### Test the function once with arbitrary parameters."
   ]
  },
  {
   "cell_type": "code",
   "execution_count": null,
   "id": "937ab4a2",
   "metadata": {},
   "outputs": [],
   "source": [
    "# Run this sell to set travel parameters :)\n",
    "\n",
    "f = input(\"Add the origin: \")\n",
    "f = f.upper()\n",
    "t = input(\"Add destination: \")\n",
    "t = t.upper()\n",
    "date = input(\"Add the day in format MM DD: \")\n",
    "assert int(date[:2])<=12, \"Max MM is 12.\"\n",
    "assert int(date[3:])<=30, \"Max DD is 28.\"\n",
    "date = '2020-' + date.replace(' ', '-')\n",
    "tolerance = input(\"Add number of tolerance in days: \")\n",
    "start = np.datetime64(date) - np.timedelta64(int(tolerance))\n",
    "stop = np.datetime64(date) + np.timedelta64(int(tolerance))"
   ]
  },
  {
   "cell_type": "code",
   "execution_count": 145,
   "id": "5c13502a",
   "metadata": {},
   "outputs": [
    {
     "data": {
      "text/html": [
       "<div>\n",
       "<style scoped>\n",
       "    .dataframe tbody tr th:only-of-type {\n",
       "        vertical-align: middle;\n",
       "    }\n",
       "\n",
       "    .dataframe tbody tr th {\n",
       "        vertical-align: top;\n",
       "    }\n",
       "\n",
       "    .dataframe thead th {\n",
       "        text-align: right;\n",
       "    }\n",
       "</style>\n",
       "<table border=\"1\" class=\"dataframe\">\n",
       "  <thead>\n",
       "    <tr style=\"text-align: right;\">\n",
       "      <th></th>\n",
       "      <th>AIRPORT</th>\n",
       "      <th>CITY</th>\n",
       "      <th>STATE</th>\n",
       "      <th>LATITUDE</th>\n",
       "      <th>LONGITUDE</th>\n",
       "      <th>Origin</th>\n",
       "      <th>Dest</th>\n",
       "      <th>Miles</th>\n",
       "      <th>AirlineCompany</th>\n",
       "      <th>PricePerTicket</th>\n",
       "      <th>departure</th>\n",
       "      <th>arrival</th>\n",
       "    </tr>\n",
       "  </thead>\n",
       "  <tbody>\n",
       "    <tr>\n",
       "      <th>1199115</th>\n",
       "      <td>Burbank-Glendale-Pasadena</td>\n",
       "      <td>Burbank</td>\n",
       "      <td>CA</td>\n",
       "      <td>34.200619</td>\n",
       "      <td>-118.358497</td>\n",
       "      <td>BUR</td>\n",
       "      <td>SAT</td>\n",
       "      <td>1211.0</td>\n",
       "      <td>WN</td>\n",
       "      <td>133.5</td>\n",
       "      <td>2020-05-10</td>\n",
       "      <td>2020-05-10 02:01:00</td>\n",
       "    </tr>\n",
       "  </tbody>\n",
       "</table>\n",
       "</div>"
      ],
      "text/plain": [
       "                           AIRPORT     CITY STATE   LATITUDE   LONGITUDE  \\\n",
       "1199115  Burbank-Glendale-Pasadena  Burbank    CA  34.200619 -118.358497   \n",
       "\n",
       "        Origin Dest   Miles AirlineCompany  PricePerTicket  departure  \\\n",
       "1199115    BUR  SAT  1211.0             WN           133.5 2020-05-10   \n",
       "\n",
       "                    arrival  \n",
       "1199115 2020-05-10 02:01:00  "
      ]
     },
     "execution_count": 145,
     "metadata": {},
     "output_type": "execute_result"
    }
   ],
   "source": [
    "res = search(f, t, start, stop)\n",
    "res['direct']"
   ]
  },
  {
   "cell_type": "code",
   "execution_count": 143,
   "id": "9fed4ba1",
   "metadata": {
    "scrolled": true
   },
   "outputs": [
    {
     "data": {
      "text/html": [
       "<div>\n",
       "<style scoped>\n",
       "    .dataframe tbody tr th:only-of-type {\n",
       "        vertical-align: middle;\n",
       "    }\n",
       "\n",
       "    .dataframe tbody tr th {\n",
       "        vertical-align: top;\n",
       "    }\n",
       "\n",
       "    .dataframe thead th {\n",
       "        text-align: right;\n",
       "    }\n",
       "</style>\n",
       "<table border=\"1\" class=\"dataframe\">\n",
       "  <thead>\n",
       "    <tr style=\"text-align: right;\">\n",
       "      <th></th>\n",
       "      <th>AIRPORT</th>\n",
       "      <th>CITY</th>\n",
       "      <th>STATE</th>\n",
       "      <th>LATITUDE</th>\n",
       "      <th>LONGITUDE</th>\n",
       "      <th>Origin</th>\n",
       "      <th>Dest</th>\n",
       "      <th>Miles</th>\n",
       "      <th>AirlineCompany</th>\n",
       "      <th>PricePerTicket</th>\n",
       "      <th>departure</th>\n",
       "      <th>arrival</th>\n",
       "    </tr>\n",
       "  </thead>\n",
       "  <tbody>\n",
       "    <tr>\n",
       "      <th>4503429</th>\n",
       "      <td>Los Angeles International</td>\n",
       "      <td>Los Angeles</td>\n",
       "      <td>CA</td>\n",
       "      <td>33.942536</td>\n",
       "      <td>-118.408074</td>\n",
       "      <td>LAX</td>\n",
       "      <td>AUS</td>\n",
       "      <td>1242.0</td>\n",
       "      <td>DL</td>\n",
       "      <td>51.0</td>\n",
       "      <td>2020-05-08 17:20:00</td>\n",
       "      <td>2020-05-08 19:24:00</td>\n",
       "    </tr>\n",
       "    <tr>\n",
       "      <th>9003728</th>\n",
       "      <td>John Wayne  Orange Co</td>\n",
       "      <td>Santa Ana</td>\n",
       "      <td>CA</td>\n",
       "      <td>33.675659</td>\n",
       "      <td>-117.868223</td>\n",
       "      <td>SNA</td>\n",
       "      <td>AUS</td>\n",
       "      <td>1209.0</td>\n",
       "      <td>F9</td>\n",
       "      <td>54.0</td>\n",
       "      <td>2020-05-09 02:04:00</td>\n",
       "      <td>2020-05-09 04:04:00</td>\n",
       "    </tr>\n",
       "    <tr>\n",
       "      <th>4503430</th>\n",
       "      <td>Los Angeles International</td>\n",
       "      <td>Los Angeles</td>\n",
       "      <td>CA</td>\n",
       "      <td>33.942536</td>\n",
       "      <td>-118.408074</td>\n",
       "      <td>LAX</td>\n",
       "      <td>AUS</td>\n",
       "      <td>1242.0</td>\n",
       "      <td>DL</td>\n",
       "      <td>57.0</td>\n",
       "      <td>2020-05-08 18:33:00</td>\n",
       "      <td>2020-05-08 20:37:00</td>\n",
       "    </tr>\n",
       "    <tr>\n",
       "      <th>6424395</th>\n",
       "      <td>Ontario International</td>\n",
       "      <td>Ontario</td>\n",
       "      <td>CA</td>\n",
       "      <td>34.056000</td>\n",
       "      <td>-117.601194</td>\n",
       "      <td>ONT</td>\n",
       "      <td>AUS</td>\n",
       "      <td>1196.0</td>\n",
       "      <td>F9</td>\n",
       "      <td>59.0</td>\n",
       "      <td>2020-05-03 05:23:00</td>\n",
       "      <td>2020-05-03 07:22:00</td>\n",
       "    </tr>\n",
       "    <tr>\n",
       "      <th>6424396</th>\n",
       "      <td>Ontario International</td>\n",
       "      <td>Ontario</td>\n",
       "      <td>CA</td>\n",
       "      <td>34.056000</td>\n",
       "      <td>-117.601194</td>\n",
       "      <td>ONT</td>\n",
       "      <td>AUS</td>\n",
       "      <td>1196.0</td>\n",
       "      <td>F9</td>\n",
       "      <td>59.0</td>\n",
       "      <td>2020-05-04 00:51:00</td>\n",
       "      <td>2020-05-04 02:50:00</td>\n",
       "    </tr>\n",
       "  </tbody>\n",
       "</table>\n",
       "</div>"
      ],
      "text/plain": [
       "                           AIRPORT         CITY STATE   LATITUDE   LONGITUDE  \\\n",
       "4503429  Los Angeles International  Los Angeles    CA  33.942536 -118.408074   \n",
       "9003728      John Wayne  Orange Co    Santa Ana    CA  33.675659 -117.868223   \n",
       "4503430  Los Angeles International  Los Angeles    CA  33.942536 -118.408074   \n",
       "6424395      Ontario International      Ontario    CA  34.056000 -117.601194   \n",
       "6424396      Ontario International      Ontario    CA  34.056000 -117.601194   \n",
       "\n",
       "        Origin Dest   Miles AirlineCompany  PricePerTicket  \\\n",
       "4503429    LAX  AUS  1242.0             DL            51.0   \n",
       "9003728    SNA  AUS  1209.0             F9            54.0   \n",
       "4503430    LAX  AUS  1242.0             DL            57.0   \n",
       "6424395    ONT  AUS  1196.0             F9            59.0   \n",
       "6424396    ONT  AUS  1196.0             F9            59.0   \n",
       "\n",
       "                  departure             arrival  \n",
       "4503429 2020-05-08 17:20:00 2020-05-08 19:24:00  \n",
       "9003728 2020-05-09 02:04:00 2020-05-09 04:04:00  \n",
       "4503430 2020-05-08 18:33:00 2020-05-08 20:37:00  \n",
       "6424395 2020-05-03 05:23:00 2020-05-03 07:22:00  \n",
       "6424396 2020-05-04 00:51:00 2020-05-04 02:50:00  "
      ]
     },
     "execution_count": 143,
     "metadata": {},
     "output_type": "execute_result"
    }
   ],
   "source": [
    "res['indirect'].iloc[:5]"
   ]
  },
  {
   "cell_type": "markdown",
   "id": "ddebc786",
   "metadata": {},
   "source": [
    "#### Test if i can find cheaper alternative for more than 0.7 of flights that cost more than 200$"
   ]
  },
  {
   "cell_type": "raw",
   "id": "c0d9492e",
   "metadata": {},
   "source": [
    "merge area nad accomodation cost to the flights?"
   ]
  },
  {
   "cell_type": "markdown",
   "id": "e6bc46de",
   "metadata": {},
   "source": [
    "slice flights more than 200$ assign it to 'Search' df add a column alt_price, and AirBnB\n",
    "\n",
    "Find alternatives \n",
    "get average price of alternatives as an alt_price at the row\n",
    "if no alternative alt_price = 0\n",
    "search for the room price in the area fill it in AirBnB col, else add q_price, else add 0."
   ]
  },
  {
   "cell_type": "code",
   "execution_count": 99,
   "id": "8d476628",
   "metadata": {},
   "outputs": [],
   "source": [
    "Search = flights[flights['PricePerTicket']>200.0].nlargest(36, 'PricePerTicket')"
   ]
  },
  {
   "cell_type": "code",
   "execution_count": 100,
   "id": "40806676",
   "metadata": {},
   "outputs": [],
   "source": [
    "Search[['alt_price','AirBnB']]=0"
   ]
  },
  {
   "cell_type": "code",
   "execution_count": 101,
   "id": "bcfc0c7c",
   "metadata": {},
   "outputs": [
    {
     "data": {
      "text/html": [
       "<div>\n",
       "<style scoped>\n",
       "    .dataframe tbody tr th:only-of-type {\n",
       "        vertical-align: middle;\n",
       "    }\n",
       "\n",
       "    .dataframe tbody tr th {\n",
       "        vertical-align: top;\n",
       "    }\n",
       "\n",
       "    .dataframe thead th {\n",
       "        text-align: right;\n",
       "    }\n",
       "</style>\n",
       "<table border=\"1\" class=\"dataframe\">\n",
       "  <thead>\n",
       "    <tr style=\"text-align: right;\">\n",
       "      <th></th>\n",
       "      <th>index</th>\n",
       "      <th>AIRPORT</th>\n",
       "      <th>CITY</th>\n",
       "      <th>STATE</th>\n",
       "      <th>LATITUDE</th>\n",
       "      <th>LONGITUDE</th>\n",
       "      <th>Origin</th>\n",
       "      <th>Dest</th>\n",
       "      <th>Miles</th>\n",
       "      <th>AirlineCompany</th>\n",
       "      <th>PricePerTicket</th>\n",
       "      <th>departure</th>\n",
       "      <th>arrival</th>\n",
       "      <th>alt_price</th>\n",
       "      <th>AirBnB</th>\n",
       "    </tr>\n",
       "  </thead>\n",
       "  <tbody>\n",
       "    <tr>\n",
       "      <th>0</th>\n",
       "      <td>68438</td>\n",
       "      <td>Ted Stevens Anchorage International</td>\n",
       "      <td>Anchorage</td>\n",
       "      <td>AK</td>\n",
       "      <td>61.174320</td>\n",
       "      <td>-149.996186</td>\n",
       "      <td>ANC</td>\n",
       "      <td>DEN</td>\n",
       "      <td>2405.0</td>\n",
       "      <td>UA</td>\n",
       "      <td>1000.0</td>\n",
       "      <td>2020-10-26 15:36:00</td>\n",
       "      <td>2020-10-26 19:36:00</td>\n",
       "      <td>0</td>\n",
       "      <td>0</td>\n",
       "    </tr>\n",
       "    <tr>\n",
       "      <th>1</th>\n",
       "      <td>72807</td>\n",
       "      <td>Ted Stevens Anchorage International</td>\n",
       "      <td>Anchorage</td>\n",
       "      <td>AK</td>\n",
       "      <td>61.174320</td>\n",
       "      <td>-149.996186</td>\n",
       "      <td>ANC</td>\n",
       "      <td>IAH</td>\n",
       "      <td>3266.0</td>\n",
       "      <td>UA</td>\n",
       "      <td>1000.0</td>\n",
       "      <td>2020-11-24 18:34:00</td>\n",
       "      <td>2020-11-25 00:00:00</td>\n",
       "      <td>0</td>\n",
       "      <td>0</td>\n",
       "    </tr>\n",
       "    <tr>\n",
       "      <th>2</th>\n",
       "      <td>174269</td>\n",
       "      <td>William B Hartsfield-Atlanta Intl</td>\n",
       "      <td>Atlanta</td>\n",
       "      <td>GA</td>\n",
       "      <td>33.640444</td>\n",
       "      <td>-84.426944</td>\n",
       "      <td>ATL</td>\n",
       "      <td>DEN</td>\n",
       "      <td>1199.0</td>\n",
       "      <td>DL</td>\n",
       "      <td>1000.0</td>\n",
       "      <td>2020-01-27 03:35:00</td>\n",
       "      <td>2020-01-27 05:34:00</td>\n",
       "      <td>0</td>\n",
       "      <td>0</td>\n",
       "    </tr>\n",
       "    <tr>\n",
       "      <th>3</th>\n",
       "      <td>185288</td>\n",
       "      <td>William B Hartsfield-Atlanta Intl</td>\n",
       "      <td>Atlanta</td>\n",
       "      <td>GA</td>\n",
       "      <td>33.640444</td>\n",
       "      <td>-84.426944</td>\n",
       "      <td>ATL</td>\n",
       "      <td>DFW</td>\n",
       "      <td>731.0</td>\n",
       "      <td>AA</td>\n",
       "      <td>1000.0</td>\n",
       "      <td>2020-03-01 10:11:00</td>\n",
       "      <td>2020-03-01 11:24:00</td>\n",
       "      <td>0</td>\n",
       "      <td>0</td>\n",
       "    </tr>\n",
       "    <tr>\n",
       "      <th>4</th>\n",
       "      <td>404505</td>\n",
       "      <td>William B Hartsfield-Atlanta Intl</td>\n",
       "      <td>Atlanta</td>\n",
       "      <td>GA</td>\n",
       "      <td>33.640444</td>\n",
       "      <td>-84.426944</td>\n",
       "      <td>ATL</td>\n",
       "      <td>PHL</td>\n",
       "      <td>666.0</td>\n",
       "      <td>AA</td>\n",
       "      <td>1000.0</td>\n",
       "      <td>2020-10-08 08:39:00</td>\n",
       "      <td>2020-10-08 09:45:00</td>\n",
       "      <td>0</td>\n",
       "      <td>0</td>\n",
       "    </tr>\n",
       "  </tbody>\n",
       "</table>\n",
       "</div>"
      ],
      "text/plain": [
       "    index                              AIRPORT       CITY STATE   LATITUDE  \\\n",
       "0   68438  Ted Stevens Anchorage International  Anchorage    AK  61.174320   \n",
       "1   72807  Ted Stevens Anchorage International  Anchorage    AK  61.174320   \n",
       "2  174269    William B Hartsfield-Atlanta Intl    Atlanta    GA  33.640444   \n",
       "3  185288    William B Hartsfield-Atlanta Intl    Atlanta    GA  33.640444   \n",
       "4  404505    William B Hartsfield-Atlanta Intl    Atlanta    GA  33.640444   \n",
       "\n",
       "    LONGITUDE Origin Dest   Miles AirlineCompany  PricePerTicket  \\\n",
       "0 -149.996186    ANC  DEN  2405.0             UA          1000.0   \n",
       "1 -149.996186    ANC  IAH  3266.0             UA          1000.0   \n",
       "2  -84.426944    ATL  DEN  1199.0             DL          1000.0   \n",
       "3  -84.426944    ATL  DFW   731.0             AA          1000.0   \n",
       "4  -84.426944    ATL  PHL   666.0             AA          1000.0   \n",
       "\n",
       "            departure             arrival  alt_price  AirBnB  \n",
       "0 2020-10-26 15:36:00 2020-10-26 19:36:00          0       0  \n",
       "1 2020-11-24 18:34:00 2020-11-25 00:00:00          0       0  \n",
       "2 2020-01-27 03:35:00 2020-01-27 05:34:00          0       0  \n",
       "3 2020-03-01 10:11:00 2020-03-01 11:24:00          0       0  \n",
       "4 2020-10-08 08:39:00 2020-10-08 09:45:00          0       0  "
      ]
     },
     "execution_count": 101,
     "metadata": {},
     "output_type": "execute_result"
    }
   ],
   "source": [
    "Search.reset_index(inplace = True)\n",
    "Search.head()"
   ]
  },
  {
   "cell_type": "code",
   "execution_count": 102,
   "id": "32b7fbd2",
   "metadata": {},
   "outputs": [],
   "source": [
    "frl=Search.Origin\n",
    "tol=Search.Dest"
   ]
  },
  {
   "cell_type": "code",
   "execution_count": 103,
   "id": "4ca15272",
   "metadata": {},
   "outputs": [],
   "source": [
    "startl = Search['departure'].apply(lambda x: x - np.timedelta64(5, 'D'))"
   ]
  },
  {
   "cell_type": "code",
   "execution_count": 104,
   "id": "e4c3c960",
   "metadata": {},
   "outputs": [],
   "source": [
    "endl = Search['arrival'].apply(lambda x: x + np.timedelta64(5, 'D'))"
   ]
  },
  {
   "cell_type": "code",
   "execution_count": 105,
   "id": "cedd920e",
   "metadata": {},
   "outputs": [
    {
     "name": "stdout",
     "output_type": "stream",
     "text": [
      "53.38128995895386\n"
     ]
    }
   ],
   "source": [
    "import time\n",
    "strat=time.time()\n",
    "\n",
    "monster = [search(a,b,c,d)['indirect'] for a, b, c, d in zip(frl,tol,startl,endl)]\n",
    "\n",
    "sotp = time.time()\n",
    "elapsed=sotp-strat\n",
    "print(elapsed)"
   ]
  },
  {
   "cell_type": "code",
   "execution_count": 106,
   "id": "5a683273",
   "metadata": {},
   "outputs": [
    {
     "data": {
      "text/plain": [
       "22"
      ]
     },
     "execution_count": 106,
     "metadata": {},
     "output_type": "execute_result"
    }
   ],
   "source": [
    "len([i for i in monster if not i.empty])"
   ]
  },
  {
   "cell_type": "code",
   "execution_count": 111,
   "id": "0d255595",
   "metadata": {},
   "outputs": [],
   "source": [
    "with open('Data/Outputs/monster', 'wb') as file:\n",
    "    pickle.dump(monster, file)"
   ]
  },
  {
   "cell_type": "code",
   "execution_count": 153,
   "id": "a9988b0d",
   "metadata": {},
   "outputs": [
    {
     "data": {
      "text/plain": [
       "64.0"
      ]
     },
     "execution_count": 153,
     "metadata": {},
     "output_type": "execute_result"
    }
   ],
   "source": [
    "# get airbnb\n",
    "dest='AUS'\n",
    "mpa[mpa['iata']==dest].q_price.values[0]"
   ]
  },
  {
   "cell_type": "code",
   "execution_count": 163,
   "id": "f047c796",
   "metadata": {},
   "outputs": [
    {
     "data": {
      "text/plain": [
       "95.452"
      ]
     },
     "execution_count": 163,
     "metadata": {},
     "output_type": "execute_result"
    }
   ],
   "source": [
    "# get flight price\n",
    "sched = 10\n",
    "monster[sched].nsmallest(5, 'PricePerTicket').PricePerTicket.mean()"
   ]
  },
  {
   "cell_type": "code",
   "execution_count": null,
   "id": "6eb5fcbc",
   "metadata": {},
   "outputs": [],
   "source": []
  }
 ],
 "metadata": {
  "kernelspec": {
   "display_name": "Python 3 (ipykernel)",
   "language": "python",
   "name": "python3"
  },
  "language_info": {
   "codemirror_mode": {
    "name": "ipython",
    "version": 3
   },
   "file_extension": ".py",
   "mimetype": "text/x-python",
   "name": "python",
   "nbconvert_exporter": "python",
   "pygments_lexer": "ipython3",
   "version": "3.9.7"
  }
 },
 "nbformat": 4,
 "nbformat_minor": 5
}
