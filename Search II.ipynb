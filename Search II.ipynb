{
 "cells": [
  {
   "cell_type": "code",
   "execution_count": 1,
   "id": "cc893909",
   "metadata": {},
   "outputs": [],
   "source": [
    "import matplotlib.pyplot as plt\n",
    "%matplotlib inline\n",
    "import numpy as np\n",
    "import pandas as pd\n",
    "import pickle"
   ]
  },
  {
   "cell_type": "markdown",
   "id": "43e009c8",
   "metadata": {},
   "source": [
    "### Import and process the data"
   ]
  },
  {
   "cell_type": "code",
   "execution_count": 2,
   "id": "71a4328b",
   "metadata": {},
   "outputs": [
    {
     "name": "stderr",
     "output_type": "stream",
     "text": [
      "/var/folders/gh/lf0mc7p936xfvjr53gs0s95m0000gn/T/ipykernel_22396/511557574.py:8: SettingWithCopyWarning: \n",
      "A value is trying to be set on a copy of a slice from a DataFrame\n",
      "\n",
      "See the caveats in the documentation: https://pandas.pydata.org/pandas-docs/stable/user_guide/indexing.html#returning-a-view-versus-a-copy\n",
      "  mpa.drop(['country', 'Unnamed: 0'], inplace=True, axis=1)\n"
     ]
    }
   ],
   "source": [
    "mp = pd.read_csv('Data/Outputs/mushed.csv')\n",
    "flights = pd.read_csv('Data/Outputs/flights.csv')\n",
    "flights.drop(['Unnamed: 0', 'ItinID', 'MktID',\n",
    "       'Quarter',  'OriginWac',  'DestWac', \n",
    "       'ContiguousUSA', 'NumTicketsOrdered'], axis=1, inplace=True)\n",
    "flights[['departure','arrival']] = flights[['departure','arrival']].astype(np.datetime64)\n",
    "mpa = mp[mp['iata'].isin(flights['Origin'].unique())]\n",
    "mpa.drop(['country', 'Unnamed: 0'], inplace=True, axis=1)\n",
    "ports = mpa[mpa['category']=='Airport']"
   ]
  },
  {
   "cell_type": "code",
   "execution_count": 83,
   "id": "dd409793",
   "metadata": {},
   "outputs": [],
   "source": [
    "with open('Data/Outputs/new_clusters', 'rb') as file:\n",
    "    clusters = pickle.load(file)    "
   ]
  },
  {
   "cell_type": "markdown",
   "id": "19f6ac13",
   "metadata": {},
   "source": [
    "### Search function peudocode:\n",
    "\n",
    "   **search_func**(_from, to, dates_range_):<br>\n",
    "        get direct flight if available</p>\n",
    "        limit the search by _dates_range_<br>\n",
    "        get label of from<br>\n",
    "        get label of to<br>\n",
    "        get all in label of to<br>\n",
    "        get all in label of from<br>\n",
    "        get all flights from _all_from_ to _all_to_ from the flights data set<br>\n",
    "        return **n** cheapest combinations\n",
    "    "
   ]
  },
  {
   "cell_type": "markdown",
   "id": "f20c0e76",
   "metadata": {},
   "source": [
    "### Search functioin"
   ]
  },
  {
   "cell_type": "code",
   "execution_count": 107,
   "id": "58e1b181",
   "metadata": {},
   "outputs": [],
   "source": [
    "def search(fr, to, start, stop):    \n",
    "    '''Search the flight data to find flights from origin 'fr' to destination 'to' and\n",
    "       cheapest flights from and to the respecting clusters in the time range 'start'-'stop'.\n",
    "        Start and stop dates are str in format YYYY-MM-DD.\n",
    "        'fr' and 'to' are strings of airport abbreviations like 'LAX'. \n",
    "        Returns dict of direct and indirect flights dataframes.'''    \n",
    "    # Search criteria\n",
    "    start = np.datetime64(start)\n",
    "    stop = np.datetime64(stop)    \n",
    "    # Get direct flights\n",
    "    dir_fl = flights[(flights['departure']<stop)\n",
    "                     &(flights['departure']>start)\n",
    "                     &(flights['Origin']==fr)\n",
    "                     &(flights['Dest']==to)]\n",
    "    # Get indirect flights\n",
    "    all_from = clusters[fr]\n",
    "    all_to = clusters[to]\n",
    "    all_options = flights[(flights['departure']<stop)\n",
    "                      &(flights['departure']>start)\n",
    "                      &(flights.Origin.isin(all_from))\n",
    "                      &(flights.Dest.isin(all_to))]\n",
    "    \n",
    "    return {'direct':dir_fl, 'indirect':all_options.nsmallest(20,'PricePerTicket')}"
   ]
  },
  {
   "cell_type": "markdown",
   "id": "694a3756",
   "metadata": {},
   "source": [
    "### Test the function once with arbitrary parameters."
   ]
  },
  {
   "cell_type": "code",
   "execution_count": 108,
   "id": "5c13502a",
   "metadata": {},
   "outputs": [],
   "source": [
    "res = search('BUR', 'SAT', '2020-01-30', '2020-02-12')"
   ]
  },
  {
   "cell_type": "code",
   "execution_count": 109,
   "id": "d835de9d",
   "metadata": {},
   "outputs": [
    {
     "data": {
      "text/html": [
       "<div>\n",
       "<style scoped>\n",
       "    .dataframe tbody tr th:only-of-type {\n",
       "        vertical-align: middle;\n",
       "    }\n",
       "\n",
       "    .dataframe tbody tr th {\n",
       "        vertical-align: top;\n",
       "    }\n",
       "\n",
       "    .dataframe thead th {\n",
       "        text-align: right;\n",
       "    }\n",
       "</style>\n",
       "<table border=\"1\" class=\"dataframe\">\n",
       "  <thead>\n",
       "    <tr style=\"text-align: right;\">\n",
       "      <th></th>\n",
       "      <th>AIRPORT</th>\n",
       "      <th>CITY</th>\n",
       "      <th>STATE</th>\n",
       "      <th>LATITUDE</th>\n",
       "      <th>LONGITUDE</th>\n",
       "      <th>Origin</th>\n",
       "      <th>Dest</th>\n",
       "      <th>Miles</th>\n",
       "      <th>AirlineCompany</th>\n",
       "      <th>PricePerTicket</th>\n",
       "      <th>departure</th>\n",
       "      <th>arrival</th>\n",
       "    </tr>\n",
       "  </thead>\n",
       "  <tbody>\n",
       "    <tr>\n",
       "      <th>1199104</th>\n",
       "      <td>Burbank-Glendale-Pasadena</td>\n",
       "      <td>Burbank</td>\n",
       "      <td>CA</td>\n",
       "      <td>34.200619</td>\n",
       "      <td>-118.358497</td>\n",
       "      <td>BUR</td>\n",
       "      <td>SAT</td>\n",
       "      <td>1211.0</td>\n",
       "      <td>WN</td>\n",
       "      <td>348.35</td>\n",
       "      <td>2020-02-04 16:00:00</td>\n",
       "      <td>2020-02-04 18:01:00</td>\n",
       "    </tr>\n",
       "  </tbody>\n",
       "</table>\n",
       "</div>"
      ],
      "text/plain": [
       "                           AIRPORT     CITY STATE   LATITUDE   LONGITUDE  \\\n",
       "1199104  Burbank-Glendale-Pasadena  Burbank    CA  34.200619 -118.358497   \n",
       "\n",
       "        Origin Dest   Miles AirlineCompany  PricePerTicket  \\\n",
       "1199104    BUR  SAT  1211.0             WN          348.35   \n",
       "\n",
       "                  departure             arrival  \n",
       "1199104 2020-02-04 16:00:00 2020-02-04 18:01:00  "
      ]
     },
     "execution_count": 109,
     "metadata": {},
     "output_type": "execute_result"
    }
   ],
   "source": [
    "res['direct']"
   ]
  },
  {
   "cell_type": "code",
   "execution_count": 110,
   "id": "9fed4ba1",
   "metadata": {
    "scrolled": true
   },
   "outputs": [
    {
     "data": {
      "text/html": [
       "<div>\n",
       "<style scoped>\n",
       "    .dataframe tbody tr th:only-of-type {\n",
       "        vertical-align: middle;\n",
       "    }\n",
       "\n",
       "    .dataframe tbody tr th {\n",
       "        vertical-align: top;\n",
       "    }\n",
       "\n",
       "    .dataframe thead th {\n",
       "        text-align: right;\n",
       "    }\n",
       "</style>\n",
       "<table border=\"1\" class=\"dataframe\">\n",
       "  <thead>\n",
       "    <tr style=\"text-align: right;\">\n",
       "      <th></th>\n",
       "      <th>AIRPORT</th>\n",
       "      <th>CITY</th>\n",
       "      <th>STATE</th>\n",
       "      <th>LATITUDE</th>\n",
       "      <th>LONGITUDE</th>\n",
       "      <th>Origin</th>\n",
       "      <th>Dest</th>\n",
       "      <th>Miles</th>\n",
       "      <th>AirlineCompany</th>\n",
       "      <th>PricePerTicket</th>\n",
       "      <th>departure</th>\n",
       "      <th>arrival</th>\n",
       "    </tr>\n",
       "  </thead>\n",
       "  <tbody>\n",
       "    <tr>\n",
       "      <th>6424279</th>\n",
       "      <td>Ontario International</td>\n",
       "      <td>Ontario</td>\n",
       "      <td>CA</td>\n",
       "      <td>34.056000</td>\n",
       "      <td>-117.601194</td>\n",
       "      <td>ONT</td>\n",
       "      <td>AUS</td>\n",
       "      <td>1196.0</td>\n",
       "      <td>F9</td>\n",
       "      <td>54.0</td>\n",
       "      <td>2020-01-30 04:26:00</td>\n",
       "      <td>2020-01-30 06:25:00</td>\n",
       "    </tr>\n",
       "    <tr>\n",
       "      <th>6424280</th>\n",
       "      <td>Ontario International</td>\n",
       "      <td>Ontario</td>\n",
       "      <td>CA</td>\n",
       "      <td>34.056000</td>\n",
       "      <td>-117.601194</td>\n",
       "      <td>ONT</td>\n",
       "      <td>AUS</td>\n",
       "      <td>1196.0</td>\n",
       "      <td>F9</td>\n",
       "      <td>54.5</td>\n",
       "      <td>2020-01-30 23:53:00</td>\n",
       "      <td>2020-01-31 01:52:00</td>\n",
       "    </tr>\n",
       "    <tr>\n",
       "      <th>6424281</th>\n",
       "      <td>Ontario International</td>\n",
       "      <td>Ontario</td>\n",
       "      <td>CA</td>\n",
       "      <td>34.056000</td>\n",
       "      <td>-117.601194</td>\n",
       "      <td>ONT</td>\n",
       "      <td>AUS</td>\n",
       "      <td>1196.0</td>\n",
       "      <td>F9</td>\n",
       "      <td>58.5</td>\n",
       "      <td>2020-01-31 19:20:00</td>\n",
       "      <td>2020-01-31 21:19:00</td>\n",
       "    </tr>\n",
       "    <tr>\n",
       "      <th>6424282</th>\n",
       "      <td>Ontario International</td>\n",
       "      <td>Ontario</td>\n",
       "      <td>CA</td>\n",
       "      <td>34.056000</td>\n",
       "      <td>-117.601194</td>\n",
       "      <td>ONT</td>\n",
       "      <td>AUS</td>\n",
       "      <td>1196.0</td>\n",
       "      <td>F9</td>\n",
       "      <td>59.5</td>\n",
       "      <td>2020-02-01 14:48:00</td>\n",
       "      <td>2020-02-01 16:47:00</td>\n",
       "    </tr>\n",
       "    <tr>\n",
       "      <th>5075888</th>\n",
       "      <td>Long Beach (Daugherty )</td>\n",
       "      <td>Long Beach</td>\n",
       "      <td>CA</td>\n",
       "      <td>33.817722</td>\n",
       "      <td>-118.151611</td>\n",
       "      <td>LGB</td>\n",
       "      <td>AUS</td>\n",
       "      <td>1226.0</td>\n",
       "      <td>B6</td>\n",
       "      <td>60.0</td>\n",
       "      <td>2020-02-01 18:16:00</td>\n",
       "      <td>2020-02-01 20:18:00</td>\n",
       "    </tr>\n",
       "  </tbody>\n",
       "</table>\n",
       "</div>"
      ],
      "text/plain": [
       "                         AIRPORT        CITY STATE   LATITUDE   LONGITUDE  \\\n",
       "6424279    Ontario International     Ontario    CA  34.056000 -117.601194   \n",
       "6424280    Ontario International     Ontario    CA  34.056000 -117.601194   \n",
       "6424281    Ontario International     Ontario    CA  34.056000 -117.601194   \n",
       "6424282    Ontario International     Ontario    CA  34.056000 -117.601194   \n",
       "5075888  Long Beach (Daugherty )  Long Beach    CA  33.817722 -118.151611   \n",
       "\n",
       "        Origin Dest   Miles AirlineCompany  PricePerTicket  \\\n",
       "6424279    ONT  AUS  1196.0             F9            54.0   \n",
       "6424280    ONT  AUS  1196.0             F9            54.5   \n",
       "6424281    ONT  AUS  1196.0             F9            58.5   \n",
       "6424282    ONT  AUS  1196.0             F9            59.5   \n",
       "5075888    LGB  AUS  1226.0             B6            60.0   \n",
       "\n",
       "                  departure             arrival  \n",
       "6424279 2020-01-30 04:26:00 2020-01-30 06:25:00  \n",
       "6424280 2020-01-30 23:53:00 2020-01-31 01:52:00  \n",
       "6424281 2020-01-31 19:20:00 2020-01-31 21:19:00  \n",
       "6424282 2020-02-01 14:48:00 2020-02-01 16:47:00  \n",
       "5075888 2020-02-01 18:16:00 2020-02-01 20:18:00  "
      ]
     },
     "execution_count": 110,
     "metadata": {},
     "output_type": "execute_result"
    }
   ],
   "source": [
    "res['indirect'].iloc[:5]"
   ]
  },
  {
   "cell_type": "markdown",
   "id": "ddebc786",
   "metadata": {},
   "source": [
    "#### Test if i can find cheaper alternative for more than 0.7 of flights that cost more than 200$"
   ]
  },
  {
   "cell_type": "raw",
   "id": "c0d9492e",
   "metadata": {},
   "source": [
    "merge area nad accomodation cost to the flights?"
   ]
  },
  {
   "cell_type": "markdown",
   "id": "e6bc46de",
   "metadata": {},
   "source": [
    "slice flights more than 200$ assign it to 'Search' df add a column alt_price, and AirBnB\n",
    "\n",
    "Find alternatives \n",
    "get average price of alternatives as an alt_price at the row\n",
    "if no alternative alt_price = 0\n",
    "search for the room price in the area fill it in AirBnB col, else add q_price, else add 0."
   ]
  },
  {
   "cell_type": "code",
   "execution_count": 99,
   "id": "8d476628",
   "metadata": {},
   "outputs": [],
   "source": [
    "Search = flights[flights['PricePerTicket']>200.0].nlargest(36, 'PricePerTicket')"
   ]
  },
  {
   "cell_type": "code",
   "execution_count": 100,
   "id": "40806676",
   "metadata": {},
   "outputs": [],
   "source": [
    "Search[['alt_price','AirBnB']]=0"
   ]
  },
  {
   "cell_type": "code",
   "execution_count": 101,
   "id": "bcfc0c7c",
   "metadata": {},
   "outputs": [
    {
     "data": {
      "text/html": [
       "<div>\n",
       "<style scoped>\n",
       "    .dataframe tbody tr th:only-of-type {\n",
       "        vertical-align: middle;\n",
       "    }\n",
       "\n",
       "    .dataframe tbody tr th {\n",
       "        vertical-align: top;\n",
       "    }\n",
       "\n",
       "    .dataframe thead th {\n",
       "        text-align: right;\n",
       "    }\n",
       "</style>\n",
       "<table border=\"1\" class=\"dataframe\">\n",
       "  <thead>\n",
       "    <tr style=\"text-align: right;\">\n",
       "      <th></th>\n",
       "      <th>index</th>\n",
       "      <th>AIRPORT</th>\n",
       "      <th>CITY</th>\n",
       "      <th>STATE</th>\n",
       "      <th>LATITUDE</th>\n",
       "      <th>LONGITUDE</th>\n",
       "      <th>Origin</th>\n",
       "      <th>Dest</th>\n",
       "      <th>Miles</th>\n",
       "      <th>AirlineCompany</th>\n",
       "      <th>PricePerTicket</th>\n",
       "      <th>departure</th>\n",
       "      <th>arrival</th>\n",
       "      <th>alt_price</th>\n",
       "      <th>AirBnB</th>\n",
       "    </tr>\n",
       "  </thead>\n",
       "  <tbody>\n",
       "    <tr>\n",
       "      <th>0</th>\n",
       "      <td>68438</td>\n",
       "      <td>Ted Stevens Anchorage International</td>\n",
       "      <td>Anchorage</td>\n",
       "      <td>AK</td>\n",
       "      <td>61.174320</td>\n",
       "      <td>-149.996186</td>\n",
       "      <td>ANC</td>\n",
       "      <td>DEN</td>\n",
       "      <td>2405.0</td>\n",
       "      <td>UA</td>\n",
       "      <td>1000.0</td>\n",
       "      <td>2020-10-26 15:36:00</td>\n",
       "      <td>2020-10-26 19:36:00</td>\n",
       "      <td>0</td>\n",
       "      <td>0</td>\n",
       "    </tr>\n",
       "    <tr>\n",
       "      <th>1</th>\n",
       "      <td>72807</td>\n",
       "      <td>Ted Stevens Anchorage International</td>\n",
       "      <td>Anchorage</td>\n",
       "      <td>AK</td>\n",
       "      <td>61.174320</td>\n",
       "      <td>-149.996186</td>\n",
       "      <td>ANC</td>\n",
       "      <td>IAH</td>\n",
       "      <td>3266.0</td>\n",
       "      <td>UA</td>\n",
       "      <td>1000.0</td>\n",
       "      <td>2020-11-24 18:34:00</td>\n",
       "      <td>2020-11-25 00:00:00</td>\n",
       "      <td>0</td>\n",
       "      <td>0</td>\n",
       "    </tr>\n",
       "    <tr>\n",
       "      <th>2</th>\n",
       "      <td>174269</td>\n",
       "      <td>William B Hartsfield-Atlanta Intl</td>\n",
       "      <td>Atlanta</td>\n",
       "      <td>GA</td>\n",
       "      <td>33.640444</td>\n",
       "      <td>-84.426944</td>\n",
       "      <td>ATL</td>\n",
       "      <td>DEN</td>\n",
       "      <td>1199.0</td>\n",
       "      <td>DL</td>\n",
       "      <td>1000.0</td>\n",
       "      <td>2020-01-27 03:35:00</td>\n",
       "      <td>2020-01-27 05:34:00</td>\n",
       "      <td>0</td>\n",
       "      <td>0</td>\n",
       "    </tr>\n",
       "    <tr>\n",
       "      <th>3</th>\n",
       "      <td>185288</td>\n",
       "      <td>William B Hartsfield-Atlanta Intl</td>\n",
       "      <td>Atlanta</td>\n",
       "      <td>GA</td>\n",
       "      <td>33.640444</td>\n",
       "      <td>-84.426944</td>\n",
       "      <td>ATL</td>\n",
       "      <td>DFW</td>\n",
       "      <td>731.0</td>\n",
       "      <td>AA</td>\n",
       "      <td>1000.0</td>\n",
       "      <td>2020-03-01 10:11:00</td>\n",
       "      <td>2020-03-01 11:24:00</td>\n",
       "      <td>0</td>\n",
       "      <td>0</td>\n",
       "    </tr>\n",
       "    <tr>\n",
       "      <th>4</th>\n",
       "      <td>404505</td>\n",
       "      <td>William B Hartsfield-Atlanta Intl</td>\n",
       "      <td>Atlanta</td>\n",
       "      <td>GA</td>\n",
       "      <td>33.640444</td>\n",
       "      <td>-84.426944</td>\n",
       "      <td>ATL</td>\n",
       "      <td>PHL</td>\n",
       "      <td>666.0</td>\n",
       "      <td>AA</td>\n",
       "      <td>1000.0</td>\n",
       "      <td>2020-10-08 08:39:00</td>\n",
       "      <td>2020-10-08 09:45:00</td>\n",
       "      <td>0</td>\n",
       "      <td>0</td>\n",
       "    </tr>\n",
       "  </tbody>\n",
       "</table>\n",
       "</div>"
      ],
      "text/plain": [
       "    index                              AIRPORT       CITY STATE   LATITUDE  \\\n",
       "0   68438  Ted Stevens Anchorage International  Anchorage    AK  61.174320   \n",
       "1   72807  Ted Stevens Anchorage International  Anchorage    AK  61.174320   \n",
       "2  174269    William B Hartsfield-Atlanta Intl    Atlanta    GA  33.640444   \n",
       "3  185288    William B Hartsfield-Atlanta Intl    Atlanta    GA  33.640444   \n",
       "4  404505    William B Hartsfield-Atlanta Intl    Atlanta    GA  33.640444   \n",
       "\n",
       "    LONGITUDE Origin Dest   Miles AirlineCompany  PricePerTicket  \\\n",
       "0 -149.996186    ANC  DEN  2405.0             UA          1000.0   \n",
       "1 -149.996186    ANC  IAH  3266.0             UA          1000.0   \n",
       "2  -84.426944    ATL  DEN  1199.0             DL          1000.0   \n",
       "3  -84.426944    ATL  DFW   731.0             AA          1000.0   \n",
       "4  -84.426944    ATL  PHL   666.0             AA          1000.0   \n",
       "\n",
       "            departure             arrival  alt_price  AirBnB  \n",
       "0 2020-10-26 15:36:00 2020-10-26 19:36:00          0       0  \n",
       "1 2020-11-24 18:34:00 2020-11-25 00:00:00          0       0  \n",
       "2 2020-01-27 03:35:00 2020-01-27 05:34:00          0       0  \n",
       "3 2020-03-01 10:11:00 2020-03-01 11:24:00          0       0  \n",
       "4 2020-10-08 08:39:00 2020-10-08 09:45:00          0       0  "
      ]
     },
     "execution_count": 101,
     "metadata": {},
     "output_type": "execute_result"
    }
   ],
   "source": [
    "Search.reset_index(inplace = True)\n",
    "Search.head()"
   ]
  },
  {
   "cell_type": "code",
   "execution_count": 102,
   "id": "32b7fbd2",
   "metadata": {},
   "outputs": [],
   "source": [
    "frl=Search.Origin\n",
    "tol=Search.Dest"
   ]
  },
  {
   "cell_type": "code",
   "execution_count": 103,
   "id": "4ca15272",
   "metadata": {},
   "outputs": [],
   "source": [
    "startl = Search['departure'].apply(lambda x: x - np.timedelta64(5, 'D'))"
   ]
  },
  {
   "cell_type": "code",
   "execution_count": 104,
   "id": "e4c3c960",
   "metadata": {},
   "outputs": [],
   "source": [
    "endl = Search['arrival'].apply(lambda x: x + np.timedelta64(5, 'D'))"
   ]
  },
  {
   "cell_type": "code",
   "execution_count": 105,
   "id": "96fea79d",
   "metadata": {},
   "outputs": [
    {
     "name": "stdout",
     "output_type": "stream",
     "text": [
      "53.38128995895386\n"
     ]
    }
   ],
   "source": [
    "import time\n",
    "strat=time.time()\n",
    "\n",
    "monster = [search(a,b,c,d)['indirect'] for a, b, c, d in zip(frl,tol,startl,endl)]\n",
    "\n",
    "sotp = time.time()\n",
    "elapsed=sotp-strat\n",
    "print(elapsed)"
   ]
  },
  {
   "cell_type": "code",
   "execution_count": 106,
   "id": "5a683273",
   "metadata": {},
   "outputs": [
    {
     "data": {
      "text/plain": [
       "22"
      ]
     },
     "execution_count": 106,
     "metadata": {},
     "output_type": "execute_result"
    }
   ],
   "source": [
    "len([i for i in monster if not i.empty])"
   ]
  },
  {
   "cell_type": "code",
   "execution_count": 111,
   "id": "0d255595",
   "metadata": {},
   "outputs": [],
   "source": [
    "with open('Data/Outputs/monster', 'wb') as file:\n",
    "    pickle.dump(monster, file)"
   ]
  },
  {
   "cell_type": "code",
   "execution_count": 96,
   "id": "acd54df0",
   "metadata": {},
   "outputs": [
    {
     "data": {
      "text/plain": [
       "3600"
      ]
     },
     "execution_count": 96,
     "metadata": {},
     "output_type": "execute_result"
    }
   ],
   "source": [
    "60**2"
   ]
  },
  {
   "cell_type": "code",
   "execution_count": 112,
   "id": "b019fa00",
   "metadata": {},
   "outputs": [
    {
     "data": {
      "text/plain": [
       "0.6111111111111112"
      ]
     },
     "execution_count": 112,
     "metadata": {},
     "output_type": "execute_result"
    }
   ],
   "source": [
    "22/36"
   ]
  },
  {
   "cell_type": "code",
   "execution_count": null,
   "id": "8afd02e3",
   "metadata": {},
   "outputs": [],
   "source": []
  }
 ],
 "metadata": {
  "kernelspec": {
   "display_name": "Python 3 (ipykernel)",
   "language": "python",
   "name": "python3"
  },
  "language_info": {
   "codemirror_mode": {
    "name": "ipython",
    "version": 3
   },
   "file_extension": ".py",
   "mimetype": "text/x-python",
   "name": "python",
   "nbconvert_exporter": "python",
   "pygments_lexer": "ipython3",
   "version": "3.9.7"
  }
 },
 "nbformat": 4,
 "nbformat_minor": 5
}
